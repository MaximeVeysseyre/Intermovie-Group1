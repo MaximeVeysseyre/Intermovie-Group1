{
 "metadata": {
  "language_info": {
   "codemirror_mode": {
    "name": "ipython",
    "version": 3
   },
   "file_extension": ".py",
   "mimetype": "text/x-python",
   "name": "python",
   "nbconvert_exporter": "python",
   "pygments_lexer": "ipython3",
   "version": "3.8.5-final"
  },
  "orig_nbformat": 2,
  "kernelspec": {
   "name": "Python 3.8.5 64-bit ('data-ia': conda)",
   "display_name": "Python 3.8.5 64-bit ('data-ia': conda)",
   "metadata": {
    "interpreter": {
     "hash": "b521198ca28846cc1e62545e6db678c2facd12f800abaadb2702f6952f824412"
    }
   }
  }
 },
 "nbformat": 4,
 "nbformat_minor": 2,
 "cells": [
  {
   "cell_type": "code",
   "execution_count": 1,
   "metadata": {
    "tags": []
   },
   "outputs": [],
   "source": [
    "%load_ext autoreload\n",
    "%autoreload 2\n",
    "\n",
    "from os import path, listdir, getcwd\n",
    "from src.credentials import Credentials as cr\n",
    "import csv\n",
    "import requests\n",
    "import sys\n",
    "import os\n",
    "import src.split_datas as sd \n",
    "import pandas as pd"
   ]
  },
  {
   "cell_type": "code",
   "execution_count": 6,
   "metadata": {
    "tags": []
   },
   "outputs": [
    {
     "output_type": "stream",
     "name": "stdout",
     "text": "c:\\Users\\utilisateur\\Documents\\Intermovie\\Intermovie-Group1\\data\\CURATED\\titleType\\\n['tconst', 'titleType', 'primaryTitle', 'originalTitle', 'isAdult', 'startYear', 'endYear', 'runtimeMinutes', 'genres']\nc:\\Users\\utilisateur\\Documents\\Intermovie\\Intermovie-Group1\\data\\CURATED\\titleType\\short.csv\nc:\\Users\\utilisateur\\Documents\\Intermovie\\Intermovie-Group1\\data\\CURATED\\titleType\\movie.csv\nc:\\Users\\utilisateur\\Documents\\Intermovie\\Intermovie-Group1\\data\\CURATED\\titleType\\tvMovie.csv\nc:\\Users\\utilisateur\\Documents\\Intermovie\\Intermovie-Group1\\data\\CURATED\\titleType\\tvSeries.csv\nc:\\Users\\utilisateur\\Documents\\Intermovie\\Intermovie-Group1\\data\\CURATED\\titleType\\tvEpisode.csv\nc:\\Users\\utilisateur\\Documents\\Intermovie\\Intermovie-Group1\\data\\CURATED\\titleType\\tvShort.csv\nc:\\Users\\utilisateur\\Documents\\Intermovie\\Intermovie-Group1\\data\\CURATED\\titleType\\tvMiniSeries.csv\nc:\\Users\\utilisateur\\Documents\\Intermovie\\Intermovie-Group1\\data\\CURATED\\titleType\\tvSpecial.csv\nc:\\Users\\utilisateur\\Documents\\Intermovie\\Intermovie-Group1\\data\\CURATED\\titleType\\video.csv\nc:\\Users\\utilisateur\\Documents\\Intermovie\\Intermovie-Group1\\data\\CURATED\\titleType\\videoGame.csv\n"
    }
   ],
   "source": [
    "sd.split_datas(cr.TITLE_BASICS, 'titleType')"
   ]
  },
  {
   "cell_type": "code",
   "execution_count": null,
   "metadata": {
    "tags": []
   },
   "outputs": [],
   "source": []
  },
  {
   "cell_type": "code",
   "execution_count": 7,
   "metadata": {},
   "outputs": [
    {
     "output_type": "error",
     "ename": "ValueError",
     "evalue": "Usecols do not match columns, columns expected but not found: ['tconst', 'originalTitle']",
     "traceback": [
      "\u001b[1;31m---------------------------------------------------------------------------\u001b[0m",
      "\u001b[1;31mValueError\u001b[0m                                Traceback (most recent call last)",
      "\u001b[1;32m<ipython-input-7-67f9ef2e2a0d>\u001b[0m in \u001b[0;36m<module>\u001b[1;34m\u001b[0m\n\u001b[1;32m----> 1\u001b[1;33m \u001b[0mglobal_title_basics\u001b[0m \u001b[1;33m=\u001b[0m \u001b[0mpd\u001b[0m\u001b[1;33m.\u001b[0m\u001b[0mread_csv\u001b[0m\u001b[1;33m(\u001b[0m\u001b[1;34m\"./data/CURATED/titleType/movie.csv\"\u001b[0m\u001b[1;33m,\u001b[0m \u001b[0musecols\u001b[0m \u001b[1;33m=\u001b[0m \u001b[1;33m[\u001b[0m\u001b[1;34m'tconst'\u001b[0m\u001b[1;33m,\u001b[0m \u001b[1;34m'originalTitle'\u001b[0m\u001b[1;33m]\u001b[0m\u001b[1;33m)\u001b[0m\u001b[1;33m\u001b[0m\u001b[1;33m\u001b[0m\u001b[0m\n\u001b[0m\u001b[0;32m      2\u001b[0m \u001b[0mglobal_title_basics\u001b[0m \u001b[1;33m=\u001b[0m \u001b[0mglobal_title_basics\u001b[0m\u001b[1;33m.\u001b[0m\u001b[0mdropna\u001b[0m\u001b[1;33m(\u001b[0m\u001b[0maxis\u001b[0m \u001b[1;33m=\u001b[0m \u001b[1;36m0\u001b[0m\u001b[1;33m)\u001b[0m\u001b[1;33m\u001b[0m\u001b[1;33m\u001b[0m\u001b[0m\n\u001b[0;32m      3\u001b[0m \u001b[0mglobal_title_basics\u001b[0m \u001b[1;33m=\u001b[0m \u001b[0mglobal_title_basics\u001b[0m\u001b[1;33m.\u001b[0m\u001b[0mdrop_duplicates\u001b[0m\u001b[1;33m(\u001b[0m\u001b[1;33m)\u001b[0m\u001b[1;33m\u001b[0m\u001b[1;33m\u001b[0m\u001b[0m\n\u001b[0;32m      4\u001b[0m \u001b[0mglobal_title_basics\u001b[0m\u001b[1;33m.\u001b[0m\u001b[0mdescribe\u001b[0m\u001b[1;33m(\u001b[0m\u001b[1;33m)\u001b[0m\u001b[1;33m\u001b[0m\u001b[1;33m\u001b[0m\u001b[0m\n",
      "\u001b[1;32m~\\anaconda3\\envs\\data-ia\\lib\\site-packages\\pandas\\io\\parsers.py\u001b[0m in \u001b[0;36mread_csv\u001b[1;34m(filepath_or_buffer, sep, delimiter, header, names, index_col, usecols, squeeze, prefix, mangle_dupe_cols, dtype, engine, converters, true_values, false_values, skipinitialspace, skiprows, skipfooter, nrows, na_values, keep_default_na, na_filter, verbose, skip_blank_lines, parse_dates, infer_datetime_format, keep_date_col, date_parser, dayfirst, cache_dates, iterator, chunksize, compression, thousands, decimal, lineterminator, quotechar, quoting, doublequote, escapechar, comment, encoding, dialect, error_bad_lines, warn_bad_lines, delim_whitespace, low_memory, memory_map, float_precision)\u001b[0m\n\u001b[0;32m    684\u001b[0m     )\n\u001b[0;32m    685\u001b[0m \u001b[1;33m\u001b[0m\u001b[0m\n\u001b[1;32m--> 686\u001b[1;33m     \u001b[1;32mreturn\u001b[0m \u001b[0m_read\u001b[0m\u001b[1;33m(\u001b[0m\u001b[0mfilepath_or_buffer\u001b[0m\u001b[1;33m,\u001b[0m \u001b[0mkwds\u001b[0m\u001b[1;33m)\u001b[0m\u001b[1;33m\u001b[0m\u001b[1;33m\u001b[0m\u001b[0m\n\u001b[0m\u001b[0;32m    687\u001b[0m \u001b[1;33m\u001b[0m\u001b[0m\n\u001b[0;32m    688\u001b[0m \u001b[1;33m\u001b[0m\u001b[0m\n",
      "\u001b[1;32m~\\anaconda3\\envs\\data-ia\\lib\\site-packages\\pandas\\io\\parsers.py\u001b[0m in \u001b[0;36m_read\u001b[1;34m(filepath_or_buffer, kwds)\u001b[0m\n\u001b[0;32m    450\u001b[0m \u001b[1;33m\u001b[0m\u001b[0m\n\u001b[0;32m    451\u001b[0m     \u001b[1;31m# Create the parser.\u001b[0m\u001b[1;33m\u001b[0m\u001b[1;33m\u001b[0m\u001b[1;33m\u001b[0m\u001b[0m\n\u001b[1;32m--> 452\u001b[1;33m     \u001b[0mparser\u001b[0m \u001b[1;33m=\u001b[0m \u001b[0mTextFileReader\u001b[0m\u001b[1;33m(\u001b[0m\u001b[0mfp_or_buf\u001b[0m\u001b[1;33m,\u001b[0m \u001b[1;33m**\u001b[0m\u001b[0mkwds\u001b[0m\u001b[1;33m)\u001b[0m\u001b[1;33m\u001b[0m\u001b[1;33m\u001b[0m\u001b[0m\n\u001b[0m\u001b[0;32m    453\u001b[0m \u001b[1;33m\u001b[0m\u001b[0m\n\u001b[0;32m    454\u001b[0m     \u001b[1;32mif\u001b[0m \u001b[0mchunksize\u001b[0m \u001b[1;32mor\u001b[0m \u001b[0miterator\u001b[0m\u001b[1;33m:\u001b[0m\u001b[1;33m\u001b[0m\u001b[1;33m\u001b[0m\u001b[0m\n",
      "\u001b[1;32m~\\anaconda3\\envs\\data-ia\\lib\\site-packages\\pandas\\io\\parsers.py\u001b[0m in \u001b[0;36m__init__\u001b[1;34m(self, f, engine, **kwds)\u001b[0m\n\u001b[0;32m    934\u001b[0m             \u001b[0mself\u001b[0m\u001b[1;33m.\u001b[0m\u001b[0moptions\u001b[0m\u001b[1;33m[\u001b[0m\u001b[1;34m\"has_index_names\"\u001b[0m\u001b[1;33m]\u001b[0m \u001b[1;33m=\u001b[0m \u001b[0mkwds\u001b[0m\u001b[1;33m[\u001b[0m\u001b[1;34m\"has_index_names\"\u001b[0m\u001b[1;33m]\u001b[0m\u001b[1;33m\u001b[0m\u001b[1;33m\u001b[0m\u001b[0m\n\u001b[0;32m    935\u001b[0m \u001b[1;33m\u001b[0m\u001b[0m\n\u001b[1;32m--> 936\u001b[1;33m         \u001b[0mself\u001b[0m\u001b[1;33m.\u001b[0m\u001b[0m_make_engine\u001b[0m\u001b[1;33m(\u001b[0m\u001b[0mself\u001b[0m\u001b[1;33m.\u001b[0m\u001b[0mengine\u001b[0m\u001b[1;33m)\u001b[0m\u001b[1;33m\u001b[0m\u001b[1;33m\u001b[0m\u001b[0m\n\u001b[0m\u001b[0;32m    937\u001b[0m \u001b[1;33m\u001b[0m\u001b[0m\n\u001b[0;32m    938\u001b[0m     \u001b[1;32mdef\u001b[0m \u001b[0mclose\u001b[0m\u001b[1;33m(\u001b[0m\u001b[0mself\u001b[0m\u001b[1;33m)\u001b[0m\u001b[1;33m:\u001b[0m\u001b[1;33m\u001b[0m\u001b[1;33m\u001b[0m\u001b[0m\n",
      "\u001b[1;32m~\\anaconda3\\envs\\data-ia\\lib\\site-packages\\pandas\\io\\parsers.py\u001b[0m in \u001b[0;36m_make_engine\u001b[1;34m(self, engine)\u001b[0m\n\u001b[0;32m   1166\u001b[0m     \u001b[1;32mdef\u001b[0m \u001b[0m_make_engine\u001b[0m\u001b[1;33m(\u001b[0m\u001b[0mself\u001b[0m\u001b[1;33m,\u001b[0m \u001b[0mengine\u001b[0m\u001b[1;33m=\u001b[0m\u001b[1;34m\"c\"\u001b[0m\u001b[1;33m)\u001b[0m\u001b[1;33m:\u001b[0m\u001b[1;33m\u001b[0m\u001b[1;33m\u001b[0m\u001b[0m\n\u001b[0;32m   1167\u001b[0m         \u001b[1;32mif\u001b[0m \u001b[0mengine\u001b[0m \u001b[1;33m==\u001b[0m \u001b[1;34m\"c\"\u001b[0m\u001b[1;33m:\u001b[0m\u001b[1;33m\u001b[0m\u001b[1;33m\u001b[0m\u001b[0m\n\u001b[1;32m-> 1168\u001b[1;33m             \u001b[0mself\u001b[0m\u001b[1;33m.\u001b[0m\u001b[0m_engine\u001b[0m \u001b[1;33m=\u001b[0m \u001b[0mCParserWrapper\u001b[0m\u001b[1;33m(\u001b[0m\u001b[0mself\u001b[0m\u001b[1;33m.\u001b[0m\u001b[0mf\u001b[0m\u001b[1;33m,\u001b[0m \u001b[1;33m**\u001b[0m\u001b[0mself\u001b[0m\u001b[1;33m.\u001b[0m\u001b[0moptions\u001b[0m\u001b[1;33m)\u001b[0m\u001b[1;33m\u001b[0m\u001b[1;33m\u001b[0m\u001b[0m\n\u001b[0m\u001b[0;32m   1169\u001b[0m         \u001b[1;32melse\u001b[0m\u001b[1;33m:\u001b[0m\u001b[1;33m\u001b[0m\u001b[1;33m\u001b[0m\u001b[0m\n\u001b[0;32m   1170\u001b[0m             \u001b[1;32mif\u001b[0m \u001b[0mengine\u001b[0m \u001b[1;33m==\u001b[0m \u001b[1;34m\"python\"\u001b[0m\u001b[1;33m:\u001b[0m\u001b[1;33m\u001b[0m\u001b[1;33m\u001b[0m\u001b[0m\n",
      "\u001b[1;32m~\\anaconda3\\envs\\data-ia\\lib\\site-packages\\pandas\\io\\parsers.py\u001b[0m in \u001b[0;36m__init__\u001b[1;34m(self, src, **kwds)\u001b[0m\n\u001b[0;32m   2042\u001b[0m                 \u001b[0mself\u001b[0m\u001b[1;33m.\u001b[0m\u001b[0morig_names\u001b[0m\u001b[1;33m\u001b[0m\u001b[1;33m\u001b[0m\u001b[0m\n\u001b[0;32m   2043\u001b[0m             ):\n\u001b[1;32m-> 2044\u001b[1;33m                 \u001b[0m_validate_usecols_names\u001b[0m\u001b[1;33m(\u001b[0m\u001b[0musecols\u001b[0m\u001b[1;33m,\u001b[0m \u001b[0mself\u001b[0m\u001b[1;33m.\u001b[0m\u001b[0morig_names\u001b[0m\u001b[1;33m)\u001b[0m\u001b[1;33m\u001b[0m\u001b[1;33m\u001b[0m\u001b[0m\n\u001b[0m\u001b[0;32m   2045\u001b[0m \u001b[1;33m\u001b[0m\u001b[0m\n\u001b[0;32m   2046\u001b[0m             \u001b[1;32mif\u001b[0m \u001b[0mlen\u001b[0m\u001b[1;33m(\u001b[0m\u001b[0mself\u001b[0m\u001b[1;33m.\u001b[0m\u001b[0mnames\u001b[0m\u001b[1;33m)\u001b[0m \u001b[1;33m>\u001b[0m \u001b[0mlen\u001b[0m\u001b[1;33m(\u001b[0m\u001b[0musecols\u001b[0m\u001b[1;33m)\u001b[0m\u001b[1;33m:\u001b[0m\u001b[1;33m\u001b[0m\u001b[1;33m\u001b[0m\u001b[0m\n",
      "\u001b[1;32m~\\anaconda3\\envs\\data-ia\\lib\\site-packages\\pandas\\io\\parsers.py\u001b[0m in \u001b[0;36m_validate_usecols_names\u001b[1;34m(usecols, names)\u001b[0m\n\u001b[0;32m   1290\u001b[0m     \u001b[0mmissing\u001b[0m \u001b[1;33m=\u001b[0m \u001b[1;33m[\u001b[0m\u001b[0mc\u001b[0m \u001b[1;32mfor\u001b[0m \u001b[0mc\u001b[0m \u001b[1;32min\u001b[0m \u001b[0musecols\u001b[0m \u001b[1;32mif\u001b[0m \u001b[0mc\u001b[0m \u001b[1;32mnot\u001b[0m \u001b[1;32min\u001b[0m \u001b[0mnames\u001b[0m\u001b[1;33m]\u001b[0m\u001b[1;33m\u001b[0m\u001b[1;33m\u001b[0m\u001b[0m\n\u001b[0;32m   1291\u001b[0m     \u001b[1;32mif\u001b[0m \u001b[0mlen\u001b[0m\u001b[1;33m(\u001b[0m\u001b[0mmissing\u001b[0m\u001b[1;33m)\u001b[0m \u001b[1;33m>\u001b[0m \u001b[1;36m0\u001b[0m\u001b[1;33m:\u001b[0m\u001b[1;33m\u001b[0m\u001b[1;33m\u001b[0m\u001b[0m\n\u001b[1;32m-> 1292\u001b[1;33m         raise ValueError(\n\u001b[0m\u001b[0;32m   1293\u001b[0m             \u001b[1;34mf\"Usecols do not match columns, columns expected but not found: {missing}\"\u001b[0m\u001b[1;33m\u001b[0m\u001b[1;33m\u001b[0m\u001b[0m\n\u001b[0;32m   1294\u001b[0m         )\n",
      "\u001b[1;31mValueError\u001b[0m: Usecols do not match columns, columns expected but not found: ['tconst', 'originalTitle']"
     ]
    }
   ],
   "source": [
    "global_title_basics = pd.read_csv(\"./data/CURATED/titleType/movie.csv\", usecols = ['tconst', 'originalTitle'])\n",
    "global_title_basics = global_title_basics.dropna(axis = 0)\n",
    "global_title_basics = global_title_basics.drop_duplicates()\n",
    "global_title_basics.describe()"
   ]
  },
  {
   "cell_type": "code",
   "execution_count": null,
   "metadata": {},
   "outputs": [],
   "source": [
    "sd.split_datas(cr.TITLE_PRINCIPALS, 'category')"
   ]
  },
  {
   "cell_type": "code",
   "execution_count": null,
   "metadata": {},
   "outputs": [],
   "source": [
    "global_actor = pd.read_csv(\"./data/CURATED/category/actor.csv\", usecols = ['tconst', 'nconst'])\n",
    "global_actress = pd.read_csv(\"./data/CURATED/category/actress.csv\", usecols = ['tconst', 'nconst'])\n",
    "global_self = pd.read_csv(\"./data/CURATED/category/self.csv\", usecols = ['tconst', 'nconst'])\n",
    "global_title_principals = pd.concat([global_actor, global_actress, global_self])\n",
    "global_title_principals = global_title_principals.dropna(axis = 0)\n",
    "global_title_principals = global_title_principals.drop_duplicates()\n",
    "global_title_principals.describe()"
   ]
  },
  {
   "cell_type": "code",
   "execution_count": null,
   "metadata": {},
   "outputs": [],
   "source": [
    "global_name_basics = pd.read_csv(\"./data/RAW/name.basics.tsv\", usecols = ['nconst', 'primaryName'], delimiter = '\\t')\n",
    "global_name_basics = global_name_basics.dropna(axis = 0)\n",
    "global_name_basics = global_name_basics.drop_duplicates()\n",
    "global_name_basics.describe()"
   ]
  },
  {
   "cell_type": "code",
   "execution_count": null,
   "metadata": {},
   "outputs": [],
   "source": [
    "local_request_1 = global_title_principals.merge(global_title_basics, how = 'left', on = 'tconst')\n",
    "local_request_1 = local_request_1.merge(global_name_basics, how = 'left', on = 'nconst')\n",
    "local_request_1 = local_request_1.drop(['tconst', 'nconst'], axis = 1)\n",
    "local_request_1 = local_request_1.dropna(axis = 0)\n",
    "local_request_1_final = local_request_1.groupby('originalTitle').agg({'primaryName': ','.join}, axis = 0)"
   ]
  },
  {
   "cell_type": "code",
   "execution_count": null,
   "metadata": {},
   "outputs": [],
   "source": [
    "local_request_1_final.to_csv('./data/REQUESTS/request_1.csv')"
   ]
  },
  {
   "source": [
    "2- Liste des films Américains (en gardant leur nom en français) et leur note moyenne"
   ],
   "cell_type": "markdown",
   "metadata": {}
  },
  {
   "cell_type": "code",
   "execution_count": null,
   "metadata": {},
   "outputs": [],
   "source": [
    "sd.split_datas(cr.TITLE_AKAS, 'region')"
   ]
  },
  {
   "cell_type": "code",
   "execution_count": null,
   "metadata": {},
   "outputs": [],
   "source": [
    "global_title_akas = pd.read_csv(\"./data/CURATED/region/US.csv\", usecols = ['titleId'])\n",
    "global_title_akas = global_title_akas.dropna(axis = 0)\n",
    "global_title_akas = global_title_akas.drop_duplicates()\n",
    "global_title_akas = global_title_akas.rename(columns = {'titleId' : 'tconst'})\n",
    "global_title_akas.describe()"
   ]
  },
  {
   "cell_type": "code",
   "execution_count": null,
   "metadata": {},
   "outputs": [],
   "source": [
    "global_title_basics = pd.read_csv(\"./data/CURATED/titleType/movie.csv\", usecols = ['tconst', 'originalTitle'])\n",
    "global_title_basics = global_title_basics.dropna(axis = 0)\n",
    "global_title_basics = global_title_basics.drop_duplicates()\n",
    "global_title_basics.describe()"
   ]
  },
  {
   "cell_type": "code",
   "execution_count": null,
   "metadata": {},
   "outputs": [],
   "source": [
    "global_title_ratings = pd.read_csv(\"./data/RAW/title.ratings.tsv\", usecols = ['tconst', 'averageRating'], delimiter = '\\t')\n",
    "global_title_ratings = global_title_ratings.dropna(axis=0)\n",
    "global_title_ratings = global_title_ratings.drop_duplicates()\n",
    "global_title_ratings.describe()"
   ]
  },
  {
   "cell_type": "code",
   "execution_count": null,
   "metadata": {},
   "outputs": [],
   "source": [
    "local_request_2 = global_title_akas.merge(global_title_basics, how = 'left', on = 'tconst')\n",
    "local_request_2 = local_request_2.merge(global_title_ratings, how = 'left', on = 'tconst')\n",
    "del global_title_akas\n",
    "del global_title_basics\n",
    "del global_title_ratings\n",
    "local_request_2 = local_request_2.drop(['tconst'], axis = 1)\n",
    "local_request_2 = local_request_2.dropna(axis = 0)\n",
    "local_request_2 = local_request_2.drop_duplicates()"
   ]
  },
  {
   "cell_type": "code",
   "execution_count": null,
   "metadata": {},
   "outputs": [],
   "source": [
    "local_request_2.to_csv('./data/REQUESTS/request_2.csv')"
   ]
  },
  {
   "cell_type": "code",
   "execution_count": null,
   "metadata": {},
   "outputs": [],
   "source": [
    "mean_averageRating = local_request_2['averageRating'].mean()\n",
    "print(mean_averageRating)\n",
    "del local_request_2"
   ]
  },
  {
   "source": [
    "3- Les notes moyennes des différents genres\n",
    "\n",
    "\n",
    "\n"
   ],
   "cell_type": "markdown",
   "metadata": {}
  },
  {
   "cell_type": "code",
   "execution_count": null,
   "metadata": {},
   "outputs": [],
   "source": [
    "global_title_basics = pd.read_csv(\"./data/RAW/title.basics.tsv\", usecols = ['tconst', 'genres'], delimiter = '\\t')\n",
    "global_title_basics_split = global_title_basics['genres'].str.split(\",\", expand = True)\n",
    "global_title_basics_split = global_title_basics_split.join(global_title_basics).drop(['genres'], axis = 1)\n",
    "del global_title_basics\n",
    "global_title_ratings = pd.read_csv(\"./data/RAW/title.ratings.tsv\", usecols = ['tconst', 'averageRating'], delimiter = '\\t')\n",
    "local_request_3 = global_title_basics_split.merge(global_title_ratings, how = 'left', on = 'tconst')"
   ]
  },
  {
   "cell_type": "code",
   "execution_count": null,
   "metadata": {},
   "outputs": [],
   "source": [
    "local_mean_1 = local_request_3.groupby([0])['averageRating'].mean()\n",
    "local_mean_2 = local_request_3.groupby([1])['averageRating'].mean()\n",
    "local_mean_3 = local_request_3.groupby([2])['averageRating'].mean()\n",
    "local_mean = pd.concat([local_mean_1, local_mean_2, local_mean_3], axis = 1, keys = [\"mean1\", \"mean2\", \"mean3\"])\n",
    "del global_title_basics_split\n",
    "del global_title_ratings\n",
    "del local_mean_1\n",
    "del local_mean_2\n",
    "del local_mean_3\n",
    "local_mean['mean'] = local_mean[['mean1', 'mean2', 'mean3']].mean(axis = 1)\n",
    "local_request_3 = local_mean.drop(['mean1', 'mean2', 'mean3'], axis = 1)\n",
    "del local_mean"
   ]
  },
  {
   "cell_type": "code",
   "execution_count": null,
   "metadata": {},
   "outputs": [],
   "source": [
    "local_request_3.to_csv('./data/REQUESTS/request_3.csv')"
   ]
  },
  {
   "cell_type": "code",
   "execution_count": null,
   "metadata": {},
   "outputs": [],
   "source": []
  }
 ]
}