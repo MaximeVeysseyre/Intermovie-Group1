{
 "metadata": {
  "language_info": {
   "codemirror_mode": {
    "name": "ipython",
    "version": 3
   },
   "file_extension": ".py",
   "mimetype": "text/x-python",
   "name": "python",
   "nbconvert_exporter": "python",
   "pygments_lexer": "ipython3",
   "version": "3.8.5-final"
  },
  "orig_nbformat": 2,
  "kernelspec": {
   "name": "Python 3.8.5 64-bit ('data-ia': conda)",
   "display_name": "Python 3.8.5 64-bit ('data-ia': conda)",
   "metadata": {
    "interpreter": {
     "hash": "b521198ca28846cc1e62545e6db678c2facd12f800abaadb2702f6952f824412"
    }
   }
  }
 },
 "nbformat": 4,
 "nbformat_minor": 2,
 "cells": [
  {
   "cell_type": "code",
   "execution_count": 1,
   "metadata": {
    "tags": []
   },
   "outputs": [],
   "source": [
    "%load_ext autoreload\n",
    "%autoreload 2\n",
    "\n",
    "from os import path, listdir, getcwd\n",
    "from src.credentials import Credentials as cr\n",
    "import csv\n",
    "import requests\n",
    "import sys\n",
    "import os\n",
    "import src.split_datas as sd \n",
    "import pandas as pd"
   ]
  },
  {
   "cell_type": "code",
   "execution_count": null,
   "metadata": {
    "tags": []
   },
   "outputs": [],
   "source": [
    "sd.split_datas(cr.TITLE_BASICS, 'titleType')"
   ]
  },
  {
   "cell_type": "code",
   "execution_count": null,
   "metadata": {
    "tags": []
   },
   "outputs": [],
   "source": []
  },
  {
   "cell_type": "code",
   "execution_count": null,
   "metadata": {},
   "outputs": [],
   "source": [
    "global_title_basics = pd.read_csv(\"./data/CURATED/titleType/movie.csv\", usecols = ['tconst', 'originalTitle'])\n",
    "global_title_basics = global_title_basics.dropna(axis = 0)\n",
    "global_title_basics = global_title_basics.drop_duplicates()\n",
    "global_title_basics.describe()"
   ]
  },
  {
   "cell_type": "code",
   "execution_count": null,
   "metadata": {},
   "outputs": [],
   "source": [
    "sd.split_datas(cr.TITLE_PRINCIPALS, 'category')"
   ]
  },
  {
   "cell_type": "code",
   "execution_count": null,
   "metadata": {},
   "outputs": [],
   "source": [
    "global_actor = pd.read_csv(\"./data/CURATED/category/actor.csv\", usecols = ['tconst', 'nconst'])\n",
    "global_actress = pd.read_csv(\"./data/CURATED/category/actress.csv\", usecols = ['tconst', 'nconst'])\n",
    "global_self = pd.read_csv(\"./data/CURATED/category/self.csv\", usecols = ['tconst', 'nconst'])\n",
    "global_title_principals = pd.concat([global_actor, global_actress, global_self])\n",
    "global_title_principals = global_title_principals.dropna(axis = 0)\n",
    "global_title_principals = global_title_principals.drop_duplicates()\n",
    "global_title_principals.describe()"
   ]
  },
  {
   "cell_type": "code",
   "execution_count": null,
   "metadata": {},
   "outputs": [],
   "source": [
    "global_name_basics = pd.read_csv(\"./data/RAW/name.basics.tsv\", usecols = ['nconst', 'primaryName'], delimiter = '\\t')\n",
    "global_name_basics = global_name_basics.dropna(axis = 0)\n",
    "global_name_basics = global_name_basics.drop_duplicates()\n",
    "global_name_basics.describe()"
   ]
  },
  {
   "cell_type": "code",
   "execution_count": null,
   "metadata": {},
   "outputs": [],
   "source": [
    "local_request_1 = global_title_principals.merge(global_title_basics, how = 'left', on = 'tconst')\n",
    "local_request_1 = local_request_1.merge(global_name_basics, how = 'left', on = 'nconst')\n",
    "local_request_1 = local_request_1.drop(['tconst', 'nconst'], axis = 1)\n",
    "local_request_1 = local_request_1.dropna(axis = 0)\n",
    "local_request_1_final = local_request_1.groupby('originalTitle').agg({'primaryName': ','.join}, axis = 0)"
   ]
  },
  {
   "cell_type": "code",
   "execution_count": null,
   "metadata": {},
   "outputs": [],
   "source": [
    "local_request_1_final.to_csv('./data/REQUESTS/request_1.csv')"
   ]
  }
 ]
}