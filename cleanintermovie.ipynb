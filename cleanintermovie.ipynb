{
 "metadata": {
  "language_info": {
   "codemirror_mode": {
    "name": "ipython",
    "version": 3
   },
   "file_extension": ".py",
   "mimetype": "text/x-python",
   "name": "python",
   "nbconvert_exporter": "python",
   "pygments_lexer": "ipython3",
   "version": "3.8.5-final"
  },
  "orig_nbformat": 2,
  "kernelspec": {
   "name": "Python 3.8.5 64-bit ('data-ia': conda)",
   "display_name": "Python 3.8.5 64-bit ('data-ia': conda)",
   "metadata": {
    "interpreter": {
     "hash": "b521198ca28846cc1e62545e6db678c2facd12f800abaadb2702f6952f824412"
    }
   }
  }
 },
 "nbformat": 4,
 "nbformat_minor": 2,
 "cells": [
  {
   "cell_type": "code",
   "execution_count": 11,
   "metadata": {
    "tags": []
   },
   "outputs": [
    {
     "output_type": "stream",
     "name": "stdout",
     "text": "The autoreload extension is already loaded. To reload it, use:\n  %reload_ext autoreload\n"
    }
   ],
   "source": [
    "%load_ext autoreload\n",
    "%autoreload 2\n",
    "\n",
    "from os import path, listdir, getcwd\n",
    "from src.credentials import Credentials as cr\n",
    "import csv\n",
    "import requests\n",
    "import sys\n",
    "import os\n",
    "import src.split_datas as sd \n",
    "import pandas as pd"
   ]
  },
  {
   "cell_type": "code",
   "execution_count": 12,
   "metadata": {
    "tags": []
   },
   "outputs": [
    {
     "output_type": "stream",
     "name": "stdout",
     "text": "c:\\Users\\utilisateur\\Documents\\Intermovie\\Intermovie-Group1\\data\\CURATED\\titleType\\\nc:\\Users\\utilisateur\\Documents\\Intermovie\\Intermovie-Group1\\data\\CURATED\\titleType\\short.csv\nc:\\Users\\utilisateur\\Documents\\Intermovie\\Intermovie-Group1\\data\\CURATED\\titleType\\movie.csv\nc:\\Users\\utilisateur\\Documents\\Intermovie\\Intermovie-Group1\\data\\CURATED\\titleType\\tvMovie.csv\nc:\\Users\\utilisateur\\Documents\\Intermovie\\Intermovie-Group1\\data\\CURATED\\titleType\\tvSeries.csv\nc:\\Users\\utilisateur\\Documents\\Intermovie\\Intermovie-Group1\\data\\CURATED\\titleType\\tvEpisode.csv\nc:\\Users\\utilisateur\\Documents\\Intermovie\\Intermovie-Group1\\data\\CURATED\\titleType\\tvShort.csv\nc:\\Users\\utilisateur\\Documents\\Intermovie\\Intermovie-Group1\\data\\CURATED\\titleType\\tvMiniSeries.csv\nc:\\Users\\utilisateur\\Documents\\Intermovie\\Intermovie-Group1\\data\\CURATED\\titleType\\tvSpecial.csv\nc:\\Users\\utilisateur\\Documents\\Intermovie\\Intermovie-Group1\\data\\CURATED\\titleType\\video.csv\nc:\\Users\\utilisateur\\Documents\\Intermovie\\Intermovie-Group1\\data\\CURATED\\titleType\\videoGame.csv\n"
    }
   ],
   "source": [
    "sd.split_datas(cr.TITLE_BASICS, 'titleType')"
   ]
  },
  {
   "cell_type": "code",
   "execution_count": null,
   "metadata": {
    "tags": []
   },
   "outputs": [],
   "source": []
  },
  {
   "cell_type": "code",
   "execution_count": 13,
   "metadata": {},
   "outputs": [
    {
     "output_type": "execute_result",
     "data": {
      "text/plain": "           tconst originalTitle\ncount      536034        536034\nunique     536034        477163\ntop     tt3962198          Home\nfreq            1            49",
      "text/html": "<div>\n<style scoped>\n    .dataframe tbody tr th:only-of-type {\n        vertical-align: middle;\n    }\n\n    .dataframe tbody tr th {\n        vertical-align: top;\n    }\n\n    .dataframe thead th {\n        text-align: right;\n    }\n</style>\n<table border=\"1\" class=\"dataframe\">\n  <thead>\n    <tr style=\"text-align: right;\">\n      <th></th>\n      <th>tconst</th>\n      <th>originalTitle</th>\n    </tr>\n  </thead>\n  <tbody>\n    <tr>\n      <th>count</th>\n      <td>536034</td>\n      <td>536034</td>\n    </tr>\n    <tr>\n      <th>unique</th>\n      <td>536034</td>\n      <td>477163</td>\n    </tr>\n    <tr>\n      <th>top</th>\n      <td>tt3962198</td>\n      <td>Home</td>\n    </tr>\n    <tr>\n      <th>freq</th>\n      <td>1</td>\n      <td>49</td>\n    </tr>\n  </tbody>\n</table>\n</div>"
     },
     "metadata": {},
     "execution_count": 13
    }
   ],
   "source": [
    "global_title_basics = pd.read_csv(\"./data/CURATED/titleType/movie.csv\", usecols = ['tconst', 'originalTitle'])\n",
    "global_title_basics = global_title_basics.dropna(axis = 0)\n",
    "global_title_basics = global_title_basics.drop_duplicates()\n",
    "global_title_basics.describe()"
   ]
  },
  {
   "cell_type": "code",
   "execution_count": null,
   "metadata": {},
   "outputs": [],
   "source": [
    "sd.split_datas(cr.TITLE_PRINCIPALS, 'category')"
   ]
  },
  {
   "cell_type": "code",
   "execution_count": null,
   "metadata": {},
   "outputs": [],
   "source": [
    "global_actor = pd.read_csv(\"./data/CURATED/category/actor.csv\", usecols = ['tconst', 'nconst'])\n",
    "global_actress = pd.read_csv(\"./data/CURATED/category/actress.csv\", usecols = ['tconst', 'nconst'])\n",
    "global_self = pd.read_csv(\"./data/CURATED/category/self.csv\", usecols = ['tconst', 'nconst'])\n",
    "global_title_principals = pd.concat([global_actor, global_actress, global_self])\n",
    "global_title_principals = global_title_principals.dropna(axis = 0)\n",
    "global_title_principals = global_title_principals.drop_duplicates()\n",
    "global_title_principals.describe()"
   ]
  },
  {
   "cell_type": "code",
   "execution_count": null,
   "metadata": {},
   "outputs": [],
   "source": [
    "global_name_basics = pd.read_csv(\"./data/RAW/name.basics.tsv\", usecols = ['nconst', 'primaryName'], delimiter = '\\t')\n",
    "global_name_basics = global_name_basics.dropna(axis = 0)\n",
    "global_name_basics = global_name_basics.drop_duplicates()\n",
    "global_name_basics.describe()"
   ]
  },
  {
   "cell_type": "code",
   "execution_count": null,
   "metadata": {},
   "outputs": [],
   "source": [
    "local_request_1 = global_title_principals.merge(global_title_basics, how = 'left', on = 'tconst')\n",
    "local_request_1 = local_request_1.merge(global_name_basics, how = 'left', on = 'nconst')\n",
    "local_request_1 = local_request_1.drop(['tconst', 'nconst'], axis = 1)\n",
    "local_request_1 = local_request_1.dropna(axis = 0)\n",
    "local_request_1_final = local_request_1.groupby('originalTitle').agg({'primaryName': ','.join}, axis = 0)"
   ]
  },
  {
   "cell_type": "code",
   "execution_count": null,
   "metadata": {},
   "outputs": [],
   "source": [
    "local_request_1_final.to_csv('./data/REQUESTS/request_1.csv')"
   ]
  },
  {
   "source": [
    "2- Liste des films Américains (en gardant leur nom en français) et leur note moyenne"
   ],
   "cell_type": "markdown",
   "metadata": {}
  },
  {
   "cell_type": "code",
   "execution_count": null,
   "metadata": {},
   "outputs": [],
   "source": [
    "sd.split_datas(cr.TITLE_AKAS, 'region')"
   ]
  },
  {
   "cell_type": "code",
   "execution_count": null,
   "metadata": {},
   "outputs": [],
   "source": [
    "global_title_akas = pd.read_csv(\"./data/CURATED/region/US.csv\", usecols = ['titleId'])\n",
    "global_title_akas = global_title_akas.dropna(axis = 0)\n",
    "global_title_akas = global_title_akas.drop_duplicates()\n",
    "global_title_akas = global_title_akas.rename(columns = {'titleId' : 'tconst'})\n",
    "global_title_akas.describe()"
   ]
  },
  {
   "cell_type": "code",
   "execution_count": null,
   "metadata": {},
   "outputs": [],
   "source": [
    "global_title_basics = pd.read_csv(\"./data/CURATED/titleType/movie.csv\", usecols = ['tconst', 'originalTitle'])\n",
    "global_title_basics = global_title_basics.dropna(axis = 0)\n",
    "global_title_basics = global_title_basics.drop_duplicates()\n",
    "global_title_basics.describe()"
   ]
  },
  {
   "cell_type": "code",
   "execution_count": null,
   "metadata": {},
   "outputs": [],
   "source": [
    "global_title_ratings = pd.read_csv(\"./data/RAW/title.ratings.tsv\", usecols = ['tconst', 'averageRating'], delimiter = '\\t')\n",
    "global_title_ratings = global_title_ratings.dropna(axis=0)\n",
    "global_title_ratings = global_title_ratings.drop_duplicates()\n",
    "global_title_ratings.describe()"
   ]
  },
  {
   "cell_type": "code",
   "execution_count": null,
   "metadata": {},
   "outputs": [],
   "source": [
    "local_request_2 = global_title_akas.merge(global_title_basics, how = 'left', on = 'tconst')\n",
    "local_request_2 = local_request_2.merge(global_title_ratings, how = 'left', on = 'tconst')\n",
    "del global_title_akas\n",
    "del global_title_basics\n",
    "del global_title_ratings\n",
    "local_request_2 = local_request_2.drop(['tconst'], axis = 1)\n",
    "local_request_2 = local_request_2.dropna(axis = 0)\n",
    "local_request_2 = local_request_2.drop_duplicates()"
   ]
  },
  {
   "cell_type": "code",
   "execution_count": null,
   "metadata": {},
   "outputs": [],
   "source": [
    "local_request_2.to_csv('./data/REQUESTS/request_2.csv')"
   ]
  },
  {
   "cell_type": "code",
   "execution_count": null,
   "metadata": {},
   "outputs": [],
   "source": [
    "mean_averageRating = local_request_2['averageRating'].mean()\n",
    "print(mean_averageRating)\n",
    "del local_request_2"
   ]
  },
  {
   "source": [
    "3- Les notes moyennes des différents genres\n",
    "\n",
    "\n",
    "\n"
   ],
   "cell_type": "markdown",
   "metadata": {}
  },
  {
   "cell_type": "code",
   "execution_count": null,
   "metadata": {},
   "outputs": [],
   "source": [
    "global_title_basics = pd.read_csv(\"./data/RAW/title.basics.tsv\", usecols = ['tconst', 'genres'], delimiter = '\\t')\n",
    "global_title_basics_split = global_title_basics['genres'].str.split(\",\", expand = True)\n",
    "global_title_basics_split = global_title_basics_split.join(global_title_basics).drop(['genres'], axis = 1)\n",
    "del global_title_basics\n",
    "global_title_ratings = pd.read_csv(\"./data/RAW/title.ratings.tsv\", usecols = ['tconst', 'averageRating'], delimiter = '\\t')\n",
    "local_request_3 = global_title_basics_split.merge(global_title_ratings, how = 'left', on = 'tconst')"
   ]
  },
  {
   "cell_type": "code",
   "execution_count": null,
   "metadata": {},
   "outputs": [],
   "source": [
    "local_mean_1 = local_request_3.groupby([0])['averageRating'].mean()\n",
    "local_mean_2 = local_request_3.groupby([1])['averageRating'].mean()\n",
    "local_mean_3 = local_request_3.groupby([2])['averageRating'].mean()\n",
    "local_mean = pd.concat([local_mean_1, local_mean_2, local_mean_3], axis = 1, keys = [\"mean1\", \"mean2\", \"mean3\"])\n",
    "del global_title_basics_split\n",
    "del global_title_ratings\n",
    "del local_mean_1\n",
    "del local_mean_2\n",
    "del local_mean_3\n",
    "local_mean['mean'] = local_mean[['mean1', 'mean2', 'mean3']].mean(axis = 1)\n",
    "local_request_3 = local_mean.drop(['mean1', 'mean2', 'mean3'], axis = 1)\n",
    "del local_mean"
   ]
  },
  {
   "cell_type": "code",
   "execution_count": null,
   "metadata": {},
   "outputs": [],
   "source": [
    "local_request_3.to_csv('./data/REQUESTS/request_3.csv')"
   ]
  },
  {
   "cell_type": "code",
   "execution_count": null,
   "metadata": {},
   "outputs": [],
   "source": []
  }
 ]
}