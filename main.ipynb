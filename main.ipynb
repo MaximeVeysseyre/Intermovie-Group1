{
 "metadata": {
  "language_info": {
   "codemirror_mode": {
    "name": "ipython",
    "version": 3
   },
   "file_extension": ".py",
   "mimetype": "text/x-python",
   "name": "python",
   "nbconvert_exporter": "python",
   "pygments_lexer": "ipython3",
   "version": "3.8.5-final"
  },
  "orig_nbformat": 2,
  "kernelspec": {
   "name": "Python 3.8.5 64-bit ('data-ia': conda)",
   "display_name": "Python 3.8.5 64-bit ('data-ia': conda)",
   "metadata": {
    "interpreter": {
     "hash": "b521198ca28846cc1e62545e6db678c2facd12f800abaadb2702f6952f824412"
    }
   }
  }
 },
 "nbformat": 4,
 "nbformat_minor": 2,
 "cells": [
  {
   "source": [
    "# Intermovie project\n",
    "\n",
    "This Notebook aims to analyze a dataset of films in order to retrieve several information:\n",
    "\n",
    "- The list of actors by film.\n",
    "\n",
    "- The list of American films (keeping their name in French) and their average rating.\n",
    "\n",
    "- The average scores of the different genres.\n",
    "\n",
    "- The average rating of each actor in relation to the films in which he appears.\n",
    "\n",
    "\n",
    "## Structure of tsv files\n",
    "\n",
    "- name.basics :         nconst / primaryName / birthYear / deathYear / primaryProfession / knownForTitles\n",
    "\n",
    "- title.akas :          titleId / ordering / title / region / language / types / attributes / isOriginalTitle\n",
    "\n",
    "- title.basics :        tconst / titleType / primaryTitle / originalTitle / isAdult / startYear / endYear / runtimeMinutes / genres\n",
    "\n",
    "- title.principals :    tconst / ordering / nconst / category / job / characters\n",
    "\n",
    "- title.ratings :       tconst / averageRating / numVotes\n",
    "\n",
    "\n",
    "## Import from libraries"
   ],
   "cell_type": "markdown",
   "metadata": {}
  },
  {
   "cell_type": "code",
   "execution_count": 2,
   "metadata": {
    "tags": []
   },
   "outputs": [],
   "source": [
    "# IPython extension reloading modules before user enters code.\n",
    "%load_ext autoreload\n",
    "%autoreload 2\n",
    "\n",
    "import pandas as pd\n",
    "import matplotlib.pyplot as plt\n",
    "import numpy as np\n",
    "\n",
    "from src.credentials import Credentials as cr\n",
    "import src.split_datas as sd"
   ]
  },
  {
   "source": [
    "## Data split\n",
    "\n",
    "We use here the function ** split_datas ** allowing us to sort the data according to our needs by creating CSV files sorted according to a specified column directly in a folder of the name of this column.\n",
    "\n",
    "*Example* : We want to sort the films by region, this will create a \"region\" folder and fill it with the different regions of the world in the form of several CSV files (FR.csv, UK.csv, US.csv etc.)."
   ],
   "cell_type": "markdown",
   "metadata": {}
  },
  {
   "cell_type": "code",
   "execution_count": 3,
   "metadata": {
    "tags": []
   },
   "outputs": [
    {
     "output_type": "stream",
     "name": "stdout",
     "text": "c:\\Users\\utilisateur\\Documents\\Intermovie\\Intermovie-Group1\\data\\CURATED\\titleType\\\nc:\\Users\\utilisateur\\Documents\\Intermovie\\Intermovie-Group1\\data\\CURATED\\titleType\\short.csv\nc:\\Users\\utilisateur\\Documents\\Intermovie\\Intermovie-Group1\\data\\CURATED\\titleType\\movie.csv\nc:\\Users\\utilisateur\\Documents\\Intermovie\\Intermovie-Group1\\data\\CURATED\\titleType\\tvMovie.csv\nc:\\Users\\utilisateur\\Documents\\Intermovie\\Intermovie-Group1\\data\\CURATED\\titleType\\tvSeries.csv\nc:\\Users\\utilisateur\\Documents\\Intermovie\\Intermovie-Group1\\data\\CURATED\\titleType\\tvEpisode.csv\nc:\\Users\\utilisateur\\Documents\\Intermovie\\Intermovie-Group1\\data\\CURATED\\titleType\\tvShort.csv\nc:\\Users\\utilisateur\\Documents\\Intermovie\\Intermovie-Group1\\data\\CURATED\\titleType\\tvMiniSeries.csv\nc:\\Users\\utilisateur\\Documents\\Intermovie\\Intermovie-Group1\\data\\CURATED\\titleType\\tvSpecial.csv\nc:\\Users\\utilisateur\\Documents\\Intermovie\\Intermovie-Group1\\data\\CURATED\\titleType\\video.csv\nc:\\Users\\utilisateur\\Documents\\Intermovie\\Intermovie-Group1\\data\\CURATED\\titleType\\videoGame.csv\nc:\\Users\\utilisateur\\Documents\\Intermovie\\Intermovie-Group1\\data\\CURATED\\category\\\nc:\\Users\\utilisateur\\Documents\\Intermovie\\Intermovie-Group1\\data\\CURATED\\category\\self.csv\nc:\\Users\\utilisateur\\Documents\\Intermovie\\Intermovie-Group1\\data\\CURATED\\category\\director.csv\nc:\\Users\\utilisateur\\Documents\\Intermovie\\Intermovie-Group1\\data\\CURATED\\category\\cinematographer.csv\nc:\\Users\\utilisateur\\Documents\\Intermovie\\Intermovie-Group1\\data\\CURATED\\category\\composer.csv\nc:\\Users\\utilisateur\\Documents\\Intermovie\\Intermovie-Group1\\data\\CURATED\\category\\producer.csv\nc:\\Users\\utilisateur\\Documents\\Intermovie\\Intermovie-Group1\\data\\CURATED\\category\\editor.csv\nc:\\Users\\utilisateur\\Documents\\Intermovie\\Intermovie-Group1\\data\\CURATED\\category\\actor.csv\nc:\\Users\\utilisateur\\Documents\\Intermovie\\Intermovie-Group1\\data\\CURATED\\category\\actress.csv\nc:\\Users\\utilisateur\\Documents\\Intermovie\\Intermovie-Group1\\data\\CURATED\\category\\writer.csv\nc:\\Users\\utilisateur\\Documents\\Intermovie\\Intermovie-Group1\\data\\CURATED\\category\\production_designer.csv\nc:\\Users\\utilisateur\\Documents\\Intermovie\\Intermovie-Group1\\data\\CURATED\\category\\archive_footage.csv\nc:\\Users\\utilisateur\\Documents\\Intermovie\\Intermovie-Group1\\data\\CURATED\\category\\archive_sound.csv\nc:\\Users\\utilisateur\\Documents\\Intermovie\\Intermovie-Group1\\data\\CURATED\\region\\\nc:\\Users\\utilisateur\\Documents\\Intermovie\\Intermovie-Group1\\data\\CURATED\\region\\HU.csv\nc:\\Users\\utilisateur\\Documents\\Intermovie\\Intermovie-Group1\\data\\CURATED\\region\\GR.csv\nc:\\Users\\utilisateur\\Documents\\Intermovie\\Intermovie-Group1\\data\\CURATED\\region\\RU.csv\nc:\\Users\\utilisateur\\Documents\\Intermovie\\Intermovie-Group1\\data\\CURATED\\region\\US.csv\nc:\\Users\\utilisateur\\Documents\\Intermovie\\Intermovie-Group1\\data\\CURATED\\region\\\\N.csv\nc:\\Users\\utilisateur\\Documents\\Intermovie\\Intermovie-Group1\\data\\CURATED\\region\\FR.csv\nc:\\Users\\utilisateur\\Documents\\Intermovie\\Intermovie-Group1\\data\\CURATED\\region\\RO.csv\nc:\\Users\\utilisateur\\Documents\\Intermovie\\Intermovie-Group1\\data\\CURATED\\region\\GB.csv\nc:\\Users\\utilisateur\\Documents\\Intermovie\\Intermovie-Group1\\data\\CURATED\\region\\PT.csv\nc:\\Users\\utilisateur\\Documents\\Intermovie\\Intermovie-Group1\\data\\CURATED\\region\\ES.csv\nc:\\Users\\utilisateur\\Documents\\Intermovie\\Intermovie-Group1\\data\\CURATED\\region\\UY.csv\nc:\\Users\\utilisateur\\Documents\\Intermovie\\Intermovie-Group1\\data\\CURATED\\region\\DE.csv\nc:\\Users\\utilisateur\\Documents\\Intermovie\\Intermovie-Group1\\data\\CURATED\\region\\IT.csv\nc:\\Users\\utilisateur\\Documents\\Intermovie\\Intermovie-Group1\\data\\CURATED\\region\\FI.csv\nc:\\Users\\utilisateur\\Documents\\Intermovie\\Intermovie-Group1\\data\\CURATED\\region\\RS.csv\nc:\\Users\\utilisateur\\Documents\\Intermovie\\Intermovie-Group1\\data\\CURATED\\region\\PL.csv\nc:\\Users\\utilisateur\\Documents\\Intermovie\\Intermovie-Group1\\data\\CURATED\\region\\AR.csv\nc:\\Users\\utilisateur\\Documents\\Intermovie\\Intermovie-Group1\\data\\CURATED\\region\\BR.csv\nc:\\Users\\utilisateur\\Documents\\Intermovie\\Intermovie-Group1\\data\\CURATED\\region\\XWW.csv\nc:\\Users\\utilisateur\\Documents\\Intermovie\\Intermovie-Group1\\data\\CURATED\\region\\TR.csv\nc:\\Users\\utilisateur\\Documents\\Intermovie\\Intermovie-Group1\\data\\CURATED\\region\\DK.csv\nc:\\Users\\utilisateur\\Documents\\Intermovie\\Intermovie-Group1\\data\\CURATED\\region\\XEU.csv\nc:\\Users\\utilisateur\\Documents\\Intermovie\\Intermovie-Group1\\data\\CURATED\\region\\SK.csv\nc:\\Users\\utilisateur\\Documents\\Intermovie\\Intermovie-Group1\\data\\CURATED\\region\\CZ.csv\nc:\\Users\\utilisateur\\Documents\\Intermovie\\Intermovie-Group1\\data\\CURATED\\region\\SE.csv\nc:\\Users\\utilisateur\\Documents\\Intermovie\\Intermovie-Group1\\data\\CURATED\\region\\MX.csv\nc:\\Users\\utilisateur\\Documents\\Intermovie\\Intermovie-Group1\\data\\CURATED\\region\\XYU.csv\nc:\\Users\\utilisateur\\Documents\\Intermovie\\Intermovie-Group1\\data\\CURATED\\region\\AT.csv\nc:\\Users\\utilisateur\\Documents\\Intermovie\\Intermovie-Group1\\data\\CURATED\\region\\VE.csv\nc:\\Users\\utilisateur\\Documents\\Intermovie\\Intermovie-Group1\\data\\CURATED\\region\\CSHH.csv\nc:\\Users\\utilisateur\\Documents\\Intermovie\\Intermovie-Group1\\data\\CURATED\\region\\SI.csv\nc:\\Users\\utilisateur\\Documents\\Intermovie\\Intermovie-Group1\\data\\CURATED\\region\\JP.csv\nc:\\Users\\utilisateur\\Documents\\Intermovie\\Intermovie-Group1\\data\\CURATED\\region\\AU.csv\nc:\\Users\\utilisateur\\Documents\\Intermovie\\Intermovie-Group1\\data\\CURATED\\region\\NL.csv\nc:\\Users\\utilisateur\\Documents\\Intermovie\\Intermovie-Group1\\data\\CURATED\\region\\NO.csv\nc:\\Users\\utilisateur\\Documents\\Intermovie\\Intermovie-Group1\\data\\CURATED\\region\\IR.csv\nc:\\Users\\utilisateur\\Documents\\Intermovie\\Intermovie-Group1\\data\\CURATED\\region\\UA.csv\nc:\\Users\\utilisateur\\Documents\\Intermovie\\Intermovie-Group1\\data\\CURATED\\region\\CA.csv\nc:\\Users\\utilisateur\\Documents\\Intermovie\\Intermovie-Group1\\data\\CURATED\\region\\CO.csv\nc:\\Users\\utilisateur\\Documents\\Intermovie\\Intermovie-Group1\\data\\CURATED\\region\\BG.csv\nc:\\Users\\utilisateur\\Documents\\Intermovie\\Intermovie-Group1\\data\\CURATED\\region\\BE.csv\nc:\\Users\\utilisateur\\Documents\\Intermovie\\Intermovie-Group1\\data\\CURATED\\region\\IN.csv\nc:\\Users\\utilisateur\\Documents\\Intermovie\\Intermovie-Group1\\data\\CURATED\\region\\DZ.csv\nc:\\Users\\utilisateur\\Documents\\Intermovie\\Intermovie-Group1\\data\\CURATED\\region\\CH.csv\nc:\\Users\\utilisateur\\Documents\\Intermovie\\Intermovie-Group1\\data\\CURATED\\region\\NZ.csv\nc:\\Users\\utilisateur\\Documents\\Intermovie\\Intermovie-Group1\\data\\CURATED\\region\\BF.csv\nc:\\Users\\utilisateur\\Documents\\Intermovie\\Intermovie-Group1\\data\\CURATED\\region\\XWG.csv\nc:\\Users\\utilisateur\\Documents\\Intermovie\\Intermovie-Group1\\data\\CURATED\\region\\VN.csv\nc:\\Users\\utilisateur\\Documents\\Intermovie\\Intermovie-Group1\\data\\CURATED\\region\\SUHH.csv\nc:\\Users\\utilisateur\\Documents\\Intermovie\\Intermovie-Group1\\data\\CURATED\\region\\EE.csv\nc:\\Users\\utilisateur\\Documents\\Intermovie\\Intermovie-Group1\\data\\CURATED\\region\\IS.csv\nc:\\Users\\utilisateur\\Documents\\Intermovie\\Intermovie-Group1\\data\\CURATED\\region\\DDDE.csv\nc:\\Users\\utilisateur\\Documents\\Intermovie\\Intermovie-Group1\\data\\CURATED\\region\\HR.csv\nc:\\Users\\utilisateur\\Documents\\Intermovie\\Intermovie-Group1\\data\\CURATED\\region\\XKO.csv\nc:\\Users\\utilisateur\\Documents\\Intermovie\\Intermovie-Group1\\data\\CURATED\\region\\CL.csv\nc:\\Users\\utilisateur\\Documents\\Intermovie\\Intermovie-Group1\\data\\CURATED\\region\\LT.csv\nc:\\Users\\utilisateur\\Documents\\Intermovie\\Intermovie-Group1\\data\\CURATED\\region\\EG.csv\nc:\\Users\\utilisateur\\Documents\\Intermovie\\Intermovie-Group1\\data\\CURATED\\region\\HK.csv\nc:\\Users\\utilisateur\\Documents\\Intermovie\\Intermovie-Group1\\data\\CURATED\\region\\BY.csv\nc:\\Users\\utilisateur\\Documents\\Intermovie\\Intermovie-Group1\\data\\CURATED\\region\\GE.csv\nc:\\Users\\utilisateur\\Documents\\Intermovie\\Intermovie-Group1\\data\\CURATED\\region\\BA.csv\nc:\\Users\\utilisateur\\Documents\\Intermovie\\Intermovie-Group1\\data\\CURATED\\region\\PE.csv\nc:\\Users\\utilisateur\\Documents\\Intermovie\\Intermovie-Group1\\data\\CURATED\\region\\PA.csv\nc:\\Users\\utilisateur\\Documents\\Intermovie\\Intermovie-Group1\\data\\CURATED\\region\\CN.csv\nc:\\Users\\utilisateur\\Documents\\Intermovie\\Intermovie-Group1\\data\\CURATED\\region\\XSI.csv\nc:\\Users\\utilisateur\\Documents\\Intermovie\\Intermovie-Group1\\data\\CURATED\\region\\YUCS.csv\nc:\\Users\\utilisateur\\Documents\\Intermovie\\Intermovie-Group1\\data\\CURATED\\region\\IE.csv\nc:\\Users\\utilisateur\\Documents\\Intermovie\\Intermovie-Group1\\data\\CURATED\\region\\XSA.csv\nc:\\Users\\utilisateur\\Documents\\Intermovie\\Intermovie-Group1\\data\\CURATED\\region\\IL.csv\nc:\\Users\\utilisateur\\Documents\\Intermovie\\Intermovie-Group1\\data\\CURATED\\region\\CU.csv\nc:\\Users\\utilisateur\\Documents\\Intermovie\\Intermovie-Group1\\data\\CURATED\\region\\AL.csv\nc:\\Users\\utilisateur\\Documents\\Intermovie\\Intermovie-Group1\\data\\CURATED\\region\\BO.csv\nc:\\Users\\utilisateur\\Documents\\Intermovie\\Intermovie-Group1\\data\\CURATED\\region\\ZA.csv\nc:\\Users\\utilisateur\\Documents\\Intermovie\\Intermovie-Group1\\data\\CURATED\\region\\KR.csv\nc:\\Users\\utilisateur\\Documents\\Intermovie\\Intermovie-Group1\\data\\CURATED\\region\\MY.csv\nc:\\Users\\utilisateur\\Documents\\Intermovie\\Intermovie-Group1\\data\\CURATED\\region\\SG.csv\nc:\\Users\\utilisateur\\Documents\\Intermovie\\Intermovie-Group1\\data\\CURATED\\region\\BUMM.csv\nc:\\Users\\utilisateur\\Documents\\Intermovie\\Intermovie-Group1\\data\\CURATED\\region\\XPI.csv\nc:\\Users\\utilisateur\\Documents\\Intermovie\\Intermovie-Group1\\data\\CURATED\\region\\BJ.csv\nc:\\Users\\utilisateur\\Documents\\Intermovie\\Intermovie-Group1\\data\\CURATED\\region\\PR.csv\nc:\\Users\\utilisateur\\Documents\\Intermovie\\Intermovie-Group1\\data\\CURATED\\region\\CM.csv\nc:\\Users\\utilisateur\\Documents\\Intermovie\\Intermovie-Group1\\data\\CURATED\\region\\AZ.csv\nc:\\Users\\utilisateur\\Documents\\Intermovie\\Intermovie-Group1\\data\\CURATED\\region\\TH.csv\nc:\\Users\\utilisateur\\Documents\\Intermovie\\Intermovie-Group1\\data\\CURATED\\region\\DO.csv\nc:\\Users\\utilisateur\\Documents\\Intermovie\\Intermovie-Group1\\data\\CURATED\\region\\EC.csv\nc:\\Users\\utilisateur\\Documents\\Intermovie\\Intermovie-Group1\\data\\CURATED\\region\\LV.csv\nc:\\Users\\utilisateur\\Documents\\Intermovie\\Intermovie-Group1\\data\\CURATED\\region\\MA.csv\nc:\\Users\\utilisateur\\Documents\\Intermovie\\Intermovie-Group1\\data\\CURATED\\region\\GL.csv\nc:\\Users\\utilisateur\\Documents\\Intermovie\\Intermovie-Group1\\data\\CURATED\\region\\LI.csv\nc:\\Users\\utilisateur\\Documents\\Intermovie\\Intermovie-Group1\\data\\CURATED\\region\\LU.csv\nc:\\Users\\utilisateur\\Documents\\Intermovie\\Intermovie-Group1\\data\\CURATED\\region\\PH.csv\nc:\\Users\\utilisateur\\Documents\\Intermovie\\Intermovie-Group1\\data\\CURATED\\region\\ID.csv\nc:\\Users\\utilisateur\\Documents\\Intermovie\\Intermovie-Group1\\data\\CURATED\\region\\PY.csv\nc:\\Users\\utilisateur\\Documents\\Intermovie\\Intermovie-Group1\\data\\CURATED\\region\\MZ.csv\nc:\\Users\\utilisateur\\Documents\\Intermovie\\Intermovie-Group1\\data\\CURATED\\region\\BM.csv\nc:\\Users\\utilisateur\\Documents\\Intermovie\\Intermovie-Group1\\data\\CURATED\\region\\TW.csv\nc:\\Users\\utilisateur\\Documents\\Intermovie\\Intermovie-Group1\\data\\CURATED\\region\\JM.csv\nc:\\Users\\utilisateur\\Documents\\Intermovie\\Intermovie-Group1\\data\\CURATED\\region\\MD.csv\nc:\\Users\\utilisateur\\Documents\\Intermovie\\Intermovie-Group1\\data\\CURATED\\region\\LB.csv\nc:\\Users\\utilisateur\\Documents\\Intermovie\\Intermovie-Group1\\data\\CURATED\\region\\IQ.csv\nc:\\Users\\utilisateur\\Documents\\Intermovie\\Intermovie-Group1\\data\\CURATED\\region\\TM.csv\nc:\\Users\\utilisateur\\Documents\\Intermovie\\Intermovie-Group1\\data\\CURATED\\region\\MK.csv\nc:\\Users\\utilisateur\\Documents\\Intermovie\\Intermovie-Group1\\data\\CURATED\\region\\CR.csv\nc:\\Users\\utilisateur\\Documents\\Intermovie\\Intermovie-Group1\\data\\CURATED\\region\\TN.csv\nc:\\Users\\utilisateur\\Documents\\Intermovie\\Intermovie-Group1\\data\\CURATED\\region\\NG.csv\nc:\\Users\\utilisateur\\Documents\\Intermovie\\Intermovie-Group1\\data\\CURATED\\region\\HT.csv\nc:\\Users\\utilisateur\\Documents\\Intermovie\\Intermovie-Group1\\data\\CURATED\\region\\SN.csv\nc:\\Users\\utilisateur\\Documents\\Intermovie\\Intermovie-Group1\\data\\CURATED\\region\\GH.csv\nc:\\Users\\utilisateur\\Documents\\Intermovie\\Intermovie-Group1\\data\\CURATED\\region\\CI.csv\nc:\\Users\\utilisateur\\Documents\\Intermovie\\Intermovie-Group1\\data\\CURATED\\region\\JO.csv\nc:\\Users\\utilisateur\\Documents\\Intermovie\\Intermovie-Group1\\data\\CURATED\\region\\KG.csv\nc:\\Users\\utilisateur\\Documents\\Intermovie\\Intermovie-Group1\\data\\CURATED\\region\\PK.csv\nc:\\Users\\utilisateur\\Documents\\Intermovie\\Intermovie-Group1\\data\\CURATED\\region\\LK.csv\nc:\\Users\\utilisateur\\Documents\\Intermovie\\Intermovie-Group1\\data\\CURATED\\region\\GT.csv\nc:\\Users\\utilisateur\\Documents\\Intermovie\\Intermovie-Group1\\data\\CURATED\\region\\TJ.csv\nc:\\Users\\utilisateur\\Documents\\Intermovie\\Intermovie-Group1\\data\\CURATED\\region\\NE.csv\nc:\\Users\\utilisateur\\Documents\\Intermovie\\Intermovie-Group1\\data\\CURATED\\region\\GN.csv\nc:\\Users\\utilisateur\\Documents\\Intermovie\\Intermovie-Group1\\data\\CURATED\\region\\VDVN.csv\nc:\\Users\\utilisateur\\Documents\\Intermovie\\Intermovie-Group1\\data\\CURATED\\region\\TD.csv\nc:\\Users\\utilisateur\\Documents\\Intermovie\\Intermovie-Group1\\data\\CURATED\\region\\SO.csv\nc:\\Users\\utilisateur\\Documents\\Intermovie\\Intermovie-Group1\\data\\CURATED\\region\\SD.csv\nc:\\Users\\utilisateur\\Documents\\Intermovie\\Intermovie-Group1\\data\\CURATED\\region\\MC.csv\nc:\\Users\\utilisateur\\Documents\\Intermovie\\Intermovie-Group1\\data\\CURATED\\region\\CG.csv\nc:\\Users\\utilisateur\\Documents\\Intermovie\\Intermovie-Group1\\data\\CURATED\\region\\TT.csv\nc:\\Users\\utilisateur\\Documents\\Intermovie\\Intermovie-Group1\\data\\CURATED\\region\\GA.csv\nc:\\Users\\utilisateur\\Documents\\Intermovie\\Intermovie-Group1\\data\\CURATED\\region\\BS.csv\nc:\\Users\\utilisateur\\Documents\\Intermovie\\Intermovie-Group1\\data\\CURATED\\region\\LY.csv\nc:\\Users\\utilisateur\\Documents\\Intermovie\\Intermovie-Group1\\data\\CURATED\\region\\SY.csv\nc:\\Users\\utilisateur\\Documents\\Intermovie\\Intermovie-Group1\\data\\CURATED\\region\\AO.csv\nc:\\Users\\utilisateur\\Documents\\Intermovie\\Intermovie-Group1\\data\\CURATED\\region\\KH.csv\nc:\\Users\\utilisateur\\Documents\\Intermovie\\Intermovie-Group1\\data\\CURATED\\region\\SV.csv\nc:\\Users\\utilisateur\\Documents\\Intermovie\\Intermovie-Group1\\data\\CURATED\\region\\MR.csv\nc:\\Users\\utilisateur\\Documents\\Intermovie\\Intermovie-Group1\\data\\CURATED\\region\\AF.csv\nc:\\Users\\utilisateur\\Documents\\Intermovie\\Intermovie-Group1\\data\\CURATED\\region\\MG.csv\nc:\\Users\\utilisateur\\Documents\\Intermovie\\Intermovie-Group1\\data\\CURATED\\region\\ML.csv\nc:\\Users\\utilisateur\\Documents\\Intermovie\\Intermovie-Group1\\data\\CURATED\\region\\GY.csv\nc:\\Users\\utilisateur\\Documents\\Intermovie\\Intermovie-Group1\\data\\CURATED\\region\\CY.csv\nc:\\Users\\utilisateur\\Documents\\Intermovie\\Intermovie-Group1\\data\\CURATED\\region\\ET.csv\nc:\\Users\\utilisateur\\Documents\\Intermovie\\Intermovie-Group1\\data\\CURATED\\region\\XAS.csv\nc:\\Users\\utilisateur\\Documents\\Intermovie\\Intermovie-Group1\\data\\CURATED\\region\\UZ.csv\nc:\\Users\\utilisateur\\Documents\\Intermovie\\Intermovie-Group1\\data\\CURATED\\region\\SR.csv\nc:\\Users\\utilisateur\\Documents\\Intermovie\\Intermovie-Group1\\data\\CURATED\\region\\MT.csv\nc:\\Users\\utilisateur\\Documents\\Intermovie\\Intermovie-Group1\\data\\CURATED\\region\\AM.csv\nc:\\Users\\utilisateur\\Documents\\Intermovie\\Intermovie-Group1\\data\\CURATED\\region\\TG.csv\nc:\\Users\\utilisateur\\Documents\\Intermovie\\Intermovie-Group1\\data\\CURATED\\region\\PG.csv\nc:\\Users\\utilisateur\\Documents\\Intermovie\\Intermovie-Group1\\data\\CURATED\\region\\MU.csv\nc:\\Users\\utilisateur\\Documents\\Intermovie\\Intermovie-Group1\\data\\CURATED\\region\\BI.csv\nc:\\Users\\utilisateur\\Documents\\Intermovie\\Intermovie-Group1\\data\\CURATED\\region\\CF.csv\nc:\\Users\\utilisateur\\Documents\\Intermovie\\Intermovie-Group1\\data\\CURATED\\region\\NI.csv\nc:\\Users\\utilisateur\\Documents\\Intermovie\\Intermovie-Group1\\data\\CURATED\\region\\ZW.csv\nc:\\Users\\utilisateur\\Documents\\Intermovie\\Intermovie-Group1\\data\\CURATED\\region\\ZM.csv\nc:\\Users\\utilisateur\\Documents\\Intermovie\\Intermovie-Group1\\data\\CURATED\\region\\GW.csv\nc:\\Users\\utilisateur\\Documents\\Intermovie\\Intermovie-Group1\\data\\CURATED\\region\\DJ.csv\nc:\\Users\\utilisateur\\Documents\\Intermovie\\Intermovie-Group1\\data\\CURATED\\region\\KP.csv\nc:\\Users\\utilisateur\\Documents\\Intermovie\\Intermovie-Group1\\data\\CURATED\\region\\KZ.csv\nc:\\Users\\utilisateur\\Documents\\Intermovie\\Intermovie-Group1\\data\\CURATED\\region\\RW.csv\nc:\\Users\\utilisateur\\Documents\\Intermovie\\Intermovie-Group1\\data\\CURATED\\region\\TZ.csv\nc:\\Users\\utilisateur\\Documents\\Intermovie\\Intermovie-Group1\\data\\CURATED\\region\\GI.csv\nc:\\Users\\utilisateur\\Documents\\Intermovie\\Intermovie-Group1\\data\\CURATED\\region\\LA.csv\nc:\\Users\\utilisateur\\Documents\\Intermovie\\Intermovie-Group1\\data\\CURATED\\region\\SC.csv\nc:\\Users\\utilisateur\\Documents\\Intermovie\\Intermovie-Group1\\data\\CURATED\\region\\BD.csv\nc:\\Users\\utilisateur\\Documents\\Intermovie\\Intermovie-Group1\\data\\CURATED\\region\\MN.csv\nc:\\Users\\utilisateur\\Documents\\Intermovie\\Intermovie-Group1\\data\\CURATED\\region\\AW.csv\nc:\\Users\\utilisateur\\Documents\\Intermovie\\Intermovie-Group1\\data\\CURATED\\region\\NP.csv\nc:\\Users\\utilisateur\\Documents\\Intermovie\\Intermovie-Group1\\data\\CURATED\\region\\MO.csv\nc:\\Users\\utilisateur\\Documents\\Intermovie\\Intermovie-Group1\\data\\CURATED\\region\\KW.csv\nc:\\Users\\utilisateur\\Documents\\Intermovie\\Intermovie-Group1\\data\\CURATED\\region\\CV.csv\nc:\\Users\\utilisateur\\Documents\\Intermovie\\Intermovie-Group1\\data\\CURATED\\region\\GP.csv\nc:\\Users\\utilisateur\\Documents\\Intermovie\\Intermovie-Group1\\data\\CURATED\\region\\SL.csv\nc:\\Users\\utilisateur\\Documents\\Intermovie\\Intermovie-Group1\\data\\CURATED\\region\\SM.csv\nc:\\Users\\utilisateur\\Documents\\Intermovie\\Intermovie-Group1\\data\\CURATED\\region\\CD.csv\nc:\\Users\\utilisateur\\Documents\\Intermovie\\Intermovie-Group1\\data\\CURATED\\region\\CSXX.csv\nc:\\Users\\utilisateur\\Documents\\Intermovie\\Intermovie-Group1\\data\\CURATED\\region\\TO.csv\nc:\\Users\\utilisateur\\Documents\\Intermovie\\Intermovie-Group1\\data\\CURATED\\region\\BT.csv\nc:\\Users\\utilisateur\\Documents\\Intermovie\\Intermovie-Group1\\data\\CURATED\\region\\LS.csv\nc:\\Users\\utilisateur\\Documents\\Intermovie\\Intermovie-Group1\\data\\CURATED\\region\\HN.csv\nc:\\Users\\utilisateur\\Documents\\Intermovie\\Intermovie-Group1\\data\\CURATED\\region\\KE.csv\nc:\\Users\\utilisateur\\Documents\\Intermovie\\Intermovie-Group1\\data\\CURATED\\region\\PS.csv\nc:\\Users\\utilisateur\\Documents\\Intermovie\\Intermovie-Group1\\data\\CURATED\\region\\MQ.csv\nc:\\Users\\utilisateur\\Documents\\Intermovie\\Intermovie-Group1\\data\\CURATED\\region\\AD.csv\nc:\\Users\\utilisateur\\Documents\\Intermovie\\Intermovie-Group1\\data\\CURATED\\region\\SA.csv\nc:\\Users\\utilisateur\\Documents\\Intermovie\\Intermovie-Group1\\data\\CURATED\\region\\ZRCD.csv\nc:\\Users\\utilisateur\\Documents\\Intermovie\\Intermovie-Group1\\data\\CURATED\\region\\AE.csv\nc:\\Users\\utilisateur\\Documents\\Intermovie\\Intermovie-Group1\\data\\CURATED\\region\\GU.csv\nc:\\Users\\utilisateur\\Documents\\Intermovie\\Intermovie-Group1\\data\\CURATED\\region\\ER.csv\nc:\\Users\\utilisateur\\Documents\\Intermovie\\Intermovie-Group1\\data\\CURATED\\region\\NA.csv\nc:\\Users\\utilisateur\\Documents\\Intermovie\\Intermovie-Group1\\data\\CURATED\\region\\IM.csv\nc:\\Users\\utilisateur\\Documents\\Intermovie\\Intermovie-Group1\\data\\CURATED\\region\\XKV.csv\nc:\\Users\\utilisateur\\Documents\\Intermovie\\Intermovie-Group1\\data\\CURATED\\region\\BH.csv\nc:\\Users\\utilisateur\\Documents\\Intermovie\\Intermovie-Group1\\data\\CURATED\\region\\BB.csv\nc:\\Users\\utilisateur\\Documents\\Intermovie\\Intermovie-Group1\\data\\CURATED\\region\\BZ.csv\nc:\\Users\\utilisateur\\Documents\\Intermovie\\Intermovie-Group1\\data\\CURATED\\region\\UG.csv\nc:\\Users\\utilisateur\\Documents\\Intermovie\\Intermovie-Group1\\data\\CURATED\\region\\AG.csv\nc:\\Users\\utilisateur\\Documents\\Intermovie\\Intermovie-Group1\\data\\CURATED\\region\\NU.csv\nc:\\Users\\utilisateur\\Documents\\Intermovie\\Intermovie-Group1\\data\\CURATED\\region\\OM.csv\nc:\\Users\\utilisateur\\Documents\\Intermovie\\Intermovie-Group1\\data\\CURATED\\region\\QA.csv\nc:\\Users\\utilisateur\\Documents\\Intermovie\\Intermovie-Group1\\data\\CURATED\\region\\BW.csv\nc:\\Users\\utilisateur\\Documents\\Intermovie\\Intermovie-Group1\\data\\CURATED\\region\\MM.csv\nc:\\Users\\utilisateur\\Documents\\Intermovie\\Intermovie-Group1\\data\\CURATED\\region\\YE.csv\nc:\\Users\\utilisateur\\Documents\\Intermovie\\Intermovie-Group1\\data\\CURATED\\region\\GQ.csv\nc:\\Users\\utilisateur\\Documents\\Intermovie\\Intermovie-Group1\\data\\CURATED\\region\\ME.csv\nc:\\Users\\utilisateur\\Documents\\Intermovie\\Intermovie-Group1\\data\\CURATED\\region\\RE.csv\nc:\\Users\\utilisateur\\Documents\\Intermovie\\Intermovie-Group1\\data\\CURATED\\region\\KY.csv\nc:\\Users\\utilisateur\\Documents\\Intermovie\\Intermovie-Group1\\data\\CURATED\\region\\FO.csv\nc:\\Users\\utilisateur\\Documents\\Intermovie\\Intermovie-Group1\\data\\CURATED\\region\\MV.csv\nc:\\Users\\utilisateur\\Documents\\Intermovie\\Intermovie-Group1\\data\\CURATED\\region\\FJ.csv\nc:\\Users\\utilisateur\\Documents\\Intermovie\\Intermovie-Group1\\data\\CURATED\\region\\NC.csv\nc:\\Users\\utilisateur\\Documents\\Intermovie\\Intermovie-Group1\\data\\CURATED\\region\\SZ.csv\nc:\\Users\\utilisateur\\Documents\\Intermovie\\Intermovie-Group1\\data\\CURATED\\region\\LC.csv\nc:\\Users\\utilisateur\\Documents\\Intermovie\\Intermovie-Group1\\data\\CURATED\\region\\MH.csv\nc:\\Users\\utilisateur\\Documents\\Intermovie\\Intermovie-Group1\\data\\CURATED\\region\\VI.csv\nc:\\Users\\utilisateur\\Documents\\Intermovie\\Intermovie-Group1\\data\\CURATED\\region\\VC.csv\nc:\\Users\\utilisateur\\Documents\\Intermovie\\Intermovie-Group1\\data\\CURATED\\region\\DM.csv\nc:\\Users\\utilisateur\\Documents\\Intermovie\\Intermovie-Group1\\data\\CURATED\\region\\AN.csv\nc:\\Users\\utilisateur\\Documents\\Intermovie\\Intermovie-Group1\\data\\CURATED\\region\\XNA.csv\nc:\\Users\\utilisateur\\Documents\\Intermovie\\Intermovie-Group1\\data\\CURATED\\region\\MW.csv\nc:\\Users\\utilisateur\\Documents\\Intermovie\\Intermovie-Group1\\data\\CURATED\\region\\GF.csv\nc:\\Users\\utilisateur\\Documents\\Intermovie\\Intermovie-Group1\\data\\CURATED\\region\\GM.csv\nc:\\Users\\utilisateur\\Documents\\Intermovie\\Intermovie-Group1\\data\\CURATED\\region\\LR.csv\nc:\\Users\\utilisateur\\Documents\\Intermovie\\Intermovie-Group1\\data\\CURATED\\region\\EH.csv\nc:\\Users\\utilisateur\\Documents\\Intermovie\\Intermovie-Group1\\data\\CURATED\\region\\VU.csv\nc:\\Users\\utilisateur\\Documents\\Intermovie\\Intermovie-Group1\\data\\CURATED\\region\\SH.csv\nc:\\Users\\utilisateur\\Documents\\Intermovie\\Intermovie-Group1\\data\\CURATED\\region\\MS.csv\nc:\\Users\\utilisateur\\Documents\\Intermovie\\Intermovie-Group1\\data\\CURATED\\region\\TV.csv\nc:\\Users\\utilisateur\\Documents\\Intermovie\\Intermovie-Group1\\data\\CURATED\\region\\WS.csv\nc:\\Users\\utilisateur\\Documents\\Intermovie\\Intermovie-Group1\\data\\CURATED\\region\\BN.csv\nc:\\Users\\utilisateur\\Documents\\Intermovie\\Intermovie-Group1\\data\\CURATED\\region\\PF.csv\nc:\\Users\\utilisateur\\Documents\\Intermovie\\Intermovie-Group1\\data\\CURATED\\region\\XAU.csv\nc:\\Users\\utilisateur\\Documents\\Intermovie\\Intermovie-Group1\\data\\CURATED\\region\\CK.csv\nc:\\Users\\utilisateur\\Documents\\Intermovie\\Intermovie-Group1\\data\\CURATED\\region\\VA.csv\nc:\\Users\\utilisateur\\Documents\\Intermovie\\Intermovie-Group1\\data\\CURATED\\region\\TL.csv\nc:\\Users\\utilisateur\\Documents\\Intermovie\\Intermovie-Group1\\data\\CURATED\\region\\KM.csv\nc:\\Users\\utilisateur\\Documents\\Intermovie\\Intermovie-Group1\\data\\CURATED\\region\\AQ.csv\nc:\\Users\\utilisateur\\Documents\\Intermovie\\Intermovie-Group1\\data\\CURATED\\region\\PW.csv\nc:\\Users\\utilisateur\\Documents\\Intermovie\\Intermovie-Group1\\data\\CURATED\\region\\NR.csv\nc:\\Users\\utilisateur\\Documents\\Intermovie\\Intermovie-Group1\\data\\CURATED\\region\\GD.csv\nc:\\Users\\utilisateur\\Documents\\Intermovie\\Intermovie-Group1\\data\\CURATED\\region\\KN.csv\nc:\\Users\\utilisateur\\Documents\\Intermovie\\Intermovie-Group1\\data\\CURATED\\region\\AS.csv\nc:\\Users\\utilisateur\\Documents\\Intermovie\\Intermovie-Group1\\data\\CURATED\\region\\ST.csv\nc:\\Users\\utilisateur\\Documents\\Intermovie\\Intermovie-Group1\\data\\CURATED\\region\\SB.csv\nc:\\Users\\utilisateur\\Documents\\Intermovie\\Intermovie-Group1\\data\\CURATED\\region\\JE.csv\nc:\\Users\\utilisateur\\Documents\\Intermovie\\Intermovie-Group1\\data\\CURATED\\region\\MP.csv\nc:\\Users\\utilisateur\\Documents\\Intermovie\\Intermovie-Group1\\data\\CURATED\\region\\VG.csv\nc:\\Users\\utilisateur\\Documents\\Intermovie\\Intermovie-Group1\\data\\CURATED\\region\\KI.csv\nc:\\Users\\utilisateur\\Documents\\Intermovie\\Intermovie-Group1\\data\\CURATED\\region\\WF.csv\nc:\\Users\\utilisateur\\Documents\\Intermovie\\Intermovie-Group1\\data\\CURATED\\region\\AI.csv\n"
    }
   ],
   "source": [
    "sd.split_datas(cr.TITLE_BASICS, 'titleType')\n",
    "sd.split_datas(cr.TITLE_PRINCIPALS, 'category')\n",
    "sd.split_datas(cr.TITLE_AKAS, 'region')"
   ]
  },
  {
   "source": [
    "## Creation of \"global\" DataFrames\n",
    "\n",
    "The following cells create all of our dataFrames used recurrently within this NoteBook. They will be called global_filename by naming convention in order to determine their origin."
   ],
   "cell_type": "markdown",
   "metadata": {}
  },
  {
   "cell_type": "code",
   "execution_count": 4,
   "metadata": {},
   "outputs": [
    {
     "output_type": "execute_result",
     "data": {
      "text/plain": "           tconst originalTitle\ncount      536034        536034\nunique     536034        477163\ntop     tt8764430          Home\nfreq            1            49",
      "text/html": "<div>\n<style scoped>\n    .dataframe tbody tr th:only-of-type {\n        vertical-align: middle;\n    }\n\n    .dataframe tbody tr th {\n        vertical-align: top;\n    }\n\n    .dataframe thead th {\n        text-align: right;\n    }\n</style>\n<table border=\"1\" class=\"dataframe\">\n  <thead>\n    <tr style=\"text-align: right;\">\n      <th></th>\n      <th>tconst</th>\n      <th>originalTitle</th>\n    </tr>\n  </thead>\n  <tbody>\n    <tr>\n      <th>count</th>\n      <td>536034</td>\n      <td>536034</td>\n    </tr>\n    <tr>\n      <th>unique</th>\n      <td>536034</td>\n      <td>477163</td>\n    </tr>\n    <tr>\n      <th>top</th>\n      <td>tt8764430</td>\n      <td>Home</td>\n    </tr>\n    <tr>\n      <th>freq</th>\n      <td>1</td>\n      <td>49</td>\n    </tr>\n  </tbody>\n</table>\n</div>"
     },
     "metadata": {},
     "execution_count": 4
    }
   ],
   "source": [
    "global_title_basics = pd.read_csv(\"./data/CURATED/titleType/movie.csv\", usecols = ['tconst', 'originalTitle'])\n",
    "\n",
    "global_title_basics = global_title_basics.dropna(axis = 0)\n",
    "global_title_basics = global_title_basics.drop_duplicates()\n",
    "global_title_basics.describe()"
   ]
  },
  {
   "cell_type": "code",
   "execution_count": 5,
   "metadata": {},
   "outputs": [
    {
     "output_type": "execute_result",
     "data": {
      "text/plain": "           tconst     nconst\ncount    20971198   20971198\nunique    5127449    2514373\ntop     tt4295846  nm0318114\nfreq           10       8535",
      "text/html": "<div>\n<style scoped>\n    .dataframe tbody tr th:only-of-type {\n        vertical-align: middle;\n    }\n\n    .dataframe tbody tr th {\n        vertical-align: top;\n    }\n\n    .dataframe thead th {\n        text-align: right;\n    }\n</style>\n<table border=\"1\" class=\"dataframe\">\n  <thead>\n    <tr style=\"text-align: right;\">\n      <th></th>\n      <th>tconst</th>\n      <th>nconst</th>\n    </tr>\n  </thead>\n  <tbody>\n    <tr>\n      <th>count</th>\n      <td>20971198</td>\n      <td>20971198</td>\n    </tr>\n    <tr>\n      <th>unique</th>\n      <td>5127449</td>\n      <td>2514373</td>\n    </tr>\n    <tr>\n      <th>top</th>\n      <td>tt4295846</td>\n      <td>nm0318114</td>\n    </tr>\n    <tr>\n      <th>freq</th>\n      <td>10</td>\n      <td>8535</td>\n    </tr>\n  </tbody>\n</table>\n</div>"
     },
     "metadata": {},
     "execution_count": 5
    }
   ],
   "source": [
    "local_actor = pd.read_csv(\"./data/CURATED/category/actor.csv\", usecols = ['tconst', 'nconst'])\n",
    "local_actress = pd.read_csv(\"./data/CURATED/category/actress.csv\", usecols = ['tconst', 'nconst'])\n",
    "local_self = pd.read_csv(\"./data/CURATED/category/self.csv\", usecols = ['tconst', 'nconst'])\n",
    "\n",
    "global_title_principals = pd.concat([local_actor, local_actress, local_self])\n",
    "global_title_principals = global_title_principals.dropna(axis = 0)\n",
    "global_title_principals = global_title_principals.drop_duplicates()\n",
    "\n",
    "del local_actor\n",
    "del local_actress\n",
    "del local_self\n",
    "\n",
    "global_title_principals.describe()"
   ]
  },
  {
   "cell_type": "code",
   "execution_count": 6,
   "metadata": {},
   "outputs": [
    {
     "output_type": "execute_result",
     "data": {
      "text/plain": "           nconst  primaryName\ncount     9706922      9706922\nunique    9706922      7618021\ntop     nm3926615  David Smith\nfreq            1          310",
      "text/html": "<div>\n<style scoped>\n    .dataframe tbody tr th:only-of-type {\n        vertical-align: middle;\n    }\n\n    .dataframe tbody tr th {\n        vertical-align: top;\n    }\n\n    .dataframe thead th {\n        text-align: right;\n    }\n</style>\n<table border=\"1\" class=\"dataframe\">\n  <thead>\n    <tr style=\"text-align: right;\">\n      <th></th>\n      <th>nconst</th>\n      <th>primaryName</th>\n    </tr>\n  </thead>\n  <tbody>\n    <tr>\n      <th>count</th>\n      <td>9706922</td>\n      <td>9706922</td>\n    </tr>\n    <tr>\n      <th>unique</th>\n      <td>9706922</td>\n      <td>7618021</td>\n    </tr>\n    <tr>\n      <th>top</th>\n      <td>nm3926615</td>\n      <td>David Smith</td>\n    </tr>\n    <tr>\n      <th>freq</th>\n      <td>1</td>\n      <td>310</td>\n    </tr>\n  </tbody>\n</table>\n</div>"
     },
     "metadata": {},
     "execution_count": 6
    }
   ],
   "source": [
    "global_name_basics = pd.read_csv(\"./data/RAW/name.basics.tsv\", usecols = ['nconst', 'primaryName'], delimiter = '\\t')\n",
    "\n",
    "global_name_basics = global_name_basics.dropna(axis = 0)\n",
    "global_name_basics = global_name_basics.drop_duplicates()\n",
    "global_name_basics.describe()"
   ]
  },
  {
   "cell_type": "code",
   "execution_count": 7,
   "metadata": {},
   "outputs": [
    {
     "output_type": "execute_result",
     "data": {
      "text/plain": "           tconst\ncount      815853\nunique     815853\ntop     tt5659564\nfreq            1",
      "text/html": "<div>\n<style scoped>\n    .dataframe tbody tr th:only-of-type {\n        vertical-align: middle;\n    }\n\n    .dataframe tbody tr th {\n        vertical-align: top;\n    }\n\n    .dataframe thead th {\n        text-align: right;\n    }\n</style>\n<table border=\"1\" class=\"dataframe\">\n  <thead>\n    <tr style=\"text-align: right;\">\n      <th></th>\n      <th>tconst</th>\n    </tr>\n  </thead>\n  <tbody>\n    <tr>\n      <th>count</th>\n      <td>815853</td>\n    </tr>\n    <tr>\n      <th>unique</th>\n      <td>815853</td>\n    </tr>\n    <tr>\n      <th>top</th>\n      <td>tt5659564</td>\n    </tr>\n    <tr>\n      <th>freq</th>\n      <td>1</td>\n    </tr>\n  </tbody>\n</table>\n</div>"
     },
     "metadata": {},
     "execution_count": 7
    }
   ],
   "source": [
    "global_title_akas = pd.read_csv(\"./data/CURATED/region/US.csv\", usecols = ['titleId'])\n",
    "\n",
    "global_title_akas = global_title_akas.dropna(axis = 0)\n",
    "global_title_akas = global_title_akas.drop_duplicates()\n",
    "global_title_akas = global_title_akas.rename(columns = {'titleId' : 'tconst'})\n",
    "global_title_akas.describe()"
   ]
  },
  {
   "cell_type": "code",
   "execution_count": 8,
   "metadata": {},
   "outputs": [
    {
     "output_type": "execute_result",
     "data": {
      "text/plain": "       averageRating\ncount  993153.000000\nmean        6.886546\nstd         1.400235\nmin         1.000000\n25%         6.100000\n50%         7.100000\n75%         7.900000\nmax        10.000000",
      "text/html": "<div>\n<style scoped>\n    .dataframe tbody tr th:only-of-type {\n        vertical-align: middle;\n    }\n\n    .dataframe tbody tr th {\n        vertical-align: top;\n    }\n\n    .dataframe thead th {\n        text-align: right;\n    }\n</style>\n<table border=\"1\" class=\"dataframe\">\n  <thead>\n    <tr style=\"text-align: right;\">\n      <th></th>\n      <th>averageRating</th>\n    </tr>\n  </thead>\n  <tbody>\n    <tr>\n      <th>count</th>\n      <td>993153.000000</td>\n    </tr>\n    <tr>\n      <th>mean</th>\n      <td>6.886546</td>\n    </tr>\n    <tr>\n      <th>std</th>\n      <td>1.400235</td>\n    </tr>\n    <tr>\n      <th>min</th>\n      <td>1.000000</td>\n    </tr>\n    <tr>\n      <th>25%</th>\n      <td>6.100000</td>\n    </tr>\n    <tr>\n      <th>50%</th>\n      <td>7.100000</td>\n    </tr>\n    <tr>\n      <th>75%</th>\n      <td>7.900000</td>\n    </tr>\n    <tr>\n      <th>max</th>\n      <td>10.000000</td>\n    </tr>\n  </tbody>\n</table>\n</div>"
     },
     "metadata": {},
     "execution_count": 8
    }
   ],
   "source": [
    "global_title_ratings = pd.read_csv(\"./data/RAW/title.ratings.tsv\", usecols = ['tconst', 'averageRating'], delimiter = '\\t')\n",
    "\n",
    "global_title_ratings = global_title_ratings.dropna(axis=0)\n",
    "global_title_ratings = global_title_ratings.drop_duplicates()\n",
    "global_title_ratings.describe()"
   ]
  },
  {
   "source": [
    "# 1- List of actors by film"
   ],
   "cell_type": "markdown",
   "metadata": {}
  },
  {
   "cell_type": "code",
   "execution_count": 9,
   "metadata": {},
   "outputs": [],
   "source": [
    "local_request_1 = global_title_principals.merge(global_title_basics, how = 'left', on = 'tconst')\n",
    "local_request_1 = local_request_1.merge(global_name_basics, how = 'left', on = 'nconst')\n",
    "local_request_1 = local_request_1.drop(['tconst', 'nconst'], axis = 1)\n",
    "local_request_1 = local_request_1.dropna(axis = 0)\n",
    "\n",
    "local_request_1_final = local_request_1.groupby('originalTitle', as_index = False).agg({'primaryName': ','.join}, axis = 0)\n",
    "local_request_1_final.columns = ['originalTitle', 'movieCasting']\n",
    "\n",
    "local_request_1_final.to_csv('./data/REQUESTS/request_1.csv')\n",
    "\n",
    "del local_request_1\n",
    "del local_request_1_final"
   ]
  },
  {
   "source": [
    "# 2- List of American films (keeping their name in French) and their average rating"
   ],
   "cell_type": "markdown",
   "metadata": {}
  },
  {
   "cell_type": "code",
   "execution_count": 10,
   "metadata": {
    "tags": []
   },
   "outputs": [
    {
     "output_type": "stream",
     "name": "stdout",
     "text": "6.130151340059558\n"
    }
   ],
   "source": [
    "local_request_2 = global_title_akas.merge(global_title_basics, how = 'left', on = 'tconst')\n",
    "local_request_2 = local_request_2.merge(global_title_ratings, how = 'left', on = 'tconst')\n",
    "local_request_2 = local_request_2.drop(['tconst'], axis = 1)\n",
    "local_request_2 = local_request_2.dropna(axis = 0)\n",
    "local_request_2 = local_request_2.drop_duplicates()\n",
    "\n",
    "local_request_2.to_csv('./data/REQUESTS/request_2.csv')\n",
    "\n",
    "mean_averageRating = local_request_2['averageRating'].mean()\n",
    "print(mean_averageRating)\n",
    "\n",
    "del local_request_2"
   ]
  },
  {
   "source": [
    "# 3- The average scores of the different genres"
   ],
   "cell_type": "markdown",
   "metadata": {}
  },
  {
   "cell_type": "code",
   "execution_count": 11,
   "metadata": {},
   "outputs": [],
   "source": [
    "local_title_basics = pd.read_csv(\"./data/RAW/title.basics.tsv\", usecols = ['tconst', 'genres'], delimiter = '\\t')\n",
    "local_title_basics_split = local_title_basics['genres'].str.split(\",\", expand = True)\n",
    "local_title_basics_split = local_title_basics_split.join(local_title_basics).drop(['genres'], axis = 1)\n",
    "\n",
    "local_request_3 = local_title_basics_split.merge(global_title_ratings, how = 'left', on = 'tconst')\n",
    "\n",
    "local_mean_1 = local_request_3.groupby([0])['averageRating'].mean()\n",
    "local_mean_2 = local_request_3.groupby([1])['averageRating'].mean()\n",
    "local_mean_3 = local_request_3.groupby([2])['averageRating'].mean()\n",
    "\n",
    "local_mean = pd.concat([local_mean_1, local_mean_2, local_mean_3], axis = 1, keys = [\"mean1\", \"mean2\", \"mean3\"])\n",
    "local_mean['mean'] = local_mean[['mean1', 'mean2', 'mean3']].mean(axis = 1)\n",
    "\n",
    "local_request_3 = local_mean.drop(['mean1', 'mean2', 'mean3'], axis = 1)\n",
    "\n",
    "local_request_3.to_csv('./data/REQUESTS/request_3.csv')\n",
    "\n",
    "del local_title_basics\n",
    "del local_title_basics_split\n",
    "del local_mean_1\n",
    "del local_mean_2\n",
    "del local_mean_3\n",
    "del local_mean\n",
    "del local_request_3"
   ]
  },
  {
   "source": [
    "# 4- The average rating of each actor in relation to the films in which he appears\n"
   ],
   "cell_type": "markdown",
   "metadata": {}
  },
  {
   "cell_type": "code",
   "execution_count": 12,
   "metadata": {},
   "outputs": [],
   "source": [
    "local_request_4 = global_title_principals.merge(global_title_basics, how = 'left', on = 'tconst')\n",
    "local_request_4 = local_request_4.merge(global_title_ratings, how = 'left', on = 'tconst')\n",
    "local_request_4 = local_request_4.merge(global_name_basics, how = 'left', on = 'nconst')\n",
    "local_request_4 = local_request_4.drop(['tconst', 'nconst'], axis = 1)\n",
    "local_request_4 = local_request_4.dropna(axis = 0)\n",
    "\n",
    "local_actor_average_rating = local_request_4.groupby('primaryName', as_index = False)['averageRating'].mean()\n",
    "local_actor_average_rating.columns = ['primaryName', 'actorAverageRating']\n",
    "local_actor_filmography = local_request_4.groupby('primaryName', as_index = False).agg({'originalTitle' : ','.join}, axis = 0)\n",
    "local_actor_filmography.columns = ['primaryName', 'actorFilmography']\n",
    "\n",
    "local_request_4 = local_request_4.merge(local_actor_average_rating, how = 'left', on = 'primaryName')\n",
    "local_request_4 = local_request_4.merge(local_actor_filmography, how = 'left', on = 'primaryName')\n",
    "local_request_4 = local_request_4.drop(['originalTitle', 'averageRating'], axis = 1)\n",
    "\n",
    "local_request_4.to_csv('./data/REQUESTS/request_4.csv')\n",
    "\n",
    "del local_actor_average_rating\n",
    "del local_actor_filmography\n",
    "del local_request_4"
   ]
  },
  {
   "cell_type": "code",
   "execution_count": 13,
   "metadata": {},
   "outputs": [],
   "source": [
    "del global_name_basics\n",
    "del global_title_akas\n",
    "del global_title_basics\n",
    "del global_title_principals\n",
    "del global_title_ratings"
   ]
  },
  {
   "cell_type": "code",
   "execution_count": null,
   "metadata": {},
   "outputs": [],
   "source": []
  }
 ]
}