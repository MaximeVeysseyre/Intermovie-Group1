{
 "metadata": {
  "language_info": {
   "codemirror_mode": {
    "name": "ipython",
    "version": 3
   },
   "file_extension": ".py",
   "mimetype": "text/x-python",
   "name": "python",
   "nbconvert_exporter": "python",
   "pygments_lexer": "ipython3",
   "version": "3.7.6-final"
  },
  "orig_nbformat": 2,
  "kernelspec": {
   "name": "python_defaultSpec_1600777425162",
   "display_name": "Python 3.7.6 64-bit ('utilisateur': virtualenv)"
  }
 },
 "nbformat": 4,
 "nbformat_minor": 2,
 "cells": [
  {
   "source": [
    "# Projet Intermovie\n",
    "\n",
    "Ce Notebook a pour but d'analyser un dataset de films dans le but de récupérer plusieurs informations :\n",
    "\n",
    "- La liste des acteurs par film.\n",
    "\n",
    "- La liste des films Américains (en gardant leur nom en français) et leur note moyenne.\n",
    "\n",
    "- Les notes moyennes des différents genres.\n",
    "\n",
    "- La note moyenne de chaque acteur par rapport aux films dans lesquels il apparaît."
   ],
   "cell_type": "markdown",
   "metadata": {}
  },
  {
   "source": [
    "## Structure des fichiers tsv\n",
    "\n",
    "- name.basics :         nconst / primaryName / birthYear / deathYear / primaryProfession / knownForTitles\n",
    "- title.akas :          titleId / ordering / title / region / language / types / attributes / isOriginalTitle\n",
    "- title.basics :        tconst / titleType / primaryTitle / originalTitle / isAdult / startYear / endYear / runtimeMinutes / genres\n",
    "- title.principals :    tconst / ordering / nconst / category / job / characters\n",
    "- title.ratings :       tconst / averageRating / numVotes"
   ],
   "cell_type": "markdown",
   "metadata": {}
  },
  {
   "source": [
    "# 1- Liste des acteurs par film"
   ],
   "cell_type": "markdown",
   "metadata": {}
  },
  {
   "cell_type": "code",
   "execution_count": null,
   "metadata": {},
   "outputs": [],
   "source": [
    "# Extension IPython rechargeant les modules avant que l'utilisateur saisisse du code.\n",
    "%load_ext autoreload\n",
    "%autoreload 2\n",
    "\n",
    "# Import des librairies.\n",
    "import pandas as pd\n",
    "import matplotlib.pyplot as plt\n",
    "import numpy as np"
   ]
  },
  {
   "source": [
    "## Nettoyage des fichiers tsv \n",
    "\n",
    "- Suppression des colonnes inutiles.\n",
    "- Suppression des lignes comportant des cellules vides.\n",
    "- Suppression des lignes entièrement identiques.\n",
    "\n",
    "On réalise cela pour les fichiers name.basics, title.basics et title.principals."
   ],
   "cell_type": "markdown",
   "metadata": {}
  },
  {
   "source": [
    "### **Nettoyage du fichier name.basics**"
   ],
   "cell_type": "markdown",
   "metadata": {}
  },
  {
   "cell_type": "code",
   "execution_count": null,
   "metadata": {},
   "outputs": [],
   "source": [
    "# On lit le fichier name.basics que l'on insère dans un dataframe.\n",
    "df_name_basics = pd.read_table(\"./data/name.basics.tsv\")"
   ]
  },
  {
   "cell_type": "code",
   "execution_count": null,
   "metadata": {},
   "outputs": [],
   "source": [
    "# On visualise les noms des colonnes afin de déterminer celles qui doivent être supprimées.\n",
    "df_name_basics.columns"
   ]
  },
  {
   "cell_type": "code",
   "execution_count": null,
   "metadata": {},
   "outputs": [],
   "source": [
    "# On ne conserve que les colonnes \"nconst\" et \"primaryName\".\n",
    "df_name_basics = df_name_basics.drop(['birthYear', 'deathYear', 'primaryProfession', 'knownForTitles'], axis = 1)"
   ]
  },
  {
   "cell_type": "code",
   "execution_count": null,
   "metadata": {},
   "outputs": [],
   "source": [
    "# On supprime les lignes comprenant des cellules vides ainsi que les lignes identiques.\n",
    "df_name_basics = df_name_basics.dropna(axis = 0)\n",
    "df_name_basics = df_name_basics.drop_duplicates()"
   ]
  },
  {
   "cell_type": "code",
   "execution_count": null,
   "metadata": {},
   "outputs": [],
   "source": [
    "# On vérifie que le nombre total de lignes est bien égal pour l'ensemble des colonnes.\n",
    "df_name_basics.describe()"
   ]
  },
  {
   "cell_type": "code",
   "execution_count": null,
   "metadata": {},
   "outputs": [],
   "source": [
    "# On exporte ce DataFrame nettoyé au sein d'un fichier CSV.\n",
    "# df_name_basics.to_csv('name.basics.request_1.csv')"
   ]
  },
  {
   "source": [
    "### **Nettoyage du fichier title.basics**"
   ],
   "cell_type": "markdown",
   "metadata": {}
  },
  {
   "cell_type": "code",
   "execution_count": null,
   "metadata": {},
   "outputs": [],
   "source": [
    "# On lit le fichier title.basics que l'on insère dans un dataframe.\n",
    "df_title_basics = pd.read_table(\"./data/title.basics.tsv\")"
   ]
  },
  {
   "cell_type": "code",
   "execution_count": null,
   "metadata": {},
   "outputs": [],
   "source": [
    "# On visualise les noms des colonnes afin de déterminer celles qui doivent être supprimées.\n",
    "df_title_basics.columns"
   ]
  },
  {
   "cell_type": "code",
   "execution_count": null,
   "metadata": {},
   "outputs": [],
   "source": [
    "# On effectue une regex afin de conserver que les lignes ayant comme 'titleType' -> 'movie'.\n",
    "# On ne conserve que les colonnes 'tconst', 'titleType' et 'originalTitle'.\n",
    "df_title_basics = df_title_basics[['tconst', 'titleType', 'originalTitle']][df_title_basics['titleType'].str.contains('movie', regex = True)]"
   ]
  },
  {
   "cell_type": "code",
   "execution_count": null,
   "metadata": {},
   "outputs": [],
   "source": [
    "# On ne conserve que les colonnes 'tconst' et 'originalTitle'.\n",
    "df_title_basics = df_title_basics.drop(['titleType'], axis = 1)"
   ]
  },
  {
   "cell_type": "code",
   "execution_count": null,
   "metadata": {},
   "outputs": [],
   "source": [
    "# On supprime les lignes comprenant des cellules vides ainsi que les lignes identiques.\n",
    "df_title_basics = df_title_basics.dropna(axis = 0)\n",
    "df_title_basics = df_title_basics.drop_duplicates()"
   ]
  },
  {
   "cell_type": "code",
   "execution_count": null,
   "metadata": {},
   "outputs": [],
   "source": [
    "# On vérifie que le nombre total de lignes est bien égal pour l'ensemble des colonnes.\n",
    "df_title_basics.describe()"
   ]
  },
  {
   "cell_type": "code",
   "execution_count": null,
   "metadata": {},
   "outputs": [],
   "source": [
    "# On exporte ce DataFrame nettoyé au sein d'un fichier CSV.\n",
    "# df_title_basics.to_csv('title.basics.request_1.csv')"
   ]
  },
  {
   "source": [
    "### **Nettoyage du fichier title.principals**"
   ],
   "cell_type": "markdown",
   "metadata": {}
  },
  {
   "cell_type": "code",
   "execution_count": null,
   "metadata": {},
   "outputs": [],
   "source": [
    "# On lit le fichier title.principals que l'on insère dans un dataframe.\n",
    "df_title_principals = pd.read_table(\"./data/title.principals.tsv\")"
   ]
  },
  {
   "cell_type": "code",
   "execution_count": 41,
   "metadata": {},
   "outputs": [
    {
     "output_type": "execute_result",
     "data": {
      "text/plain": "Index(['tconst', 'nconst'], dtype='object')"
     },
     "metadata": {},
     "execution_count": 41
    }
   ],
   "source": [
    "# On visualise les noms des colonnes afin de déterminer celles qui doivent être supprimées.\n",
    "df_title_principals.columns"
   ]
  },
  {
   "cell_type": "code",
   "execution_count": null,
   "metadata": {},
   "outputs": [],
   "source": [
    "# On effectue une regex afin de conserver que les lignes ayant comme 'category' -> 'actor' ou 'actress' ou 'self'.\n",
    "# On ne conserve que les colonnes 'tconst', 'nconst' et 'category'.\n",
    "df_title_principals = df_title_principals[['tconst', 'nconst', 'category']][df_title_principals['category'].str.contains('self|actor|actress', regex = True)]"
   ]
  },
  {
   "cell_type": "code",
   "execution_count": null,
   "metadata": {},
   "outputs": [],
   "source": [
    "# On ne conserve que les colonnes 'tconst' et 'nconst'.\n",
    "df_title_principals = df_title_principals.drop(['category'], axis = 1)"
   ]
  },
  {
   "cell_type": "code",
   "execution_count": null,
   "metadata": {},
   "outputs": [],
   "source": [
    "# On supprime les lignes comprenant des cellules vides ainsi que les lignes identiques.\n",
    "df_title_principals = df_title_principals.dropna(axis = 0)\n",
    "df_title_principals = df_title_principals.drop_duplicates()"
   ]
  },
  {
   "cell_type": "code",
   "execution_count": null,
   "metadata": {},
   "outputs": [],
   "source": [
    "# On vérifie que le nombre total de lignes est bien égal pour l'ensemble des colonnes.\n",
    "df_title_principals.describe()"
   ]
  },
  {
   "cell_type": "code",
   "execution_count": null,
   "metadata": {},
   "outputs": [],
   "source": [
    "# On exporte ce DataFrame nettoyé au sein d'un fichier CSV.\n",
    "# df_title_principals.to_csv('title.principals.request_1.csv')"
   ]
  },
  {
   "source": [
    "## Merge des DataFrames + Nettoyage\n",
    "\n",
    "On fusionne les DataFrames afin d'avoir dans le même DataFrame les noms des acteurs ainsi que les noms des films. On utilise pour cela nos deux clés d'identification : tconst et nconst."
   ],
   "cell_type": "markdown",
   "metadata": {}
  },
  {
   "cell_type": "code",
   "execution_count": 33,
   "metadata": {},
   "outputs": [],
   "source": [
    "df_fusion = df_title_principals.merge(df_title_basics, how = 'left', on = 'tconst')"
   ]
  },
  {
   "cell_type": "code",
   "execution_count": 36,
   "metadata": {},
   "outputs": [],
   "source": [
    "df_fusion = df_fusion.merge(df_name_basics, how = 'left', on = 'nconst')"
   ]
  },
  {
   "cell_type": "code",
   "execution_count": 37,
   "metadata": {},
   "outputs": [],
   "source": [
    "# On ne conserve que les colonnes 'primaryName' et 'originalTitle'.\n",
    "df_fusion = df_fusion.drop(['tconst', 'nconst'], axis = 1)"
   ]
  },
  {
   "cell_type": "code",
   "execution_count": 38,
   "metadata": {},
   "outputs": [],
   "source": [
    "# On supprime les lignes comprenant des cellules vides.\n",
    "df_fusion = df_fusion.dropna(axis = 0)"
   ]
  },
  {
   "cell_type": "code",
   "execution_count": 54,
   "metadata": {},
   "outputs": [],
   "source": [
    "df_final = df_fusion.groupby('originalTitle').agg({'primaryName': ','.join}, axis = 0)"
   ]
  },
  {
   "cell_type": "code",
   "execution_count": 55,
   "metadata": {},
   "outputs": [],
   "source": [
    "# On exporte ce DataFrame correspondant au résultat de la requête dans un fichier CSV.\n",
    "df_final.to_csv('request_1.csv')"
   ]
  }
 ]
}