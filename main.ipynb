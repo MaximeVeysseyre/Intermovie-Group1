{
 "metadata": {
  "language_info": {
   "codemirror_mode": {
    "name": "ipython",
    "version": 3
   },
   "file_extension": ".py",
   "mimetype": "text/x-python",
   "name": "python",
   "nbconvert_exporter": "python",
   "pygments_lexer": "ipython3",
   "version": "3.7.9-final"
  },
  "orig_nbformat": 2,
  "kernelspec": {
   "name": "Python 3.7.9 64-bit ('intermovie': conda)",
   "display_name": "Python 3.7.9 64-bit ('intermovie': conda)",
   "metadata": {
    "interpreter": {
     "hash": "e158c6071094e0b3fdd2c320e554ca330ac70e308835a49627938a89d3ec7dcb"
    }
   }
  }
 },
 "nbformat": 4,
 "nbformat_minor": 2,
 "cells": [
  {
   "source": [
    "# Intermovie project\n",
    "\n",
    "This Notebook aims to analyze a dataset of films in order to retrieve several information:\n",
    "\n",
    "- The list of actors by film.\n",
    "\n",
    "- The list of American films (keeping their name in French) and their average rating.\n",
    "\n",
    "- The average scores of the different genres.\n",
    "\n",
    "- The average rating of each actor in relation to the films in which he appears.\n",
    "\n",
    "\n",
    "## Structure of tsv files\n",
    "\n",
    "- name.basics :         nconst / primaryName / birthYear / deathYear / primaryProfession / knownForTitles\n",
    "\n",
    "- title.akas :          titleId / ordering / title / region / language / types / attributes / isOriginalTitle\n",
    "\n",
    "- title.basics :        tconst / titleType / primaryTitle / originalTitle / isAdult / startYear / endYear / runtimeMinutes / genres\n",
    "\n",
    "- title.principals :    tconst / ordering / nconst / category / job / characters\n",
    "\n",
    "- title.ratings :       tconst / averageRating / numVotes\n",
    "\n",
    "\n",
    "## Import from libraries"
   ],
   "cell_type": "markdown",
   "metadata": {}
  },
  {
   "cell_type": "code",
   "execution_count": null,
   "metadata": {
    "tags": []
   },
   "outputs": [],
   "source": [
    "# IPython extension reloading modules before user enters code.\n",
    "%load_ext autoreload\n",
    "%autoreload 2\n",
    "\n",
    "import pandas as pd\n",
    "import matplotlib.pyplot as plt\n",
    "import numpy as np\n",
    "\n",
    "from src.credentials import Credentials as cr\n",
    "import src.split_datas as sd"
   ]
  },
  {
   "source": [
    "## Data split\n",
    "\n",
    "We use here the function ** split_datas ** allowing us to sort the data according to our needs by creating CSV files sorted according to a specified column directly in a folder of the name of this column.\n",
    "\n",
    "*Example* : We want to sort the films by region, this will create a \"region\" folder and fill it with the different regions of the world in the form of several CSV files (FR.csv, UK.csv, US.csv etc.)."
   ],
   "cell_type": "markdown",
   "metadata": {}
  },
  {
   "cell_type": "code",
   "execution_count": null,
   "metadata": {
    "tags": [
     "outputPrepend"
    ]
   },
   "outputs": [],
   "source": [
    "sd.split_datas(cr.TITLE_BASICS, 'titleType')\n",
    "sd.split_datas(cr.TITLE_PRINCIPALS, 'category')\n",
    "sd.split_datas(cr.TITLE_AKAS, 'region')"
   ]
  },
  {
   "source": [
    "## Creation of \"global\" DataFrames\n",
    "\n",
    "The following cells create all of our dataFrames used recurrently within this NoteBook. They will be called global_filename by naming convention in order to determine their origin."
   ],
   "cell_type": "markdown",
   "metadata": {}
  },
  {
   "cell_type": "code",
   "execution_count": null,
   "metadata": {},
   "outputs": [],
   "source": [
    "global_title_basics = pd.read_csv(\"./data/CURATED/titleType/movie.csv\", usecols = ['tconst', 'originalTitle'])\n",
    "\n",
    "global_title_basics = global_title_basics.dropna(axis = 0)\n",
    "global_title_basics = global_title_basics.drop_duplicates()\n",
    "global_title_basics.describe()"
   ]
  },
  {
   "cell_type": "code",
   "execution_count": null,
   "metadata": {},
   "outputs": [],
   "source": [
    "local_actor = pd.read_csv(\"./data/CURATED/category/actor.csv\", usecols = ['tconst', 'nconst'])\n",
    "local_actress = pd.read_csv(\"./data/CURATED/category/actress.csv\", usecols = ['tconst', 'nconst'])\n",
    "local_self = pd.read_csv(\"./data/CURATED/category/self.csv\", usecols = ['tconst', 'nconst'])\n",
    "\n",
    "global_title_principals = pd.concat([local_actor, local_actress, local_self])\n",
    "global_title_principals = global_title_principals.dropna(axis = 0)\n",
    "global_title_principals = global_title_principals.drop_duplicates()\n",
    "\n",
    "del local_actor\n",
    "del local_actress\n",
    "del local_self\n",
    "\n",
    "global_title_principals.describe()"
   ]
  },
  {
   "cell_type": "code",
   "execution_count": null,
   "metadata": {},
   "outputs": [],
   "source": [
    "global_name_basics = pd.read_csv(\"./data/RAW/name.basics.tsv\", usecols = ['nconst', 'primaryName'], delimiter = '\\t')\n",
    "\n",
    "global_name_basics = global_name_basics.dropna(axis = 0)\n",
    "global_name_basics = global_name_basics.drop_duplicates()\n",
    "global_name_basics.describe()"
   ]
  },
  {
   "cell_type": "code",
   "execution_count": null,
   "metadata": {},
   "outputs": [],
   "source": [
    "global_title_akas = pd.read_csv(\"./data/CURATED/region/US.csv\", usecols = ['titleId'])\n",
    "\n",
    "global_title_akas = global_title_akas.dropna(axis = 0)\n",
    "global_title_akas = global_title_akas.drop_duplicates()\n",
    "global_title_akas = global_title_akas.rename(columns = {'titleId' : 'tconst'})\n",
    "global_title_akas.describe()"
   ]
  },
  {
   "cell_type": "code",
   "execution_count": null,
   "metadata": {},
   "outputs": [],
   "source": [
    "global_title_ratings = pd.read_csv(\"./data/RAW/title.ratings.tsv\", usecols = ['tconst', 'averageRating'], delimiter = '\\t')\n",
    "\n",
    "global_title_ratings = global_title_ratings.dropna(axis=0)\n",
    "global_title_ratings = global_title_ratings.drop_duplicates()\n",
    "global_title_ratings.describe()"
   ]
  },
  {
   "source": [
    "# 1- List of actors by film"
   ],
   "cell_type": "markdown",
   "metadata": {}
  },
  {
   "cell_type": "code",
   "execution_count": null,
   "metadata": {},
   "outputs": [],
   "source": [
    "local_request_1 = global_title_principals.merge(global_title_basics, how = 'left', on = 'tconst')\n",
    "local_request_1 = local_request_1.merge(global_name_basics, how = 'left', on = 'nconst')\n",
    "local_request_1 = local_request_1.drop(['tconst', 'nconst'], axis = 1)\n",
    "local_request_1 = local_request_1.dropna(axis = 0)\n",
    "\n",
    "local_request_1_final = local_request_1.groupby('originalTitle', as_index = False).agg({'primaryName': ','.join}, axis = 0)\n",
    "local_request_1_final.columns = ['originalTitle', 'movieCasting']\n",
    "\n",
    "local_request_1_final.to_csv('./data/REQUESTS/request_1.csv')\n",
    "\n",
    "del local_request_1\n",
    "del local_request_1_final"
   ]
  },
  {
   "source": [
    "# 2- List of American films (keeping their name in French) and their average rating"
   ],
   "cell_type": "markdown",
   "metadata": {}
  },
  {
   "cell_type": "code",
   "execution_count": null,
   "metadata": {
    "tags": []
   },
   "outputs": [],
   "source": [
    "local_request_2 = global_title_akas.merge(global_title_basics, how = 'left', on = 'tconst')\n",
    "local_request_2 = local_request_2.merge(global_title_ratings, how = 'left', on = 'tconst')\n",
    "local_request_2 = local_request_2.drop(['tconst'], axis = 1)\n",
    "local_request_2 = local_request_2.dropna(axis = 0)\n",
    "local_request_2 = local_request_2.drop_duplicates()\n",
    "\n",
    "local_request_2.to_csv('./data/REQUESTS/request_2.csv')\n",
    "\n",
    "mean_averageRating = local_request_2['averageRating'].mean()\n",
    "print(mean_averageRating)\n",
    "\n",
    "del local_request_2"
   ]
  },
  {
   "source": [
    "# 3- The average scores of the different genres"
   ],
   "cell_type": "markdown",
   "metadata": {}
  },
  {
   "cell_type": "code",
   "execution_count": null,
   "metadata": {},
   "outputs": [],
   "source": [
    "local_title_basics = pd.read_csv(\"./data/RAW/title.basics.tsv\", usecols = ['tconst', 'genres'], delimiter = '\\t')\n",
    "local_title_basics_split = local_title_basics['genres'].str.split(\",\", expand = True)\n",
    "local_title_basics_split = local_title_basics_split.join(local_title_basics).drop(['genres'], axis = 1)\n",
    "\n",
    "local_request_3 = local_title_basics_split.merge(global_title_ratings, how = 'left', on = 'tconst')\n",
    "\n",
    "local_mean_1 = local_request_3.groupby([0])['averageRating'].mean()\n",
    "local_mean_2 = local_request_3.groupby([1])['averageRating'].mean()\n",
    "local_mean_3 = local_request_3.groupby([2])['averageRating'].mean()\n",
    "\n",
    "local_mean = pd.concat([local_mean_1, local_mean_2, local_mean_3], axis = 1, keys = [\"mean1\", \"mean2\", \"mean3\"])\n",
    "local_mean['mean'] = local_mean[['mean1', 'mean2', 'mean3']].mean(axis = 1)\n",
    "\n",
    "local_request_3 = local_mean.drop(['mean1', 'mean2', 'mean3'], axis = 1)\n",
    "\n",
    "local_request_3.to_csv('./data/REQUESTS/request_3.csv')\n",
    "\n",
    "del local_title_basics\n",
    "del local_title_basics_split\n",
    "del local_mean_1\n",
    "del local_mean_2\n",
    "del local_mean_3\n",
    "del local_mean\n",
    "del local_request_3"
   ]
  },
  {
   "source": [
    "# 4- The average rating of each actor in relation to the films in which he appears\n"
   ],
   "cell_type": "markdown",
   "metadata": {}
  },
  {
   "cell_type": "code",
   "execution_count": null,
   "metadata": {},
   "outputs": [],
   "source": [
    "local_request_4 = global_title_principals.merge(global_title_basics, how = 'left', on = 'tconst')\n",
    "local_request_4 = local_request_4.merge(global_title_ratings, how = 'left', on = 'tconst')\n",
    "local_request_4 = local_request_4.merge(global_name_basics, how = 'left', on = 'nconst')\n",
    "local_request_4 = local_request_4.drop(['tconst', 'nconst'], axis = 1)\n",
    "local_request_4 = local_request_4.dropna(axis = 0)\n",
    "\n",
    "local_actor_average_rating = local_request_4.groupby('primaryName', as_index = False)['averageRating'].mean()\n",
    "local_actor_average_rating.columns = ['primaryName', 'actorAverageRating']\n",
    "local_actor_filmography = local_request_4.groupby('primaryName', as_index = False).agg({'originalTitle' : ','.join}, axis = 0)\n",
    "local_actor_filmography.columns = ['primaryName', 'actorFilmography']\n",
    "\n",
    "local_request_4 = local_request_4.merge(local_actor_average_rating, how = 'left', on = 'primaryName')\n",
    "local_request_4 = local_request_4.merge(local_actor_filmography, how = 'left', on = 'primaryName')\n",
    "local_request_4 = local_request_4.drop(['originalTitle', 'averageRating'], axis = 1)\n",
    "\n",
    "local_request_4.to_csv('./data/REQUESTS/request_4.csv')\n",
    "\n",
    "del local_actor_average_rating\n",
    "del local_actor_filmography\n",
    "del local_request_4"
   ]
  },
  {
   "cell_type": "code",
   "execution_count": null,
   "metadata": {},
   "outputs": [],
   "source": [
    "del global_name_basics\n",
    "del global_title_akas\n",
    "del global_title_basics\n",
    "del global_title_principals\n",
    "del global_title_ratings"
   ]
  }
 ]
}