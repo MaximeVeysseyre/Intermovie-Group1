{
 "metadata": {
  "language_info": {
   "codemirror_mode": {
    "name": "ipython",
    "version": 3
   },
   "file_extension": ".py",
   "mimetype": "text/x-python",
   "name": "python",
   "nbconvert_exporter": "python",
   "pygments_lexer": "ipython3",
   "version": "3.7.6-final"
  },
  "orig_nbformat": 2,
  "kernelspec": {
   "name": "python_defaultSpec_1600777425162",
   "display_name": "Python 3.7.6 64-bit ('utilisateur': virtualenv)"
  }
 },
 "nbformat": 4,
 "nbformat_minor": 2,
 "cells": [
  {
   "source": [
    "# Projet Intermovie\n",
    "\n",
    "Ce Notebook a pour but d'analyser un dataset de films dans le but de récupérer plusieurs informations :\n",
    "\n",
    "- La liste des acteurs par film.\n",
    "\n",
    "- La liste des films Américains (en gardant leur nom en français) et leur note moyenne.\n",
    "\n",
    "- Les notes moyennes des différents genres.    \n",
    "\n",
    "- La note moyenne de chaque acteur par rapport aux films dans lesquels il apparaît.\n",
    "\n",
    "\n",
    "## Structure des fichiers tsv\n",
    "\n",
    "- name.basics :         nconst / primaryName / birthYear / deathYear / primaryProfession / knownForTitles\n",
    "- title.akas :          titleId / ordering / title / region / language / types / attributes / isOriginalTitle\n",
    "- title.basics :        tconst / titleType / primaryTitle / originalTitle / isAdult / startYear / endYear / runtimeMinutes / genres\n",
    "- title.principals :    tconst / ordering / nconst / category / job / characters\n",
    "- title.ratings :       tconst / averageRating / numVotes\n",
    "\n",
    "\n",
    "# 1- Liste des acteurs par film\n",
    "\n",
    "## Nettoyage des datasets\n",
    "\n",
    "- Suppression des colonnes inutiles.\n",
    "- Suppression des lignes comportant des cellules vides.\n",
    "- Suppression des lignes entièrement identiques.\n",
    "\n",
    "On réalise cela pour les fichiers name.basics, title.basics et title.principals.\n",
    "\n",
    "### Nettoyage du dataset name.basics\n"
   ],
   "cell_type": "markdown",
   "metadata": {}
  },
  {
   "cell_type": "code",
   "execution_count": null,
   "metadata": {},
   "outputs": [],
   "source": [
    "# Extension IPython rechargeant les modules avant que l'utilisateur saisisse du code.\n",
    "%load_ext autoreload\n",
    "%autoreload 2\n",
    "\n",
    "# Import des librairies.\n",
    "import pandas as pd\n",
    "import matplotlib.pyplot as plt\n",
    "import numpy as np"
   ]
  },
  {
   "cell_type": "code",
   "execution_count": null,
   "metadata": {},
   "outputs": [],
   "source": [
    "df_name_basics = pd.read_table(\"./data/name.basics.tsv\")\n",
    "df_name_basics.columns\n",
    "df_name_basics = df_name_basics.drop(['birthYear', 'deathYear', 'primaryProfession', 'knownForTitles'], axis = 1)\n",
    "df_name_basics = df_name_basics.dropna(axis = 0)\n",
    "df_name_basics = df_name_basics.drop_duplicates()\n",
    "df_name_basics.describe()"
   ]
  },
  {
   "source": [
    "### **Nettoyage du fichier title.basics**"
   ],
   "cell_type": "markdown",
   "metadata": {}
  },
  {
   "cell_type": "code",
   "execution_count": null,
   "metadata": {},
   "outputs": [],
   "source": [
    "df_title_basics = pd.read_table(\"./data/title.basics.tsv\")\n",
    "df_title_basics.columns\n",
    "df_title_basics = df_title_basics[['tconst', 'titleType', 'originalTitle']][df_title_basics['titleType'].str.contains('movie', regex = True)]\n",
    "df_title_basics = df_title_basics.drop(['titleType'], axis = 1)\n",
    "df_title_basics = df_title_basics.dropna(axis = 0)\n",
    "df_title_basics = df_title_basics.drop_duplicates()\n",
    "df_title_basics.describe()"
   ]
  },
  {
   "source": [
    "### **Nettoyage du fichier title.principals**"
   ],
   "cell_type": "markdown",
   "metadata": {}
  },
  {
   "cell_type": "code",
   "execution_count": null,
   "metadata": {},
   "outputs": [],
   "source": [
    "df_title_principals = pd.read_table(\"./data/title.principals.tsv\")\n",
    "df_title_principals.columns\n",
    "df_title_principals = df_title_principals[['tconst', 'nconst', 'category']][df_title_principals['category'].str.contains('self|actor|actress', regex = True)]\n",
    "df_title_principals = df_title_principals.drop(['category'], axis = 1)\n",
    "df_title_principals = df_title_principals.dropna(axis = 0)\n",
    "df_title_principals = df_title_principals.drop_duplicates()\n",
    "df_title_principals.describe()"
   ]
  },
  {
   "source": [
    "## Merge des DataFrames + Nettoyage\n",
    "\n",
    "On fusionne les DataFrames afin d'avoir dans le même DataFrame les noms des acteurs ainsi que les noms des films. On utilise pour cela nos deux clés d'identification : tconst et nconst."
   ],
   "cell_type": "markdown",
   "metadata": {}
  },
  {
   "cell_type": "code",
   "execution_count": 33,
   "metadata": {},
   "outputs": [],
   "source": [
    "df_fusion = df_title_principals.merge(df_title_basics, how = 'left', on = 'tconst')\n",
    "df_fusion = df_fusion.merge(df_name_basics, how = 'left', on = 'nconst')\n",
    "df_fusion = df_fusion.drop(['tconst', 'nconst'], axis = 1)\n",
    "df_fusion = df_fusion.dropna(axis = 0)\n",
    "df_final = df_fusion.groupby('originalTitle').agg({'primaryName': ','.join}, axis = 0)\n",
    "df_final.to_csv('request_1.csv')"
   ]
  }
 ]
}