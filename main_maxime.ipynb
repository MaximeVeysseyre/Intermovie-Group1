{
 "metadata": {
  "language_info": {
   "codemirror_mode": {
    "name": "ipython",
    "version": 3
   },
   "file_extension": ".py",
   "mimetype": "text/x-python",
   "name": "python",
   "nbconvert_exporter": "python",
   "pygments_lexer": "ipython3",
   "version": "3.7.9-final"
  },
  "orig_nbformat": 2,
  "kernelspec": {
   "name": "python_defaultSpec_1600432831869",
   "display_name": "Python 3.7.9 64-bit ('intermovie': conda)"
  }
 },
 "nbformat": 4,
 "nbformat_minor": 2,
 "cells": [
  {
   "source": [
    "# Projet Intermovie\n",
    "\n",
    "Ce Notebook a pour but d'analyser un dataset de films dans le but de récupérer plusieurs informations :\n",
    "\n",
    "- La liste des acteurs par film.\n",
    "\n",
    "- La liste des films Américains (en gardant leur nom en français) et leur note moyenne.\n",
    "\n",
    "- Les notes moyennes des différents genres.\n",
    "\n",
    "- La note moyenne de chaque acteur par rapport aux films dans lesquels il apparaît."
   ],
   "cell_type": "markdown",
   "metadata": {}
  },
  {
   "source": [
    "## 1- Structure des fichiers tsv\n",
    "\n",
    "- name.basics :         nconst / primaryName / birthYear / deathYear / primaryProfession / knownForTitles\n",
    "- title.akas :          titleId / ordering / title / region / language / types / attributes / isOriginalTitle\n",
    "- title.basics :        tconst / titleType / primaryTitle / originalTitle / isAdult / startYear / endYear / runtimeMinutes / genres\n",
    "- title.principals :    tconst / ordering / nconst / category / job / characters\n",
    "- title.ratings :       tconst / averageRating / numVotes"
   ],
   "cell_type": "markdown",
   "metadata": {}
  },
  {
   "source": [
    "## 2- Liste des acteurs par film"
   ],
   "cell_type": "markdown",
   "metadata": {}
  },
  {
   "cell_type": "code",
   "execution_count": 7,
   "metadata": {
    "tags": []
   },
   "outputs": [
    {
     "output_type": "stream",
     "name": "stdout",
     "text": "The autoreload extension is already loaded. To reload it, use:\n  %reload_ext autoreload\n"
    }
   ],
   "source": [
    "# Extension IPython rechargeant les modules avant que l'utilisateur saisisse du code.\n",
    "%load_ext autoreload\n",
    "%autoreload 2\n",
    "\n",
    "# Import des librairies.\n",
    "import pandas as pd\n",
    "import numpy as np"
   ]
  },
  {
   "cell_type": "code",
   "execution_count": 14,
   "metadata": {},
   "outputs": [],
   "source": [
    "df = pd.read_table(\"./data/name.basics.tsv\")\n",
    "\n",
    "toto = 1"
   ]
  },
  {
   "cell_type": "code",
   "execution_count": null,
   "metadata": {},
   "outputs": [],
   "source": []
  }
 ]
}