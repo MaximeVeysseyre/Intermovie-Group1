{
 "metadata": {
  "language_info": {
   "codemirror_mode": {
    "name": "ipython",
    "version": 3
   },
   "file_extension": ".py",
   "mimetype": "text/x-python",
   "name": "python",
   "nbconvert_exporter": "python",
   "pygments_lexer": "ipython3",
   "version": "3.7.9-final"
  },
  "orig_nbformat": 2,
  "kernelspec": {
   "name": "python_defaultSpec_1600690149223",
   "display_name": "Python 3.7.9 64-bit ('intermovie': conda)"
  }
 },
 "nbformat": 4,
 "nbformat_minor": 2,
 "cells": [
  {
   "source": [
    "# Projet Intermovie\n",
    "\n",
    "Ce Notebook a pour but d'analyser un dataset de films dans le but de récupérer plusieurs informations :\n",
    "\n",
    "- La liste des acteurs par film.\n",
    "\n",
    "- La liste des films Américains (en gardant leur nom en français) et leur note moyenne.\n",
    "\n",
    "- Les notes moyennes des différents genres.\n",
    "\n",
    "- La note moyenne de chaque acteur par rapport aux films dans lesquels il apparaît."
   ],
   "cell_type": "markdown",
   "metadata": {}
  },
  {
   "source": [
    "## Structure des fichiers tsv\n",
    "\n",
    "- name.basics :         nconst / primaryName / birthYear / deathYear / primaryProfession / knownForTitles\n",
    "- title.akas :          titleId / ordering / title / region / language / types / attributes / isOriginalTitle\n",
    "- title.basics :        tconst / titleType / primaryTitle / originalTitle / isAdult / startYear / endYear / runtimeMinutes / genres\n",
    "- title.principals :    tconst / ordering / nconst / category / job / characters\n",
    "- title.ratings :       tconst / averageRating / numVotes\n",
    "\n",
    "## Nombre de lignes par échantillon\n",
    "\n",
    "Nous allons utiliser pour chaque dataframe un maximum de 1000 lignes afin d'avoir un échantillon représentatif sans avoir de latence sur le traitement des données."
   ],
   "cell_type": "markdown",
   "metadata": {}
  },
  {
   "source": [
    "\n",
    "## 1- Liste des acteurs par film"
   ],
   "cell_type": "markdown",
   "metadata": {}
  },
  {
   "cell_type": "code",
   "execution_count": 3,
   "metadata": {
    "tags": []
   },
   "outputs": [
    {
     "output_type": "stream",
     "name": "stdout",
     "text": "The autoreload extension is already loaded. To reload it, use:\n  %reload_ext autoreload\n"
    }
   ],
   "source": [
    "# Extension IPython rechargeant les modules avant que l'utilisateur saisisse du code.\n",
    "%load_ext autoreload\n",
    "%autoreload 2\n",
    "\n",
    "# Import des librairies.\n",
    "import pandas as pd\n",
    "import matplotlib.pyplot as plt\n",
    "import numpy as np"
   ]
  },
  {
   "cell_type": "code",
   "execution_count": 5,
   "metadata": {},
   "outputs": [],
   "source": [
    "# On lit le fichier name.basics que l'on insère dans un dataframe.\n",
    "df_noms = pd.read_table(\"./data/name.basics.tsv\")"
   ]
  },
  {
   "cell_type": "code",
   "execution_count": 7,
   "metadata": {},
   "outputs": [
    {
     "output_type": "execute_result",
     "data": {
      "text/plain": "Index(['nconst', 'primaryName', 'birthYear', 'deathYear', 'primaryProfession',\n       'knownForTitles'],\n      dtype='object')"
     },
     "metadata": {},
     "execution_count": 7
    }
   ],
   "source": [
    "df_noms.columns\n"
   ]
  },
  {
   "cell_type": "code",
   "execution_count": 16,
   "metadata": {},
   "outputs": [],
   "source": [
    "df_noms.drop(['birthYear', 'deathYear'], axis = 1)"
   ]
  },
  {
   "cell_type": "code",
   "execution_count": 18,
   "metadata": {},
   "outputs": [
    {
     "output_type": "execute_result",
     "data": {
      "text/plain": "            nconst         primaryName                    primaryProfession  \\\n0        nm0000001        Fred Astaire       soundtrack,actor,miscellaneous   \n1        nm0000002       Lauren Bacall                   actress,soundtrack   \n2        nm0000003     Brigitte Bardot          actress,soundtrack,producer   \n4        nm0000005      Ingmar Bergman                writer,director,actor   \n5        nm0000006      Ingrid Bergman          actress,soundtrack,producer   \n...            ...                 ...                                  ...   \n9706912  nm9993709           Lu Bevins                             director   \n9706916  nm9993713       Sambit Mishra                               writer   \n9706917  nm9993714   Romeo del Rosario  animation_department,art_department   \n9706919  nm9993717  Harikrishnan Rajan                      cinematographer   \n9706920  nm9993718         Aayush Nair                      cinematographer   \n\n                                  knownForTitles  \n0        tt0050419,tt0053137,tt0072308,tt0043044  \n1        tt0071877,tt0117057,tt0038355,tt0037382  \n2        tt0054452,tt0049189,tt0059956,tt0057345  \n4        tt0069467,tt0050976,tt0083922,tt0050986  \n5        tt0038109,tt0036855,tt0077711,tt0038787  \n...                                          ...  \n9706912                                tt8744286  \n9706916                                tt8325250  \n9706917                                tt2455546  \n9706919                                tt8736744  \n9706920                                       \\N  \n\n[7775896 rows x 4 columns]",
      "text/html": "<div>\n<style scoped>\n    .dataframe tbody tr th:only-of-type {\n        vertical-align: middle;\n    }\n\n    .dataframe tbody tr th {\n        vertical-align: top;\n    }\n\n    .dataframe thead th {\n        text-align: right;\n    }\n</style>\n<table border=\"1\" class=\"dataframe\">\n  <thead>\n    <tr style=\"text-align: right;\">\n      <th></th>\n      <th>nconst</th>\n      <th>primaryName</th>\n      <th>primaryProfession</th>\n      <th>knownForTitles</th>\n    </tr>\n  </thead>\n  <tbody>\n    <tr>\n      <th>0</th>\n      <td>nm0000001</td>\n      <td>Fred Astaire</td>\n      <td>soundtrack,actor,miscellaneous</td>\n      <td>tt0050419,tt0053137,tt0072308,tt0043044</td>\n    </tr>\n    <tr>\n      <th>1</th>\n      <td>nm0000002</td>\n      <td>Lauren Bacall</td>\n      <td>actress,soundtrack</td>\n      <td>tt0071877,tt0117057,tt0038355,tt0037382</td>\n    </tr>\n    <tr>\n      <th>2</th>\n      <td>nm0000003</td>\n      <td>Brigitte Bardot</td>\n      <td>actress,soundtrack,producer</td>\n      <td>tt0054452,tt0049189,tt0059956,tt0057345</td>\n    </tr>\n    <tr>\n      <th>4</th>\n      <td>nm0000005</td>\n      <td>Ingmar Bergman</td>\n      <td>writer,director,actor</td>\n      <td>tt0069467,tt0050976,tt0083922,tt0050986</td>\n    </tr>\n    <tr>\n      <th>5</th>\n      <td>nm0000006</td>\n      <td>Ingrid Bergman</td>\n      <td>actress,soundtrack,producer</td>\n      <td>tt0038109,tt0036855,tt0077711,tt0038787</td>\n    </tr>\n    <tr>\n      <th>...</th>\n      <td>...</td>\n      <td>...</td>\n      <td>...</td>\n      <td>...</td>\n    </tr>\n    <tr>\n      <th>9706912</th>\n      <td>nm9993709</td>\n      <td>Lu Bevins</td>\n      <td>director</td>\n      <td>tt8744286</td>\n    </tr>\n    <tr>\n      <th>9706916</th>\n      <td>nm9993713</td>\n      <td>Sambit Mishra</td>\n      <td>writer</td>\n      <td>tt8325250</td>\n    </tr>\n    <tr>\n      <th>9706917</th>\n      <td>nm9993714</td>\n      <td>Romeo del Rosario</td>\n      <td>animation_department,art_department</td>\n      <td>tt2455546</td>\n    </tr>\n    <tr>\n      <th>9706919</th>\n      <td>nm9993717</td>\n      <td>Harikrishnan Rajan</td>\n      <td>cinematographer</td>\n      <td>tt8736744</td>\n    </tr>\n    <tr>\n      <th>9706920</th>\n      <td>nm9993718</td>\n      <td>Aayush Nair</td>\n      <td>cinematographer</td>\n      <td>\\N</td>\n    </tr>\n  </tbody>\n</table>\n<p>7775896 rows × 4 columns</p>\n</div>"
     },
     "metadata": {},
     "execution_count": 18
    }
   ],
   "source": [
    "df_noms.dropna(axis = 0)"
   ]
  },
  {
   "cell_type": "code",
   "execution_count": 27,
   "metadata": {},
   "outputs": [],
   "source": [
    "df_noms.drop_duplicates()"
   ]
  },
  {
   "cell_type": "code",
   "execution_count": 29,
   "metadata": {},
   "outputs": [],
   "source": [
    " df_noms[['primaryName', 'primaryProfession', 'knownForTitles']][df_noms['primaryProfession'].str.contains('actor|actress', regex = True)]"
   ]
  },
  {
   "cell_type": "code",
   "execution_count": 30,
   "metadata": {},
   "outputs": [
    {
     "output_type": "execute_result",
     "data": {
      "text/plain": "       primaryName primaryProfession knownForTitles\ncount      3624969           3624969        3624969\nunique     3172763              4980        1914197\ntop           Alex             actor             \\N\nfreq           128           1772491         247943",
      "text/html": "<div>\n<style scoped>\n    .dataframe tbody tr th:only-of-type {\n        vertical-align: middle;\n    }\n\n    .dataframe tbody tr th {\n        vertical-align: top;\n    }\n\n    .dataframe thead th {\n        text-align: right;\n    }\n</style>\n<table border=\"1\" class=\"dataframe\">\n  <thead>\n    <tr style=\"text-align: right;\">\n      <th></th>\n      <th>primaryName</th>\n      <th>primaryProfession</th>\n      <th>knownForTitles</th>\n    </tr>\n  </thead>\n  <tbody>\n    <tr>\n      <th>count</th>\n      <td>3624969</td>\n      <td>3624969</td>\n      <td>3624969</td>\n    </tr>\n    <tr>\n      <th>unique</th>\n      <td>3172763</td>\n      <td>4980</td>\n      <td>1914197</td>\n    </tr>\n    <tr>\n      <th>top</th>\n      <td>Alex</td>\n      <td>actor</td>\n      <td>\\N</td>\n    </tr>\n    <tr>\n      <th>freq</th>\n      <td>128</td>\n      <td>1772491</td>\n      <td>247943</td>\n    </tr>\n  </tbody>\n</table>\n</div>"
     },
     "metadata": {},
     "execution_count": 30
    }
   ],
   "source": [
    "df_noms.describe()"
   ]
  },
  {
   "cell_type": "code",
   "execution_count": null,
   "metadata": {},
   "outputs": [],
   "source": [
    "df_noms['knownForTitles'].apply(lambda x : pd.Series(x.split(',')))"
   ]
  }
 ]
}