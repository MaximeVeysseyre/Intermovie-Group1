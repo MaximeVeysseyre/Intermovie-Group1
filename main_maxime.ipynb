{
 "metadata": {
  "language_info": {
   "codemirror_mode": {
    "name": "ipython",
    "version": 3
   },
   "file_extension": ".py",
   "mimetype": "text/x-python",
   "name": "python",
   "nbconvert_exporter": "python",
   "pygments_lexer": "ipython3",
   "version": "3.7.9-final"
  },
  "orig_nbformat": 2,
  "kernelspec": {
   "name": "Python 3.7.9 64-bit ('intermovie': conda)",
   "display_name": "Python 3.7.9 64-bit ('intermovie': conda)",
   "metadata": {
    "interpreter": {
     "hash": "e158c6071094e0b3fdd2c320e554ca330ac70e308835a49627938a89d3ec7dcb"
    }
   }
  }
 },
 "nbformat": 4,
 "nbformat_minor": 2,
 "cells": [
  {
   "source": [
    "# Projet Intermovie\n",
    "\n",
    "Ce Notebook a pour but d'analyser un dataset de films dans le but de récupérer plusieurs informations :\n",
    "\n",
    "- La liste des acteurs par film.\n",
    "\n",
    "- La liste des films Américains (en gardant leur nom en français) et leur note moyenne.\n",
    "\n",
    "- Les notes moyennes des différents genres.    \n",
    "\n",
    "- La note moyenne de chaque acteur par rapport aux films dans lesquels il apparaît.\n",
    "\n",
    "\n",
    "## Structure des fichiers tsv\n",
    "\n",
    "- name.basics :         nconst / primaryName / birthYear / deathYear / primaryProfession / knownForTitles\n",
    "- title.akas :          titleId / ordering / title / region / language / types / attributes / isOriginalTitle\n",
    "- title.basics :        tconst / titleType / primaryTitle / originalTitle / isAdult / startYear / endYear / runtimeMinutes / genres\n",
    "- title.principals :    tconst / ordering / nconst / category / job / characters\n",
    "- title.ratings :       tconst / averageRating / numVotes\n",
    "\n",
    "\n",
    "\n"
   ],
   "cell_type": "markdown",
   "metadata": {}
  },
  {
   "cell_type": "code",
   "execution_count": null,
   "metadata": {
    "tags": []
   },
   "outputs": [],
   "source": [
    "# Extension IPython rechargeant les modules avant que l'utilisateur saisisse du code.\n",
    "%load_ext autoreload\n",
    "%autoreload 2\n",
    "\n",
    "# Import des librairies.\n",
    "import pandas as pd\n",
    "import matplotlib.pyplot as plt\n",
    "import numpy as np\n",
    "\n",
    "from src.credentials import Credentials as cr\n",
    "import src.split_datas as sd"
   ]
  },
  {
   "source": [
    "# 1- Liste des acteurs par film"
   ],
   "cell_type": "markdown",
   "metadata": {}
  },
  {
   "cell_type": "code",
   "execution_count": null,
   "metadata": {},
   "outputs": [],
   "source": [
    "sd.split_datas(cr.TITLE_BASICS, 'titleType')"
   ]
  },
  {
   "cell_type": "code",
   "execution_count": null,
   "metadata": {},
   "outputs": [],
   "source": [
    "global_title_basics = pd.read_csv(\"./data/CURATED/titleType/movie.csv\", usecols = ['tconst', 'originalTitle'])\n",
    "global_title_basics = global_title_basics.dropna(axis = 0)\n",
    "global_title_basics = global_title_basics.drop_duplicates()\n",
    "global_title_basics.describe()"
   ]
  },
  {
   "cell_type": "code",
   "execution_count": null,
   "metadata": {},
   "outputs": [],
   "source": [
    "sd.split_datas(cr.TITLE_PRINCIPALS, 'category')"
   ]
  },
  {
   "cell_type": "code",
   "execution_count": null,
   "metadata": {},
   "outputs": [],
   "source": [
    "global_actor = pd.read_csv(\"./data/CURATED/category/actor.csv\", usecols = ['tconst', 'nconst'])\n",
    "global_actress = pd.read_csv(\"./data/CURATED/category/actress.csv\", usecols = ['tconst', 'nconst'])\n",
    "global_self = pd.read_csv(\"./data/CURATED/category/self.csv\", usecols = ['tconst', 'nconst'])\n",
    "global_title_principals = pd.concat([global_actor, global_actress, global_self])\n",
    "del global_actor\n",
    "del global_actress\n",
    "del global_self\n",
    "global_title_principals = global_title_principals.dropna(axis = 0)\n",
    "global_title_principals = global_title_principals.drop_duplicates()\n",
    "global_title_principals.describe()"
   ]
  },
  {
   "cell_type": "code",
   "execution_count": null,
   "metadata": {},
   "outputs": [],
   "source": [
    "global_name_basics = pd.read_csv(\"./data/RAW/name.basics.tsv\", usecols = ['nconst', 'primaryName'], delimiter = '\\t')\n",
    "global_name_basics = global_name_basics.dropna(axis = 0)\n",
    "global_name_basics = global_name_basics.drop_duplicates()\n",
    "global_name_basics.describe()"
   ]
  },
  {
   "cell_type": "code",
   "execution_count": null,
   "metadata": {},
   "outputs": [],
   "source": [
    "local_request_1 = global_title_principals.merge(global_title_basics, how = 'left', on = 'tconst')\n",
    "local_request_1 = local_request_1.merge(global_name_basics, how = 'left', on = 'nconst')\n",
    "del global_title_basics\n",
    "del global_title_principals\n",
    "del global_name_basics\n",
    "local_request_1 = local_request_1.drop(['tconst', 'nconst'], axis = 1)\n",
    "local_request_1 = local_request_1.dropna(axis = 0)\n",
    "local_request_1_final = local_request_1.groupby('originalTitle').agg({'primaryName': ','.join}, axis = 0)\n",
    "del local_request_1"
   ]
  },
  {
   "cell_type": "code",
   "execution_count": null,
   "metadata": {},
   "outputs": [],
   "source": [
    "local_request_1_final.to_csv('./data/REQUESTS/request_1.csv')\n",
    "del local_request_1_final"
   ]
  },
  {
   "source": [
    "# 2- Liste des films Américains (en gardant leur nom en français) et leur note moyenne"
   ],
   "cell_type": "markdown",
   "metadata": {}
  },
  {
   "cell_type": "code",
   "execution_count": null,
   "metadata": {},
   "outputs": [],
   "source": [
    "sd.split_datas(cr.TITLE_AKAS, 'region')"
   ]
  },
  {
   "cell_type": "code",
   "execution_count": null,
   "metadata": {},
   "outputs": [],
   "source": [
    "global_title_akas = pd.read_csv(\"./data/CURATED/region/US.csv\", usecols = ['titleId'])\n",
    "global_title_akas = global_title_akas.dropna(axis = 0)\n",
    "global_title_akas = global_title_akas.drop_duplicates()\n",
    "global_title_akas = global_title_akas.rename(columns = {'titleId' : 'tconst'})\n",
    "global_title_akas.describe()"
   ]
  },
  {
   "cell_type": "code",
   "execution_count": null,
   "metadata": {},
   "outputs": [],
   "source": [
    "global_title_basics = pd.read_csv(\"./data/CURATED/titleType/movie.csv\", usecols = ['tconst', 'originalTitle'])\n",
    "global_title_basics = global_title_basics.dropna(axis = 0)\n",
    "global_title_basics = global_title_basics.drop_duplicates()\n",
    "global_title_basics.describe()"
   ]
  },
  {
   "cell_type": "code",
   "execution_count": null,
   "metadata": {},
   "outputs": [],
   "source": [
    "global_title_ratings = pd.read_csv(\"./data/RAW/title.ratings.tsv\", usecols = ['tconst', 'averageRating'], delimiter = '\\t')\n",
    "global_title_ratings = global_title_ratings.dropna(axis=0)\n",
    "global_title_ratings = global_title_ratings.drop_duplicates()\n",
    "global_title_ratings.describe()"
   ]
  },
  {
   "cell_type": "code",
   "execution_count": null,
   "metadata": {},
   "outputs": [],
   "source": [
    "local_request_2 = global_title_akas.merge(global_title_basics, how = 'left', on = 'tconst')\n",
    "local_request_2 = local_request_2.merge(global_title_ratings, how = 'left', on = 'tconst')\n",
    "del global_title_akas\n",
    "del global_title_basics\n",
    "del global_title_ratings\n",
    "local_request_2 = local_request_2.drop(['tconst'], axis = 1)\n",
    "local_request_2 = local_request_2.dropna(axis = 0)\n",
    "local_request_2 = local_request_2.drop_duplicates()"
   ]
  },
  {
   "cell_type": "code",
   "execution_count": null,
   "metadata": {},
   "outputs": [],
   "source": [
    "local_request_2.to_csv('./data/REQUESTS/request_2.csv')"
   ]
  },
  {
   "cell_type": "code",
   "execution_count": null,
   "metadata": {
    "tags": []
   },
   "outputs": [],
   "source": [
    "mean_averageRating = local_request_2['averageRating'].mean()\n",
    "print(mean_averageRating)\n",
    "del local_request_2"
   ]
  },
  {
   "source": [
    "# 3- Les notes moyennes des différents genres"
   ],
   "cell_type": "markdown",
   "metadata": {}
  },
  {
   "cell_type": "code",
   "execution_count": null,
   "metadata": {},
   "outputs": [],
   "source": [
    "global_title_basics = pd.read_csv(\"./data/RAW/title.basics.tsv\", usecols = ['tconst', 'genres'], delimiter = '\\t')\n",
    "global_title_basics_split = global_title_basics['genres'].str.split(\",\", expand = True)\n",
    "global_title_basics_split = global_title_basics_split.join(global_title_basics).drop(['genres'], axis = 1)\n",
    "del global_title_basics\n",
    "global_title_ratings = pd.read_csv(\"./data/RAW/title.ratings.tsv\", usecols = ['tconst', 'averageRating'], delimiter = '\\t')\n",
    "local_request_3 = global_title_basics_split.merge(global_title_ratings, how = 'left', on = 'tconst')"
   ]
  },
  {
   "cell_type": "code",
   "execution_count": null,
   "metadata": {},
   "outputs": [],
   "source": [
    "local_mean_1 = local_request_3.groupby([0])['averageRating'].mean()\n",
    "local_mean_2 = local_request_3.groupby([1])['averageRating'].mean()\n",
    "local_mean_3 = local_request_3.groupby([2])['averageRating'].mean()\n",
    "local_mean = pd.concat([local_mean_1, local_mean_2, local_mean_3], axis = 1, keys = [\"mean1\", \"mean2\", \"mean3\"])\n",
    "del global_title_basics_split\n",
    "del global_title_ratings\n",
    "del local_mean_1\n",
    "del local_mean_2\n",
    "del local_mean_3\n",
    "local_mean['mean'] = local_mean[['mean1', 'mean2', 'mean3']].mean(axis = 1)\n",
    "local_request_3 = local_mean.drop(['mean1', 'mean2', 'mean3'], axis = 1)\n",
    "del local_mean"
   ]
  },
  {
   "cell_type": "code",
   "execution_count": null,
   "metadata": {},
   "outputs": [],
   "source": [
    "local_request_3.to_csv('./data/REQUESTS/request_3.csv')"
   ]
  }
 ]
}