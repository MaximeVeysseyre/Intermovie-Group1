{
 "metadata": {
  "language_info": {
   "codemirror_mode": {
    "name": "ipython",
    "version": 3
   },
   "file_extension": ".py",
   "mimetype": "text/x-python",
   "name": "python",
   "nbconvert_exporter": "python",
   "pygments_lexer": "ipython3",
   "version": "3.8.5-final"
  },
  "orig_nbformat": 2,
  "kernelspec": {
   "name": "python_defaultSpec_1600762259802",
   "display_name": "Python 3.8.5 64-bit ('data-ia': conda)"
  }
 },
 "nbformat": 4,
 "nbformat_minor": 2,
 "cells": [
  {
   "source": [
    "## Structure des fichiers tsv\n",
    "\n",
    "knownForTitles = tconst\n",
    "\n",
    "- name.basics :         nconst / primaryName / birthYear / deathYear / primaryProfession / knownForTitles\n",
    "- title.akas :          titleId / ordering / title / region / language / types / attributes / isOriginalTitle\n",
    "- title.basics :        tconst / titleType / primaryTitle / originalTitle / isAdult / startYear / endYear / runtimeMinutes / genres\n",
    "- title.principals :    tconst / ordering / nconst / category / job / characters\n",
    "- title.ratings :       tconst / averageRating / numVotes\n",
    "\n",
    "\n",
    "## Nombre de lignes par échantillon\n",
    "\n",
    "Nous allons utiliser pour chaque dataframe un maximum de 1000 lignes afin d'avoir un échantillon représentatif sans avoir de latence sur le traitement des données."
   ],
   "cell_type": "markdown",
   "metadata": {}
  },
  {
   "source": [
    "Projet Intermovie\n",
    "Ce Notebook a pour but d'analyser un dataset de films dans le but de récupérer plusieurs informations :\n",
    "\n",
    "La liste des acteurs par film.\n",
    "\n",
    "La liste des films Américains (en gardant leur nom en français) et leur note moyenne.\n",
    "\n",
    "Les notes moyennes des différents genres.\n",
    "\n",
    "La note moyenne de chaque acteur par rapport aux films dans lesquels il apparaît."
   ],
   "cell_type": "markdown",
   "metadata": {}
  },
  {
   "cell_type": "code",
   "execution_count": 2,
   "metadata": {
    "tags": []
   },
   "outputs": [],
   "source": [
    "# Extension IPython rechargeant les modules avant que l'utilisateur saisisse du code.\n",
    "%load_ext autoreload\n",
    "%autoreload 2\n",
    "\n",
    "# Import des librairies.\n",
    "import pandas as pd\n",
    "import numpy as np"
   ]
  },
  {
   "cell_type": "code",
   "execution_count": 16,
   "metadata": {},
   "outputs": [],
   "source": [
    "df = pd.read_table(\"./data/name.basics.tsv\")"
   ]
  },
  {
   "cell_type": "code",
   "execution_count": 17,
   "metadata": {},
   "outputs": [
    {
     "output_type": "execute_result",
     "data": {
      "text/plain": "      nconst      primaryName birthYear deathYear  \\\n0  nm0000001     Fred Astaire      1899      1987   \n1  nm0000002    Lauren Bacall      1924      2014   \n2  nm0000003  Brigitte Bardot      1934        \\N   \n3  nm0000004     John Belushi      1949      1982   \n4  nm0000005   Ingmar Bergman      1918      2007   \n\n                primaryProfession                           knownForTitles  \n0  soundtrack,actor,miscellaneous  tt0050419,tt0053137,tt0072308,tt0043044  \n1              actress,soundtrack  tt0071877,tt0117057,tt0038355,tt0037382  \n2     actress,soundtrack,producer  tt0054452,tt0049189,tt0059956,tt0057345  \n3         actor,writer,soundtrack  tt0077975,tt0072562,tt0080455,tt0078723  \n4           writer,director,actor  tt0069467,tt0050976,tt0083922,tt0050986  ",
      "text/html": "<div>\n<style scoped>\n    .dataframe tbody tr th:only-of-type {\n        vertical-align: middle;\n    }\n\n    .dataframe tbody tr th {\n        vertical-align: top;\n    }\n\n    .dataframe thead th {\n        text-align: right;\n    }\n</style>\n<table border=\"1\" class=\"dataframe\">\n  <thead>\n    <tr style=\"text-align: right;\">\n      <th></th>\n      <th>nconst</th>\n      <th>primaryName</th>\n      <th>birthYear</th>\n      <th>deathYear</th>\n      <th>primaryProfession</th>\n      <th>knownForTitles</th>\n    </tr>\n  </thead>\n  <tbody>\n    <tr>\n      <th>0</th>\n      <td>nm0000001</td>\n      <td>Fred Astaire</td>\n      <td>1899</td>\n      <td>1987</td>\n      <td>soundtrack,actor,miscellaneous</td>\n      <td>tt0050419,tt0053137,tt0072308,tt0043044</td>\n    </tr>\n    <tr>\n      <th>1</th>\n      <td>nm0000002</td>\n      <td>Lauren Bacall</td>\n      <td>1924</td>\n      <td>2014</td>\n      <td>actress,soundtrack</td>\n      <td>tt0071877,tt0117057,tt0038355,tt0037382</td>\n    </tr>\n    <tr>\n      <th>2</th>\n      <td>nm0000003</td>\n      <td>Brigitte Bardot</td>\n      <td>1934</td>\n      <td>\\N</td>\n      <td>actress,soundtrack,producer</td>\n      <td>tt0054452,tt0049189,tt0059956,tt0057345</td>\n    </tr>\n    <tr>\n      <th>3</th>\n      <td>nm0000004</td>\n      <td>John Belushi</td>\n      <td>1949</td>\n      <td>1982</td>\n      <td>actor,writer,soundtrack</td>\n      <td>tt0077975,tt0072562,tt0080455,tt0078723</td>\n    </tr>\n    <tr>\n      <th>4</th>\n      <td>nm0000005</td>\n      <td>Ingmar Bergman</td>\n      <td>1918</td>\n      <td>2007</td>\n      <td>writer,director,actor</td>\n      <td>tt0069467,tt0050976,tt0083922,tt0050986</td>\n    </tr>\n  </tbody>\n</table>\n</div>"
     },
     "metadata": {},
     "execution_count": 17
    }
   ],
   "source": [
    "df.head()"
   ]
  },
  {
   "cell_type": "code",
   "execution_count": 24,
   "metadata": {
    "tags": []
   },
   "outputs": [],
   "source": [
    "df = df.drop(['birthYear', 'deathYear', 'primaryProfession', 'knownForTitles'], axis=1)\n",
    "df = df.dropna(axis=0)\n",
    "df = df.drop_duplicates()"
   ]
  },
  {
   "cell_type": "code",
   "execution_count": 25,
   "metadata": {},
   "outputs": [
    {
     "output_type": "execute_result",
     "data": {
      "text/plain": "      nconst      primaryName\n0  nm0000001     Fred Astaire\n1  nm0000002    Lauren Bacall\n2  nm0000003  Brigitte Bardot\n3  nm0000004     John Belushi\n4  nm0000005   Ingmar Bergman",
      "text/html": "<div>\n<style scoped>\n    .dataframe tbody tr th:only-of-type {\n        vertical-align: middle;\n    }\n\n    .dataframe tbody tr th {\n        vertical-align: top;\n    }\n\n    .dataframe thead th {\n        text-align: right;\n    }\n</style>\n<table border=\"1\" class=\"dataframe\">\n  <thead>\n    <tr style=\"text-align: right;\">\n      <th></th>\n      <th>nconst</th>\n      <th>primaryName</th>\n    </tr>\n  </thead>\n  <tbody>\n    <tr>\n      <th>0</th>\n      <td>nm0000001</td>\n      <td>Fred Astaire</td>\n    </tr>\n    <tr>\n      <th>1</th>\n      <td>nm0000002</td>\n      <td>Lauren Bacall</td>\n    </tr>\n    <tr>\n      <th>2</th>\n      <td>nm0000003</td>\n      <td>Brigitte Bardot</td>\n    </tr>\n    <tr>\n      <th>3</th>\n      <td>nm0000004</td>\n      <td>John Belushi</td>\n    </tr>\n    <tr>\n      <th>4</th>\n      <td>nm0000005</td>\n      <td>Ingmar Bergman</td>\n    </tr>\n  </tbody>\n</table>\n</div>"
     },
     "metadata": {},
     "execution_count": 25
    }
   ],
   "source": [
    "df.head()"
   ]
  },
  {
   "cell_type": "code",
   "execution_count": 26,
   "metadata": {},
   "outputs": [],
   "source": [
    "df.to_csv('csvactorsname.csv')"
   ]
  },
  {
   "cell_type": "code",
   "execution_count": null,
   "metadata": {},
   "outputs": [],
   "source": []
  },
  {
   "cell_type": "code",
   "execution_count": 10,
   "metadata": {},
   "outputs": [],
   "source": [
    "df2 = pd.read_table(\"./data/title.principals.tsv\")"
   ]
  },
  {
   "cell_type": "code",
   "execution_count": 11,
   "metadata": {},
   "outputs": [
    {
     "output_type": "execute_result",
     "data": {
      "text/plain": "      tconst  ordering     nconst         category                      job  \\\n0  tt0000001         1  nm1588970             self                       \\N   \n1  tt0000001         2  nm0005690         director                       \\N   \n2  tt0000001         3  nm0374658  cinematographer  director of photography   \n3  tt0000002         1  nm0721526         director                       \\N   \n4  tt0000002         2  nm1335271         composer                       \\N   \n\n    characters  \n0  [\"Herself\"]  \n1           \\N  \n2           \\N  \n3           \\N  \n4           \\N  ",
      "text/html": "<div>\n<style scoped>\n    .dataframe tbody tr th:only-of-type {\n        vertical-align: middle;\n    }\n\n    .dataframe tbody tr th {\n        vertical-align: top;\n    }\n\n    .dataframe thead th {\n        text-align: right;\n    }\n</style>\n<table border=\"1\" class=\"dataframe\">\n  <thead>\n    <tr style=\"text-align: right;\">\n      <th></th>\n      <th>tconst</th>\n      <th>ordering</th>\n      <th>nconst</th>\n      <th>category</th>\n      <th>job</th>\n      <th>characters</th>\n    </tr>\n  </thead>\n  <tbody>\n    <tr>\n      <th>0</th>\n      <td>tt0000001</td>\n      <td>1</td>\n      <td>nm1588970</td>\n      <td>self</td>\n      <td>\\N</td>\n      <td>[\"Herself\"]</td>\n    </tr>\n    <tr>\n      <th>1</th>\n      <td>tt0000001</td>\n      <td>2</td>\n      <td>nm0005690</td>\n      <td>director</td>\n      <td>\\N</td>\n      <td>\\N</td>\n    </tr>\n    <tr>\n      <th>2</th>\n      <td>tt0000001</td>\n      <td>3</td>\n      <td>nm0374658</td>\n      <td>cinematographer</td>\n      <td>director of photography</td>\n      <td>\\N</td>\n    </tr>\n    <tr>\n      <th>3</th>\n      <td>tt0000002</td>\n      <td>1</td>\n      <td>nm0721526</td>\n      <td>director</td>\n      <td>\\N</td>\n      <td>\\N</td>\n    </tr>\n    <tr>\n      <th>4</th>\n      <td>tt0000002</td>\n      <td>2</td>\n      <td>nm1335271</td>\n      <td>composer</td>\n      <td>\\N</td>\n      <td>\\N</td>\n    </tr>\n  </tbody>\n</table>\n</div>"
     },
     "metadata": {},
     "execution_count": 11
    }
   ],
   "source": [
    "df2.head()"
   ]
  },
  {
   "cell_type": "code",
   "execution_count": 13,
   "metadata": {},
   "outputs": [],
   "source": [
    "df2 = df2.dropna(axis=0)\n",
    "df2 = df2[[\"tconst\",\"nconst\",\"category\"]][df2['category'].str.contains('actor|actress|self', regex=True)]"
   ]
  },
  {
   "cell_type": "code",
   "execution_count": 14,
   "metadata": {},
   "outputs": [
    {
     "output_type": "execute_result",
     "data": {
      "text/plain": "       tconst     nconst category\n0   tt0000001  nm1588970     self\n11  tt0000005  nm0443482    actor\n12  tt0000005  nm0653042    actor\n16  tt0000007  nm0179163    actor\n17  tt0000007  nm0183947    actor",
      "text/html": "<div>\n<style scoped>\n    .dataframe tbody tr th:only-of-type {\n        vertical-align: middle;\n    }\n\n    .dataframe tbody tr th {\n        vertical-align: top;\n    }\n\n    .dataframe thead th {\n        text-align: right;\n    }\n</style>\n<table border=\"1\" class=\"dataframe\">\n  <thead>\n    <tr style=\"text-align: right;\">\n      <th></th>\n      <th>tconst</th>\n      <th>nconst</th>\n      <th>category</th>\n    </tr>\n  </thead>\n  <tbody>\n    <tr>\n      <th>0</th>\n      <td>tt0000001</td>\n      <td>nm1588970</td>\n      <td>self</td>\n    </tr>\n    <tr>\n      <th>11</th>\n      <td>tt0000005</td>\n      <td>nm0443482</td>\n      <td>actor</td>\n    </tr>\n    <tr>\n      <th>12</th>\n      <td>tt0000005</td>\n      <td>nm0653042</td>\n      <td>actor</td>\n    </tr>\n    <tr>\n      <th>16</th>\n      <td>tt0000007</td>\n      <td>nm0179163</td>\n      <td>actor</td>\n    </tr>\n    <tr>\n      <th>17</th>\n      <td>tt0000007</td>\n      <td>nm0183947</td>\n      <td>actor</td>\n    </tr>\n  </tbody>\n</table>\n</div>"
     },
     "metadata": {},
     "execution_count": 14
    }
   ],
   "source": [
    "df2.head()"
   ]
  },
  {
   "cell_type": "code",
   "execution_count": 27,
   "metadata": {},
   "outputs": [],
   "source": [
    "df2.to_csv('csvtconstnconst.csv')"
   ]
  },
  {
   "cell_type": "code",
   "execution_count": null,
   "metadata": {},
   "outputs": [],
   "source": []
  },
  {
   "cell_type": "code",
   "execution_count": 35,
   "metadata": {},
   "outputs": [],
   "source": [
    "df3 = pd.read_table(\"./data/title.basics.tsv\")\n"
   ]
  },
  {
   "cell_type": "code",
   "execution_count": 41,
   "metadata": {
    "tags": []
   },
   "outputs": [
    {
     "output_type": "execute_result",
     "data": {
      "text/plain": "      tconst titleType            primaryTitle           originalTitle  \\\n0  tt0000001     short              Carmencita              Carmencita   \n1  tt0000002     short  Le clown et ses chiens  Le clown et ses chiens   \n2  tt0000003     short          Pauvre Pierrot          Pauvre Pierrot   \n3  tt0000004     short             Un bon bock             Un bon bock   \n4  tt0000005     short        Blacksmith Scene        Blacksmith Scene   \n\n   isAdult startYear endYear runtimeMinutes                    genres  \n0        0      1894      \\N              1         Documentary,Short  \n1        0      1892      \\N              5           Animation,Short  \n2        0      1892      \\N              4  Animation,Comedy,Romance  \n3        0      1892      \\N             \\N           Animation,Short  \n4        0      1893      \\N              1              Comedy,Short  ",
      "text/html": "<div>\n<style scoped>\n    .dataframe tbody tr th:only-of-type {\n        vertical-align: middle;\n    }\n\n    .dataframe tbody tr th {\n        vertical-align: top;\n    }\n\n    .dataframe thead th {\n        text-align: right;\n    }\n</style>\n<table border=\"1\" class=\"dataframe\">\n  <thead>\n    <tr style=\"text-align: right;\">\n      <th></th>\n      <th>tconst</th>\n      <th>titleType</th>\n      <th>primaryTitle</th>\n      <th>originalTitle</th>\n      <th>isAdult</th>\n      <th>startYear</th>\n      <th>endYear</th>\n      <th>runtimeMinutes</th>\n      <th>genres</th>\n    </tr>\n  </thead>\n  <tbody>\n    <tr>\n      <th>0</th>\n      <td>tt0000001</td>\n      <td>short</td>\n      <td>Carmencita</td>\n      <td>Carmencita</td>\n      <td>0</td>\n      <td>1894</td>\n      <td>\\N</td>\n      <td>1</td>\n      <td>Documentary,Short</td>\n    </tr>\n    <tr>\n      <th>1</th>\n      <td>tt0000002</td>\n      <td>short</td>\n      <td>Le clown et ses chiens</td>\n      <td>Le clown et ses chiens</td>\n      <td>0</td>\n      <td>1892</td>\n      <td>\\N</td>\n      <td>5</td>\n      <td>Animation,Short</td>\n    </tr>\n    <tr>\n      <th>2</th>\n      <td>tt0000003</td>\n      <td>short</td>\n      <td>Pauvre Pierrot</td>\n      <td>Pauvre Pierrot</td>\n      <td>0</td>\n      <td>1892</td>\n      <td>\\N</td>\n      <td>4</td>\n      <td>Animation,Comedy,Romance</td>\n    </tr>\n    <tr>\n      <th>3</th>\n      <td>tt0000004</td>\n      <td>short</td>\n      <td>Un bon bock</td>\n      <td>Un bon bock</td>\n      <td>0</td>\n      <td>1892</td>\n      <td>\\N</td>\n      <td>\\N</td>\n      <td>Animation,Short</td>\n    </tr>\n    <tr>\n      <th>4</th>\n      <td>tt0000005</td>\n      <td>short</td>\n      <td>Blacksmith Scene</td>\n      <td>Blacksmith Scene</td>\n      <td>0</td>\n      <td>1893</td>\n      <td>\\N</td>\n      <td>1</td>\n      <td>Comedy,Short</td>\n    </tr>\n  </tbody>\n</table>\n</div>"
     },
     "metadata": {},
     "execution_count": 41
    }
   ],
   "source": [
    "df3.head()"
   ]
  },
  {
   "cell_type": "code",
   "execution_count": 42,
   "metadata": {},
   "outputs": [],
   "source": [
    "df3 = df3.dropna(axis=0)\n",
    "df3 = df3[[\"tconst\",\"titleType\",\"originalTitle\"]][df3['titleType'].str.contains('movie', regex=True)]"
   ]
  },
  {
   "cell_type": "code",
   "execution_count": 43,
   "metadata": {},
   "outputs": [
    {
     "output_type": "execute_result",
     "data": {
      "text/plain": "        tconst titleType                  originalTitle\n8    tt0000009     movie                     Miss Jerry\n145  tt0000147     movie  The Corbett-Fitzsimmons Fight\n332  tt0000335     movie          Soldiers of the Cross\n499  tt0000502     movie                       Bohemios\n571  tt0000574     movie    The Story of the Kelly Gang",
      "text/html": "<div>\n<style scoped>\n    .dataframe tbody tr th:only-of-type {\n        vertical-align: middle;\n    }\n\n    .dataframe tbody tr th {\n        vertical-align: top;\n    }\n\n    .dataframe thead th {\n        text-align: right;\n    }\n</style>\n<table border=\"1\" class=\"dataframe\">\n  <thead>\n    <tr style=\"text-align: right;\">\n      <th></th>\n      <th>tconst</th>\n      <th>titleType</th>\n      <th>originalTitle</th>\n    </tr>\n  </thead>\n  <tbody>\n    <tr>\n      <th>8</th>\n      <td>tt0000009</td>\n      <td>movie</td>\n      <td>Miss Jerry</td>\n    </tr>\n    <tr>\n      <th>145</th>\n      <td>tt0000147</td>\n      <td>movie</td>\n      <td>The Corbett-Fitzsimmons Fight</td>\n    </tr>\n    <tr>\n      <th>332</th>\n      <td>tt0000335</td>\n      <td>movie</td>\n      <td>Soldiers of the Cross</td>\n    </tr>\n    <tr>\n      <th>499</th>\n      <td>tt0000502</td>\n      <td>movie</td>\n      <td>Bohemios</td>\n    </tr>\n    <tr>\n      <th>571</th>\n      <td>tt0000574</td>\n      <td>movie</td>\n      <td>The Story of the Kelly Gang</td>\n    </tr>\n  </tbody>\n</table>\n</div>"
     },
     "metadata": {},
     "execution_count": 43
    }
   ],
   "source": [
    "df3.head()"
   ]
  },
  {
   "cell_type": "code",
   "execution_count": 44,
   "metadata": {},
   "outputs": [],
   "source": [
    "df3 = df3.dropna(axis=0)\n",
    "df3 = df3.drop_duplicates()"
   ]
  },
  {
   "cell_type": "code",
   "execution_count": 45,
   "metadata": {
    "tags": []
   },
   "outputs": [
    {
     "output_type": "stream",
     "name": "stdout",
     "text": "tconst titleType  \\\n8        tt0000009     movie   \n145      tt0000147     movie   \n332      tt0000335     movie   \n499      tt0000502     movie   \n571      tt0000574     movie   \n...            ...       ...   \n6321191  tt9916622     movie   \n6321218  tt9916680     movie   \n6321230  tt9916706     movie   \n6321241  tt9916730     movie   \n6321252  tt9916754     movie   \n\n                                             originalTitle  \n8                                               Miss Jerry  \n145                          The Corbett-Fitzsimmons Fight  \n332                                  Soldiers of the Cross  \n499                                               Bohemios  \n571                            The Story of the Kelly Gang  \n...                                                    ...  \n6321191        Rodolpho Teóphilo - O Legado de um Pioneiro  \n6321218  De la ilusión al desconcierto: cine colombiano...  \n6321230                                    Dankyavar Danka  \n6321241                                             6 Gunn  \n6321252                     Chico Albuquerque - Revelações  \n\n[536034 rows x 3 columns]\n"
    }
   ],
   "source": [
    "print (df3)"
   ]
  },
  {
   "cell_type": "code",
   "execution_count": null,
   "metadata": {},
   "outputs": [],
   "source": []
  },
  {
   "cell_type": "code",
   "execution_count": 32,
   "metadata": {},
   "outputs": [],
   "source": [
    "dfmergeone = pd.merge(df,df2,on='nconst',how='left')"
   ]
  },
  {
   "cell_type": "code",
   "execution_count": 47,
   "metadata": {},
   "outputs": [
    {
     "output_type": "execute_result",
     "data": {
      "text/plain": "      nconst   primaryName     tconst category\n0  nm0000001  Fred Astaire  tt0025164    actor\n1  nm0000001  Fred Astaire  tt0026942    actor\n2  nm0000001  Fred Astaire  tt0027125    actor\n3  nm0000001  Fred Astaire  tt0027630    actor\n4  nm0000001  Fred Astaire  tt0028333    actor",
      "text/html": "<div>\n<style scoped>\n    .dataframe tbody tr th:only-of-type {\n        vertical-align: middle;\n    }\n\n    .dataframe tbody tr th {\n        vertical-align: top;\n    }\n\n    .dataframe thead th {\n        text-align: right;\n    }\n</style>\n<table border=\"1\" class=\"dataframe\">\n  <thead>\n    <tr style=\"text-align: right;\">\n      <th></th>\n      <th>nconst</th>\n      <th>primaryName</th>\n      <th>tconst</th>\n      <th>category</th>\n    </tr>\n  </thead>\n  <tbody>\n    <tr>\n      <th>0</th>\n      <td>nm0000001</td>\n      <td>Fred Astaire</td>\n      <td>tt0025164</td>\n      <td>actor</td>\n    </tr>\n    <tr>\n      <th>1</th>\n      <td>nm0000001</td>\n      <td>Fred Astaire</td>\n      <td>tt0026942</td>\n      <td>actor</td>\n    </tr>\n    <tr>\n      <th>2</th>\n      <td>nm0000001</td>\n      <td>Fred Astaire</td>\n      <td>tt0027125</td>\n      <td>actor</td>\n    </tr>\n    <tr>\n      <th>3</th>\n      <td>nm0000001</td>\n      <td>Fred Astaire</td>\n      <td>tt0027630</td>\n      <td>actor</td>\n    </tr>\n    <tr>\n      <th>4</th>\n      <td>nm0000001</td>\n      <td>Fred Astaire</td>\n      <td>tt0028333</td>\n      <td>actor</td>\n    </tr>\n  </tbody>\n</table>\n</div>"
     },
     "metadata": {},
     "execution_count": 47
    }
   ],
   "source": [
    "dfmergeone.head()"
   ]
  },
  {
   "cell_type": "code",
   "execution_count": 48,
   "metadata": {},
   "outputs": [],
   "source": [
    "dfmergetwo = pd.merge(dfmergeone, df3, on='tconst', how='left')"
   ]
  },
  {
   "cell_type": "code",
   "execution_count": 53,
   "metadata": {},
   "outputs": [
    {
     "output_type": "execute_result",
     "data": {
      "text/plain": "             nconst         primaryName      tconst     originalTitle\n0         nm0000001        Fred Astaire   tt0025164  The Gay Divorcee\n1         nm0000001        Fred Astaire   tt0026942           Roberta\n2         nm0000001        Fred Astaire   tt0027125           Top Hat\n3         nm0000001        Fred Astaire   tt0027630  Follow the Fleet\n4         nm0000001        Fred Astaire   tt0028333        Swing Time\n...             ...                 ...         ...               ...\n24905987  nm9993709           Lu Bevins  tt10484296               NaN\n24905988  nm9993713       Sambit Mishra         NaN               NaN\n24905989  nm9993714   Romeo del Rosario         NaN               NaN\n24905990  nm9993717  Harikrishnan Rajan         NaN               NaN\n24905991  nm9993718         Aayush Nair         NaN               NaN\n\n[24905992 rows x 4 columns]",
      "text/html": "<div>\n<style scoped>\n    .dataframe tbody tr th:only-of-type {\n        vertical-align: middle;\n    }\n\n    .dataframe tbody tr th {\n        vertical-align: top;\n    }\n\n    .dataframe thead th {\n        text-align: right;\n    }\n</style>\n<table border=\"1\" class=\"dataframe\">\n  <thead>\n    <tr style=\"text-align: right;\">\n      <th></th>\n      <th>nconst</th>\n      <th>primaryName</th>\n      <th>tconst</th>\n      <th>originalTitle</th>\n    </tr>\n  </thead>\n  <tbody>\n    <tr>\n      <th>0</th>\n      <td>nm0000001</td>\n      <td>Fred Astaire</td>\n      <td>tt0025164</td>\n      <td>The Gay Divorcee</td>\n    </tr>\n    <tr>\n      <th>1</th>\n      <td>nm0000001</td>\n      <td>Fred Astaire</td>\n      <td>tt0026942</td>\n      <td>Roberta</td>\n    </tr>\n    <tr>\n      <th>2</th>\n      <td>nm0000001</td>\n      <td>Fred Astaire</td>\n      <td>tt0027125</td>\n      <td>Top Hat</td>\n    </tr>\n    <tr>\n      <th>3</th>\n      <td>nm0000001</td>\n      <td>Fred Astaire</td>\n      <td>tt0027630</td>\n      <td>Follow the Fleet</td>\n    </tr>\n    <tr>\n      <th>4</th>\n      <td>nm0000001</td>\n      <td>Fred Astaire</td>\n      <td>tt0028333</td>\n      <td>Swing Time</td>\n    </tr>\n    <tr>\n      <th>...</th>\n      <td>...</td>\n      <td>...</td>\n      <td>...</td>\n      <td>...</td>\n    </tr>\n    <tr>\n      <th>24905987</th>\n      <td>nm9993709</td>\n      <td>Lu Bevins</td>\n      <td>tt10484296</td>\n      <td>NaN</td>\n    </tr>\n    <tr>\n      <th>24905988</th>\n      <td>nm9993713</td>\n      <td>Sambit Mishra</td>\n      <td>NaN</td>\n      <td>NaN</td>\n    </tr>\n    <tr>\n      <th>24905989</th>\n      <td>nm9993714</td>\n      <td>Romeo del Rosario</td>\n      <td>NaN</td>\n      <td>NaN</td>\n    </tr>\n    <tr>\n      <th>24905990</th>\n      <td>nm9993717</td>\n      <td>Harikrishnan Rajan</td>\n      <td>NaN</td>\n      <td>NaN</td>\n    </tr>\n    <tr>\n      <th>24905991</th>\n      <td>nm9993718</td>\n      <td>Aayush Nair</td>\n      <td>NaN</td>\n      <td>NaN</td>\n    </tr>\n  </tbody>\n</table>\n<p>24905992 rows × 4 columns</p>\n</div>"
     },
     "metadata": {},
     "execution_count": 53
    }
   ],
   "source": [
    "dfmergetwo.drop(columns=['category', 'titleType'], axis=1)"
   ]
  },
  {
   "cell_type": "code",
   "execution_count": 55,
   "metadata": {},
   "outputs": [],
   "source": [
    "dfmergetwo = dfmergetwo.dropna(axis=0)\n",
    "dfmergetwo = dfmergetwo.drop_duplicates()"
   ]
  },
  {
   "cell_type": "code",
   "execution_count": 57,
   "metadata": {
    "tags": []
   },
   "outputs": [
    {
     "output_type": "stream",
     "name": "stdout",
     "text": "nconst                primaryName      tconst category titleType  \\\n0         nm0000001               Fred Astaire   tt0025164    actor     movie   \n1         nm0000001               Fred Astaire   tt0026942    actor     movie   \n2         nm0000001               Fred Astaire   tt0027125    actor     movie   \n3         nm0000001               Fred Astaire   tt0027630    actor     movie   \n4         nm0000001               Fred Astaire   tt0028333    actor     movie   \n...             ...                        ...         ...      ...       ...   \n24905929  nm9993636                Adam French   tt8983162    actor     movie   \n24905932  nm9993636                Adam French   tt9668514    actor     movie   \n24905943  nm9993650            Marcin Balcerak   tt8739208    actor     movie   \n24905964  nm9993680  Christopher-Lawson Palmer  tt10427366    actor     movie   \n24905965  nm9993680  Christopher-Lawson Palmer   tt8295580    actor     movie   \n\n                originalTitle  \n0            The Gay Divorcee  \n1                     Roberta  \n2                     Top Hat  \n3            Follow the Fleet  \n4                  Swing Time  \n...                       ...  \n24905929       Forearm Smash.  \n24905932   Homeless But Happy  \n24905943            Autsajder  \n24905964        Lilith Within  \n24905965  Into the Wilderness  \n\n[1725424 rows x 6 columns]\n"
    }
   ],
   "source": [
    "print (dfmergetwo)"
   ]
  },
  {
   "cell_type": "code",
   "execution_count": 58,
   "metadata": {},
   "outputs": [],
   "source": [
    "df_final = dfmergetwo.groupby('originalTitle').agg({'primaryName': ','.join}, axis = 0)\n"
   ]
  },
  {
   "cell_type": "code",
   "execution_count": 61,
   "metadata": {},
   "outputs": [],
   "source": [
    "df_final2 = dfmergetwo.groupby('primaryName').agg({'originalTitle': ','.join}, axis = 0)"
   ]
  },
  {
   "cell_type": "code",
   "execution_count": 62,
   "metadata": {},
   "outputs": [],
   "source": [
    "df_final = df_final.to_csv('ArtistesParFilm.csv')\n",
    "df_final2 = df_final2.to_csv('FilmsParArtistes.csv')"
   ]
  },
  {
   "cell_type": "code",
   "execution_count": null,
   "metadata": {},
   "outputs": [],
   "source": []
  }
 ]
}