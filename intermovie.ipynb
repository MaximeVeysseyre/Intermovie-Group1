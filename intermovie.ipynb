{
 "metadata": {
  "language_info": {
   "codemirror_mode": {
    "name": "ipython",
    "version": 3
   },
   "file_extension": ".py",
   "mimetype": "text/x-python",
   "name": "python",
   "nbconvert_exporter": "python",
   "pygments_lexer": "ipython3",
   "version": "3.8.5-final"
  },
  "orig_nbformat": 2,
  "kernelspec": {
   "name": "python_defaultSpec_1600845415131",
   "display_name": "Python 3.8.5 64-bit ('data-ia': conda)"
  }
 },
 "nbformat": 4,
 "nbformat_minor": 2,
 "cells": [
  {
   "source": [
    "## Structure des fichiers tsv\n",
    "\n",
    "knownForTitles = tconst\n",
    "\n",
    "- name.basics :         nconst / primaryName / birthYear / deathYear / primaryProfession / knownForTitles\n",
    "- title.akas :          titleId / ordering / title / region / language / types / attributes / isOriginalTitle\n",
    "- title.basics :        tconst / titleType / primaryTitle / originalTitle / isAdult / startYear / endYear / runtimeMinutes / genres\n",
    "- title.principals :    tconst / ordering / nconst / category / job / characters\n",
    "- title.ratings :       tconst / averageRating / numVotes\n",
    "\n",
    "\n",
    "## Nombre de lignes par échantillon\n",
    "\n",
    "Nous allons utiliser pour chaque dataframe un maximum de 1000 lignes afin d'avoir un échantillon représentatif sans avoir de latence sur le traitement des données."
   ],
   "cell_type": "markdown",
   "metadata": {}
  },
  {
   "source": [
    "Projet Intermovie\n",
    "Ce Notebook a pour but d'analyser un dataset de films dans le but de récupérer plusieurs informations :\n",
    "\n",
    "La liste des acteurs par film. >>>>>> DONE\n",
    "\n",
    "La liste des films Américains (en gardant leur nom en français) et leur note moyenne. >>>>>> DONE\n",
    "\n",
    "Les notes moyennes des différents genres.\n",
    "\n",
    "La note moyenne de chaque acteur par rapport aux films dans lesquels il apparaît."
   ],
   "cell_type": "markdown",
   "metadata": {}
  },
  {
   "cell_type": "code",
   "execution_count": 7,
   "metadata": {
    "tags": []
   },
   "outputs": [
    {
     "output_type": "stream",
     "name": "stdout",
     "text": "The autoreload extension is already loaded. To reload it, use:\n  %reload_ext autoreload\n"
    }
   ],
   "source": [
    "# Extension IPython rechargeant les modules avant que l'utilisateur saisisse du code.\n",
    "%load_ext autoreload\n",
    "%autoreload 2\n",
    "\n",
    "# Import des librairies.\n",
    "import pandas as pd\n",
    "import numpy as np"
   ]
  },
  {
   "cell_type": "code",
   "execution_count": 9,
   "metadata": {},
   "outputs": [],
   "source": [
    "namebasics = pd.read_table(\"./data/name.basics.tsv\")"
   ]
  },
  {
   "cell_type": "code",
   "execution_count": null,
   "metadata": {},
   "outputs": [],
   "source": [
    "titleprincipals = pd.read_table(\"./data/title.principals.tsv\")"
   ]
  },
  {
   "cell_type": "code",
   "execution_count": 14,
   "metadata": {},
   "outputs": [],
   "source": [
    "titlebasics = pd.read_table(\"./data/title.basics.tsv\")"
   ]
  },
  {
   "cell_type": "code",
   "execution_count": 10,
   "metadata": {},
   "outputs": [],
   "source": [
    "titleakas = pd.read_table(\"./data/title.akas.tsv\")"
   ]
  },
  {
   "cell_type": "code",
   "execution_count": 11,
   "metadata": {},
   "outputs": [],
   "source": [
    "titleratings = pd.read_table('./data/title.ratings.tsv')"
   ]
  },
  {
   "source": [
    "En dessous on nettoie le premier fichier (name.basics) nécéssaire pour trouver les acteurs par film"
   ],
   "cell_type": "markdown",
   "metadata": {}
  },
  {
   "cell_type": "code",
   "execution_count": null,
   "metadata": {},
   "outputs": [],
   "source": [
    "namebasics = namebasics.dropna(axis=0)\n",
    "namebasics = namebasics.drop_duplicates()\n",
    "namebasics = namebasics.drop(['birthYear', 'deathYear', 'primaryProfession', 'knownForTitles'], axis=1)\n"
   ]
  },
  {
   "source": [
    "En dessous on nettoie le deuxième fichier (title.principals)"
   ],
   "cell_type": "markdown",
   "metadata": {}
  },
  {
   "cell_type": "code",
   "execution_count": null,
   "metadata": {},
   "outputs": [],
   "source": [
    "titleprincipals = titleprincipals.dropna(axis=0)\n",
    "titleprincipals = titleprincipals[[\"tconst\",\"nconst\",\"category\"]][titleprincipals['category'].str.contains('actor|actress|self', regex=True)]"
   ]
  },
  {
   "source": [
    "En dessous on nettoie le troisième fichier (title.basics)"
   ],
   "cell_type": "markdown",
   "metadata": {}
  },
  {
   "cell_type": "code",
   "execution_count": null,
   "metadata": {
    "tags": []
   },
   "outputs": [],
   "source": [
    "titlebasics = titlebasics.dropna(axis=0)\n",
    "titlebasics = titlebasics.drop_duplicates()\n",
    "titlebasics = titlebasics[[\"tconst\",\"titleType\",\"originalTitle\"]][titlebasics['titleType'].str.contains('movie', regex=True)]\n",
    "\n",
    "#Pour faire le tri uniquement sur les long métrage (movies) utiliser les ligne ssuivantes et commenter celle juste au dessus à la place\n",
    "#titlebasics = titlebasics[[\"tconst\",\"titleType\",\"originalTitle\"]][titlebasics['titleType'].str.contains('movie', regex=True)]\n",
    "#titlebasics = titlebasics.drop(['titleType'])"
   ]
  },
  {
   "source": [
    "On fait les merges nécéssaires pour obtenir le ficher qui nous permettra de faire la requète"
   ],
   "cell_type": "markdown",
   "metadata": {}
  },
  {
   "cell_type": "code",
   "execution_count": null,
   "metadata": {},
   "outputs": [],
   "source": [
    "dfmergeone = namebasics.merge(titleprincipals,on='nconst',how='left')\n",
    "dfmergetwo = dfmergeone.merge( titlebasics, on='tconst', how='left')\n",
    "dfmergetwo.drop(columns=['category', 'titleType'], axis=1)\n",
    "dfmergetwo = dfmergetwo.dropna(axis=0)\n",
    "dfmergetwo = dfmergetwo.drop_duplicates()"
   ]
  },
  {
   "source": [
    "On fait la requète pour trouver les acteurs par film"
   ],
   "cell_type": "markdown",
   "metadata": {}
  },
  {
   "cell_type": "code",
   "execution_count": null,
   "metadata": {},
   "outputs": [],
   "source": [
    "df_final = dfmergetwo.groupby('originalTitle').agg({'primaryName': ','.join}, axis = 0)\n",
    "df_final = df_final.to_csv('ArtistesParFilm.csv')"
   ]
  },
  {
   "source": [
    "On fait une requète pour trouver les films par acteurs (j'avais juste envie)"
   ],
   "cell_type": "markdown",
   "metadata": {}
  },
  {
   "cell_type": "code",
   "execution_count": null,
   "metadata": {},
   "outputs": [],
   "source": [
    "df_final2 = dfmergetwo.groupby('primaryName').agg({'originalTitle': ','.join}, axis = 0)\n",
    "df_final2 = df_final2.to_csv('FilmsParArtistes.csv')"
   ]
  },
  {
   "cell_type": "code",
   "execution_count": null,
   "metadata": {},
   "outputs": [],
   "source": []
  },
  {
   "cell_type": "code",
   "execution_count": null,
   "metadata": {},
   "outputs": [],
   "source": []
  },
  {
   "source": [
    "2EME REQUETE "
   ],
   "cell_type": "markdown",
   "metadata": {}
  },
  {
   "cell_type": "code",
   "execution_count": 12,
   "metadata": {},
   "outputs": [
    {
     "output_type": "execute_result",
     "data": {
      "text/plain": "     titleId  ordering                      title region language  \\\n0  tt0000001         1  Carmencita - spanyol tánc     HU       \\N   \n1  tt0000001         2                 Καρμενσίτα     GR       \\N   \n2  tt0000001         3                 Карменсита     RU       \\N   \n3  tt0000001         4                 Carmencita     US       \\N   \n4  tt0000001         5                 Carmencita     \\N       \\N   \n\n         types attributes isOriginalTitle  \n0  imdbDisplay         \\N               0  \n1           \\N         \\N               0  \n2           \\N         \\N               0  \n3           \\N         \\N               0  \n4     original         \\N               1  ",
      "text/html": "<div>\n<style scoped>\n    .dataframe tbody tr th:only-of-type {\n        vertical-align: middle;\n    }\n\n    .dataframe tbody tr th {\n        vertical-align: top;\n    }\n\n    .dataframe thead th {\n        text-align: right;\n    }\n</style>\n<table border=\"1\" class=\"dataframe\">\n  <thead>\n    <tr style=\"text-align: right;\">\n      <th></th>\n      <th>titleId</th>\n      <th>ordering</th>\n      <th>title</th>\n      <th>region</th>\n      <th>language</th>\n      <th>types</th>\n      <th>attributes</th>\n      <th>isOriginalTitle</th>\n    </tr>\n  </thead>\n  <tbody>\n    <tr>\n      <th>0</th>\n      <td>tt0000001</td>\n      <td>1</td>\n      <td>Carmencita - spanyol tánc</td>\n      <td>HU</td>\n      <td>\\N</td>\n      <td>imdbDisplay</td>\n      <td>\\N</td>\n      <td>0</td>\n    </tr>\n    <tr>\n      <th>1</th>\n      <td>tt0000001</td>\n      <td>2</td>\n      <td>Καρμενσίτα</td>\n      <td>GR</td>\n      <td>\\N</td>\n      <td>\\N</td>\n      <td>\\N</td>\n      <td>0</td>\n    </tr>\n    <tr>\n      <th>2</th>\n      <td>tt0000001</td>\n      <td>3</td>\n      <td>Карменсита</td>\n      <td>RU</td>\n      <td>\\N</td>\n      <td>\\N</td>\n      <td>\\N</td>\n      <td>0</td>\n    </tr>\n    <tr>\n      <th>3</th>\n      <td>tt0000001</td>\n      <td>4</td>\n      <td>Carmencita</td>\n      <td>US</td>\n      <td>\\N</td>\n      <td>\\N</td>\n      <td>\\N</td>\n      <td>0</td>\n    </tr>\n    <tr>\n      <th>4</th>\n      <td>tt0000001</td>\n      <td>5</td>\n      <td>Carmencita</td>\n      <td>\\N</td>\n      <td>\\N</td>\n      <td>original</td>\n      <td>\\N</td>\n      <td>1</td>\n    </tr>\n  </tbody>\n</table>\n</div>"
     },
     "metadata": {},
     "execution_count": 12
    }
   ],
   "source": [
    "titleakas.head()"
   ]
  },
  {
   "cell_type": "code",
   "execution_count": 15,
   "metadata": {},
   "outputs": [
    {
     "output_type": "execute_result",
     "data": {
      "text/plain": "      tconst titleType            primaryTitle           originalTitle  \\\n0  tt0000001     short              Carmencita              Carmencita   \n1  tt0000002     short  Le clown et ses chiens  Le clown et ses chiens   \n2  tt0000003     short          Pauvre Pierrot          Pauvre Pierrot   \n3  tt0000004     short             Un bon bock             Un bon bock   \n4  tt0000005     short        Blacksmith Scene        Blacksmith Scene   \n\n   isAdult startYear endYear runtimeMinutes                    genres  \n0        0      1894      \\N              1         Documentary,Short  \n1        0      1892      \\N              5           Animation,Short  \n2        0      1892      \\N              4  Animation,Comedy,Romance  \n3        0      1892      \\N             \\N           Animation,Short  \n4        0      1893      \\N              1              Comedy,Short  ",
      "text/html": "<div>\n<style scoped>\n    .dataframe tbody tr th:only-of-type {\n        vertical-align: middle;\n    }\n\n    .dataframe tbody tr th {\n        vertical-align: top;\n    }\n\n    .dataframe thead th {\n        text-align: right;\n    }\n</style>\n<table border=\"1\" class=\"dataframe\">\n  <thead>\n    <tr style=\"text-align: right;\">\n      <th></th>\n      <th>tconst</th>\n      <th>titleType</th>\n      <th>primaryTitle</th>\n      <th>originalTitle</th>\n      <th>isAdult</th>\n      <th>startYear</th>\n      <th>endYear</th>\n      <th>runtimeMinutes</th>\n      <th>genres</th>\n    </tr>\n  </thead>\n  <tbody>\n    <tr>\n      <th>0</th>\n      <td>tt0000001</td>\n      <td>short</td>\n      <td>Carmencita</td>\n      <td>Carmencita</td>\n      <td>0</td>\n      <td>1894</td>\n      <td>\\N</td>\n      <td>1</td>\n      <td>Documentary,Short</td>\n    </tr>\n    <tr>\n      <th>1</th>\n      <td>tt0000002</td>\n      <td>short</td>\n      <td>Le clown et ses chiens</td>\n      <td>Le clown et ses chiens</td>\n      <td>0</td>\n      <td>1892</td>\n      <td>\\N</td>\n      <td>5</td>\n      <td>Animation,Short</td>\n    </tr>\n    <tr>\n      <th>2</th>\n      <td>tt0000003</td>\n      <td>short</td>\n      <td>Pauvre Pierrot</td>\n      <td>Pauvre Pierrot</td>\n      <td>0</td>\n      <td>1892</td>\n      <td>\\N</td>\n      <td>4</td>\n      <td>Animation,Comedy,Romance</td>\n    </tr>\n    <tr>\n      <th>3</th>\n      <td>tt0000004</td>\n      <td>short</td>\n      <td>Un bon bock</td>\n      <td>Un bon bock</td>\n      <td>0</td>\n      <td>1892</td>\n      <td>\\N</td>\n      <td>\\N</td>\n      <td>Animation,Short</td>\n    </tr>\n    <tr>\n      <th>4</th>\n      <td>tt0000005</td>\n      <td>short</td>\n      <td>Blacksmith Scene</td>\n      <td>Blacksmith Scene</td>\n      <td>0</td>\n      <td>1893</td>\n      <td>\\N</td>\n      <td>1</td>\n      <td>Comedy,Short</td>\n    </tr>\n  </tbody>\n</table>\n</div>"
     },
     "metadata": {},
     "execution_count": 15
    }
   ],
   "source": [
    "titlebasics.head()"
   ]
  },
  {
   "cell_type": "code",
   "execution_count": 16,
   "metadata": {},
   "outputs": [
    {
     "output_type": "execute_result",
     "data": {
      "text/plain": "      tconst  averageRating  numVotes\n0  tt0000001            5.6      1550\n1  tt0000002            6.1       186\n2  tt0000003            6.5      1207\n3  tt0000004            6.2       113\n4  tt0000005            6.1      1934",
      "text/html": "<div>\n<style scoped>\n    .dataframe tbody tr th:only-of-type {\n        vertical-align: middle;\n    }\n\n    .dataframe tbody tr th {\n        vertical-align: top;\n    }\n\n    .dataframe thead th {\n        text-align: right;\n    }\n</style>\n<table border=\"1\" class=\"dataframe\">\n  <thead>\n    <tr style=\"text-align: right;\">\n      <th></th>\n      <th>tconst</th>\n      <th>averageRating</th>\n      <th>numVotes</th>\n    </tr>\n  </thead>\n  <tbody>\n    <tr>\n      <th>0</th>\n      <td>tt0000001</td>\n      <td>5.6</td>\n      <td>1550</td>\n    </tr>\n    <tr>\n      <th>1</th>\n      <td>tt0000002</td>\n      <td>6.1</td>\n      <td>186</td>\n    </tr>\n    <tr>\n      <th>2</th>\n      <td>tt0000003</td>\n      <td>6.5</td>\n      <td>1207</td>\n    </tr>\n    <tr>\n      <th>3</th>\n      <td>tt0000004</td>\n      <td>6.2</td>\n      <td>113</td>\n    </tr>\n    <tr>\n      <th>4</th>\n      <td>tt0000005</td>\n      <td>6.1</td>\n      <td>1934</td>\n    </tr>\n  </tbody>\n</table>\n</div>"
     },
     "metadata": {},
     "execution_count": 16
    }
   ],
   "source": [
    "titleratings.head()"
   ]
  },
  {
   "cell_type": "code",
   "execution_count": null,
   "metadata": {},
   "outputs": [],
   "source": []
  },
  {
   "cell_type": "code",
   "execution_count": 34,
   "metadata": {},
   "outputs": [],
   "source": [
    "titleakas = titleakas.dropna(axis=0)\n",
    "titleakas = titleakas.drop_duplicates()\n",
    "titleakas = titleakas[[\"titleId\",\"region\"]][titleakas['region'].str.contains('US', regex=True)]\n",
    "titleakas = titleakas.rename(columns={'titleId': 'tconst'})"
   ]
  },
  {
   "cell_type": "code",
   "execution_count": 35,
   "metadata": {},
   "outputs": [
    {
     "output_type": "execute_result",
     "data": {
      "text/plain": "       tconst region\n3   tt0000001     US\n10  tt0000002     US\n23  tt0000005     US\n34  tt0000006     US\n37  tt0000007     US",
      "text/html": "<div>\n<style scoped>\n    .dataframe tbody tr th:only-of-type {\n        vertical-align: middle;\n    }\n\n    .dataframe tbody tr th {\n        vertical-align: top;\n    }\n\n    .dataframe thead th {\n        text-align: right;\n    }\n</style>\n<table border=\"1\" class=\"dataframe\">\n  <thead>\n    <tr style=\"text-align: right;\">\n      <th></th>\n      <th>tconst</th>\n      <th>region</th>\n    </tr>\n  </thead>\n  <tbody>\n    <tr>\n      <th>3</th>\n      <td>tt0000001</td>\n      <td>US</td>\n    </tr>\n    <tr>\n      <th>10</th>\n      <td>tt0000002</td>\n      <td>US</td>\n    </tr>\n    <tr>\n      <th>23</th>\n      <td>tt0000005</td>\n      <td>US</td>\n    </tr>\n    <tr>\n      <th>34</th>\n      <td>tt0000006</td>\n      <td>US</td>\n    </tr>\n    <tr>\n      <th>37</th>\n      <td>tt0000007</td>\n      <td>US</td>\n    </tr>\n  </tbody>\n</table>\n</div>"
     },
     "metadata": {},
     "execution_count": 35
    }
   ],
   "source": [
    "titleakas.head()"
   ]
  },
  {
   "cell_type": "code",
   "execution_count": 22,
   "metadata": {},
   "outputs": [],
   "source": [
    "titlebasics = titlebasics.dropna(axis=0)\n",
    "titlebasics = titlebasics.drop_duplicates()\n",
    "titlebasics = titlebasics.drop(['titleType', 'primaryTitle', 'isAdult', 'startYear','endYear','runtimeMinutes','genres'], axis=1)\n",
    "\n",
    "#Pour faire le tri uniquement sur les long métrage (movies) utiliser les ligne ssuivantes et commenter celle juste au dessus à la place\n",
    "#titlebasics = titlebasics[[\"tconst\",\"titleType\",\"originalTitle\"]][titlebasics['titleType'].str.contains('movie', regex=True)]\n",
    "#titlebasics = titlebasics.drop(['titleType'])"
   ]
  },
  {
   "cell_type": "code",
   "execution_count": 23,
   "metadata": {},
   "outputs": [
    {
     "output_type": "execute_result",
     "data": {
      "text/plain": "      tconst           originalTitle\n0  tt0000001              Carmencita\n1  tt0000002  Le clown et ses chiens\n2  tt0000003          Pauvre Pierrot\n3  tt0000004             Un bon bock\n4  tt0000005        Blacksmith Scene",
      "text/html": "<div>\n<style scoped>\n    .dataframe tbody tr th:only-of-type {\n        vertical-align: middle;\n    }\n\n    .dataframe tbody tr th {\n        vertical-align: top;\n    }\n\n    .dataframe thead th {\n        text-align: right;\n    }\n</style>\n<table border=\"1\" class=\"dataframe\">\n  <thead>\n    <tr style=\"text-align: right;\">\n      <th></th>\n      <th>tconst</th>\n      <th>originalTitle</th>\n    </tr>\n  </thead>\n  <tbody>\n    <tr>\n      <th>0</th>\n      <td>tt0000001</td>\n      <td>Carmencita</td>\n    </tr>\n    <tr>\n      <th>1</th>\n      <td>tt0000002</td>\n      <td>Le clown et ses chiens</td>\n    </tr>\n    <tr>\n      <th>2</th>\n      <td>tt0000003</td>\n      <td>Pauvre Pierrot</td>\n    </tr>\n    <tr>\n      <th>3</th>\n      <td>tt0000004</td>\n      <td>Un bon bock</td>\n    </tr>\n    <tr>\n      <th>4</th>\n      <td>tt0000005</td>\n      <td>Blacksmith Scene</td>\n    </tr>\n  </tbody>\n</table>\n</div>"
     },
     "metadata": {},
     "execution_count": 23
    }
   ],
   "source": [
    "titlebasics.head()"
   ]
  },
  {
   "cell_type": "code",
   "execution_count": 24,
   "metadata": {},
   "outputs": [],
   "source": [
    "titleratings = titleratings.dropna(axis=0)\n",
    "titleratings = titleratings.drop_duplicates()\n",
    "titleratings = titleratings.drop(['numVotes'], axis=1)"
   ]
  },
  {
   "cell_type": "code",
   "execution_count": 25,
   "metadata": {},
   "outputs": [
    {
     "output_type": "execute_result",
     "data": {
      "text/plain": "      tconst  averageRating\n0  tt0000001            5.6\n1  tt0000002            6.1\n2  tt0000003            6.5\n3  tt0000004            6.2\n4  tt0000005            6.1",
      "text/html": "<div>\n<style scoped>\n    .dataframe tbody tr th:only-of-type {\n        vertical-align: middle;\n    }\n\n    .dataframe tbody tr th {\n        vertical-align: top;\n    }\n\n    .dataframe thead th {\n        text-align: right;\n    }\n</style>\n<table border=\"1\" class=\"dataframe\">\n  <thead>\n    <tr style=\"text-align: right;\">\n      <th></th>\n      <th>tconst</th>\n      <th>averageRating</th>\n    </tr>\n  </thead>\n  <tbody>\n    <tr>\n      <th>0</th>\n      <td>tt0000001</td>\n      <td>5.6</td>\n    </tr>\n    <tr>\n      <th>1</th>\n      <td>tt0000002</td>\n      <td>6.1</td>\n    </tr>\n    <tr>\n      <th>2</th>\n      <td>tt0000003</td>\n      <td>6.5</td>\n    </tr>\n    <tr>\n      <th>3</th>\n      <td>tt0000004</td>\n      <td>6.2</td>\n    </tr>\n    <tr>\n      <th>4</th>\n      <td>tt0000005</td>\n      <td>6.1</td>\n    </tr>\n  </tbody>\n</table>\n</div>"
     },
     "metadata": {},
     "execution_count": 25
    }
   ],
   "source": [
    "titleratings.head()"
   ]
  },
  {
   "cell_type": "code",
   "execution_count": 38,
   "metadata": {},
   "outputs": [],
   "source": [
    "dfmergeone = titleakas.merge(titlebasics,on='tconst',how='left')\n",
    "dfmergetwo = dfmergeone.merge( titleratings, on='tconst', how='left')\n",
    "dfmergetwo = dfmergetwo.dropna(axis=0)\n",
    "dfmergetwo = dfmergetwo.drop_duplicates()"
   ]
  },
  {
   "cell_type": "code",
   "execution_count": 42,
   "metadata": {},
   "outputs": [],
   "source": [
    "df_final = dfmergetwo.to_csv('./data/titleFilmsUS.csv')"
   ]
  },
  {
   "cell_type": "code",
   "execution_count": 39,
   "metadata": {},
   "outputs": [
    {
     "output_type": "execute_result",
     "data": {
      "text/plain": "      tconst region                                originalTitle  \\\n0  tt0000001     US                                   Carmencita   \n1  tt0000002     US                       Le clown et ses chiens   \n2  tt0000005     US                             Blacksmith Scene   \n3  tt0000006     US                            Chinese Opium Den   \n4  tt0000007     US  Corbett and Courtney Before the Kinetograph   \n\n   averageRating  \n0            5.6  \n1            6.1  \n2            6.1  \n3            5.2  \n4            5.5  ",
      "text/html": "<div>\n<style scoped>\n    .dataframe tbody tr th:only-of-type {\n        vertical-align: middle;\n    }\n\n    .dataframe tbody tr th {\n        vertical-align: top;\n    }\n\n    .dataframe thead th {\n        text-align: right;\n    }\n</style>\n<table border=\"1\" class=\"dataframe\">\n  <thead>\n    <tr style=\"text-align: right;\">\n      <th></th>\n      <th>tconst</th>\n      <th>region</th>\n      <th>originalTitle</th>\n      <th>averageRating</th>\n    </tr>\n  </thead>\n  <tbody>\n    <tr>\n      <th>0</th>\n      <td>tt0000001</td>\n      <td>US</td>\n      <td>Carmencita</td>\n      <td>5.6</td>\n    </tr>\n    <tr>\n      <th>1</th>\n      <td>tt0000002</td>\n      <td>US</td>\n      <td>Le clown et ses chiens</td>\n      <td>6.1</td>\n    </tr>\n    <tr>\n      <th>2</th>\n      <td>tt0000005</td>\n      <td>US</td>\n      <td>Blacksmith Scene</td>\n      <td>6.1</td>\n    </tr>\n    <tr>\n      <th>3</th>\n      <td>tt0000006</td>\n      <td>US</td>\n      <td>Chinese Opium Den</td>\n      <td>5.2</td>\n    </tr>\n    <tr>\n      <th>4</th>\n      <td>tt0000007</td>\n      <td>US</td>\n      <td>Corbett and Courtney Before the Kinetograph</td>\n      <td>5.5</td>\n    </tr>\n  </tbody>\n</table>\n</div>"
     },
     "metadata": {},
     "execution_count": 39
    }
   ],
   "source": [
    "dfmergetwo.head()"
   ]
  },
  {
   "cell_type": "code",
   "execution_count": 40,
   "metadata": {
    "tags": []
   },
   "outputs": [
    {
     "output_type": "stream",
     "name": "stdout",
     "text": "6.768652980099126\n"
    }
   ],
   "source": [
    "mean_averageRating = dfmergetwo['averageRating'].mean()\n",
    "print (mean_averageRating)"
   ]
  },
  {
   "cell_type": "code",
   "execution_count": null,
   "metadata": {},
   "outputs": [],
   "source": []
  },
  {
   "cell_type": "code",
   "execution_count": null,
   "metadata": {},
   "outputs": [],
   "source": []
  },
  {
   "cell_type": "code",
   "execution_count": null,
   "metadata": {},
   "outputs": [],
   "source": []
  },
  {
   "cell_type": "code",
   "execution_count": null,
   "metadata": {},
   "outputs": [],
   "source": []
  },
  {
   "source": [
    "3EME REQUETE"
   ],
   "cell_type": "markdown",
   "metadata": {}
  },
  {
   "cell_type": "code",
   "execution_count": 54,
   "metadata": {
    "tags": []
   },
   "outputs": [
    {
     "output_type": "stream",
     "name": "stdout",
     "text": "Drama                          610744\n\\N                             501313\nComedy                         463844\nDocumentary                    311479\nTalk-Show                      309046\n                                ...  \nAction,Documentary,Thriller         1\nAdult,Animation,Documentary         1\nCrime,Family,News                   1\nCrime,Documentary,Musical           1\nAnimation,Reality-TV,Short          1\nName: genres, Length: 2235, dtype: int64\n"
    }
   ],
   "source": [
    "#Compte du nombre de \"genre multiple\" unique\n",
    "titlebasics = pd.read_table(\"./data/title.basics.tsv\")\n",
    "resultat = titlebasics.genres.value_counts()\n",
    "print (resultat)"
   ]
  },
  {
   "cell_type": "code",
   "execution_count": 55,
   "metadata": {
    "tags": []
   },
   "outputs": [
    {
     "output_type": "stream",
     "name": "stdout",
     "text": "tconst  titleType               primaryTitle  \\\n0        tt0000001      short                 Carmencita   \n1        tt0000002      short     Le clown et ses chiens   \n2        tt0000003      short             Pauvre Pierrot   \n3        tt0000004      short                Un bon bock   \n4        tt0000005      short           Blacksmith Scene   \n...            ...        ...                        ...   \n6321297  tt9916848  tvEpisode              Episode #3.17   \n6321298  tt9916850  tvEpisode              Episode #3.19   \n6321299  tt9916852  tvEpisode              Episode #3.20   \n6321300  tt9916856      short                   The Wind   \n6321301  tt9916880  tvEpisode  Horrid Henry Knows It All   \n\n                     originalTitle  isAdult startYear endYear runtimeMinutes  \\\n0                       Carmencita        0      1894      \\N              1   \n1           Le clown et ses chiens        0      1892      \\N              5   \n2                   Pauvre Pierrot        0      1892      \\N              4   \n3                      Un bon bock        0      1892      \\N             \\N   \n4                 Blacksmith Scene        0      1893      \\N              1   \n...                            ...      ...       ...     ...            ...   \n6321297              Episode #3.17        0      2010      \\N             \\N   \n6321298              Episode #3.19        0      2010      \\N             \\N   \n6321299              Episode #3.20        0      2010      \\N             \\N   \n6321300                   The Wind        0      2015      \\N             27   \n6321301  Horrid Henry Knows It All        0      2014      \\N             10   \n\n                           genres  \n0               Documentary,Short  \n1                 Animation,Short  \n2        Animation,Comedy,Romance  \n3                 Animation,Short  \n4                    Comedy,Short  \n...                           ...  \n6321297       Action,Drama,Family  \n6321298       Action,Drama,Family  \n6321299       Action,Drama,Family  \n6321300                     Short  \n6321301   Animation,Comedy,Family  \n\n[6321302 rows x 9 columns]\n"
    }
   ],
   "source": [
    "splittitle = titlebasics[\"genres\"].str.split(\",\", n = 1, expand = True)\n",
    "print(titlebasics)\n"
   ]
  },
  {
   "cell_type": "code",
   "execution_count": 48,
   "metadata": {},
   "outputs": [],
   "source": [
    "titleratings = pd.read_table('./data/title.ratings.tsv')"
   ]
  },
  {
   "cell_type": "code",
   "execution_count": 49,
   "metadata": {},
   "outputs": [
    {
     "output_type": "execute_result",
     "data": {
      "text/plain": "      tconst  averageRating  numVotes\n0  tt0000001            5.6      1550\n1  tt0000002            6.1       186\n2  tt0000003            6.5      1207\n3  tt0000004            6.2       113\n4  tt0000005            6.1      1934",
      "text/html": "<div>\n<style scoped>\n    .dataframe tbody tr th:only-of-type {\n        vertical-align: middle;\n    }\n\n    .dataframe tbody tr th {\n        vertical-align: top;\n    }\n\n    .dataframe thead th {\n        text-align: right;\n    }\n</style>\n<table border=\"1\" class=\"dataframe\">\n  <thead>\n    <tr style=\"text-align: right;\">\n      <th></th>\n      <th>tconst</th>\n      <th>averageRating</th>\n      <th>numVotes</th>\n    </tr>\n  </thead>\n  <tbody>\n    <tr>\n      <th>0</th>\n      <td>tt0000001</td>\n      <td>5.6</td>\n      <td>1550</td>\n    </tr>\n    <tr>\n      <th>1</th>\n      <td>tt0000002</td>\n      <td>6.1</td>\n      <td>186</td>\n    </tr>\n    <tr>\n      <th>2</th>\n      <td>tt0000003</td>\n      <td>6.5</td>\n      <td>1207</td>\n    </tr>\n    <tr>\n      <th>3</th>\n      <td>tt0000004</td>\n      <td>6.2</td>\n      <td>113</td>\n    </tr>\n    <tr>\n      <th>4</th>\n      <td>tt0000005</td>\n      <td>6.1</td>\n      <td>1934</td>\n    </tr>\n  </tbody>\n</table>\n</div>"
     },
     "metadata": {},
     "execution_count": 49
    }
   ],
   "source": [
    "titleratings.head()"
   ]
  }
 ]
}